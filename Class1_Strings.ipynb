{
 "cells": [
  {
   "cell_type": "code",
   "execution_count": 3,
   "id": "0a259f10",
   "metadata": {},
   "outputs": [
    {
     "name": "stdout",
     "output_type": "stream",
     "text": [
      "w\n"
     ]
    }
   ],
   "source": [
    "#Accessing the Individual Characters in a String \n",
    "str_1 = \"Hello, world!\"\n",
    "print(str_1[7])"
   ]
  },
  {
   "cell_type": "code",
   "execution_count": 1,
   "id": "401f6855",
   "metadata": {},
   "outputs": [
    {
     "name": "stdout",
     "output_type": "stream",
     "text": [
      "llo\n"
     ]
    }
   ],
   "source": [
    "#Printing a substring from a string using indexes\n",
    "a = \"Hello, world!\"\n",
    "print(a[2:5])"
   ]
  },
  {
   "cell_type": "code",
   "execution_count": 2,
   "id": "aa4579c9",
   "metadata": {},
   "outputs": [
    {
     "name": "stdout",
     "output_type": "stream",
     "text": [
      "13\n",
      "HELLO, WORLD!\n",
      "hello, world!\n",
      "Jello, world!\n"
     ]
    }
   ],
   "source": [
    "#Prints length of the string\n",
    "print(len(a))\n",
    "#Converts the String to Uppercase\n",
    "print(a.upper())\n",
    "#Converts the String to Lowercase\n",
    "print(a.lower())\n",
    "#Replaces 'J' Whereever the alphabet 'H' Appears\n",
    "print(a.replace(\"H\",\"J\"))"
   ]
  },
  {
   "cell_type": "code",
   "execution_count": 3,
   "id": "01916458",
   "metadata": {},
   "outputs": [
    {
     "name": "stdout",
     "output_type": "stream",
     "text": [
      "Hello, World!\n"
     ]
    }
   ],
   "source": [
    "#Concatenation of a String  \n",
    "b = \"Hello\"\n",
    "c = \"World\"\n",
    "print(b+\",\"+\" \"+c+\"!\")"
   ]
  },
  {
   "cell_type": "code",
   "execution_count": 4,
   "id": "ec2d01cd",
   "metadata": {},
   "outputs": [
    {
     "name": "stdout",
     "output_type": "stream",
     "text": [
      "['one', 'two', 'three', 'four']\n",
      "['1', '2', '3', '4', '5']\n",
      "['1', '2', '3', '4', '5']\n"
     ]
    }
   ],
   "source": [
    "#Splitting & printing the string with ' ' attribute\n",
    "my_string = 'one two three four'\n",
    "print(my_string.split())\n",
    "#Splitting & printing the string with '/' attribute\n",
    "my_string1 = '1/2/3/4/5'\n",
    "print(my_string1.split('/'))\n",
    "#Splitting & printing the string with '.' attribute\n",
    "my_string2 = '1.2.3.4.5'\n",
    "print(my_string2.split('.'))"
   ]
  },
  {
   "cell_type": "code",
   "execution_count": 4,
   "id": "73f90c09",
   "metadata": {},
   "outputs": [
    {
     "name": "stdout",
     "output_type": "stream",
     "text": [
      "['p', 'ach raspb', 'rry strawb', 'rry vanilla ']\n",
      "['pe', 'ch r', 'spberry str', 'wberry v', 'nill', ' ']\n",
      "['peach raspb', 'y strawb', 'y vanilla ']\n",
      "['p', 'ach raspb', 'rry strawb', 'rry vanilla ']\n"
     ]
    }
   ],
   "source": [
    "my_string3 = 'peach raspberry strawberry vanilla '\n",
    "#Splitting & printing the string with 'e' \n",
    "print(my_string3.split('e'))\n",
    "#Splitting & printing the string with 'a' \n",
    "print(my_string3.split('a'))\n",
    "#Splitting & printing the string with 'err' \n",
    "print(my_string3.split('err'))\n",
    "#Splitting & printing the string with 'e or a' \n",
    "print(my_string3.split('e' or 'a'))"
   ]
  },
  {
   "cell_type": "code",
   "execution_count": 6,
   "id": "b4ff871e",
   "metadata": {},
   "outputs": [
    {
     "name": "stdout",
     "output_type": "stream",
     "text": [
      "['17', '92', '81', '12', '46', '5']\n"
     ]
    }
   ],
   "source": [
    "my_nums = '17;92;81;12;46;5'\n",
    "#Splitting & printing the string with ';' attribute.\n",
    "print(my_nums.split(';'))"
   ]
  },
  {
   "cell_type": "code",
   "execution_count": 6,
   "id": "91615974",
   "metadata": {},
   "outputs": [
    {
     "name": "stdout",
     "output_type": "stream",
     "text": [
      "I am batman\n",
      "I am batman          \n",
      "     I am batman\n"
     ]
    }
   ],
   "source": [
    "d = '     I am batman      '\n",
    "#Removing all leading & trailing whitespace characters\n",
    "print(d.strip())\n",
    "#Removing all leading whitespace characters \n",
    "print(d.lstrip())\n",
    "#Removing all trailing whitespace characters \n",
    "print(d.rstrip())"
   ]
  },
  {
   "cell_type": "code",
   "execution_count": 9,
   "id": "1ace6053",
   "metadata": {},
   "outputs": [
    {
     "name": "stdout",
     "output_type": "stream",
     "text": [
      "I am batman\n",
      "I am batman@@@@@@\n",
      "@@@@@@I am batman\n"
     ]
    }
   ],
   "source": [
    "d = '@@@@@@I am batman@@@@@@'\n",
    "#Removing all leading and trailing '@' character \n",
    "print(d.strip('@'))\n",
    "#Removing all leading '@' character \n",
    "print(d.lstrip('@'))\n",
    "#Removing trailing '@' character \n",
    "print(d.rstrip('@'))"
   ]
  },
  {
   "cell_type": "code",
   "execution_count": 10,
   "id": "28eadb05",
   "metadata": {},
   "outputs": [
    {
     "name": "stdout",
     "output_type": "stream",
     "text": [
      "True\n",
      "False\n",
      "False\n",
      "False\n",
      "False\n",
      "False\n",
      "True\n",
      "1\n",
      "IisBatman1092\n"
     ]
    }
   ],
   "source": [
    "str = 'IamBatman1092'\n",
    "#Checking  if a string contains both alphabets & numbers \n",
    "print(str.isalnum())\n",
    "#Checking  if a string contains numbers \n",
    "print(str.isdigit())\n",
    "#Checking if a string contains alphabets  \n",
    "print(str.isalpha())\n",
    "#Checking  if all the characters of a string is uppercase\n",
    "print(str.isupper())\n",
    "#Checking  if all the characters of a string is lowercase\n",
    "print(str.islower())\n",
    "#Checking  if the ending character of a string is '9'\n",
    "print(str.endswith('9'))\n",
    "#Checking  if the starting character of a string is 'I'\n",
    "print(str.startswith('I'))\n",
    "#Returning the index of first occuraance of 'am'\n",
    "print(str.find('am'))\n",
    "#Replacing 'am' with 'is'\n",
    "print(str.replace('am','is'))"
   ]
  },
  {
   "cell_type": "code",
   "execution_count": null,
   "id": "cc33587a",
   "metadata": {},
   "outputs": [],
   "source": []
  }
 ],
 "metadata": {
  "kernelspec": {
   "display_name": "Python 3 (ipykernel)",
   "language": "python",
   "name": "python3"
  },
  "language_info": {
   "codemirror_mode": {
    "name": "ipython",
    "version": 3
   },
   "file_extension": ".py",
   "mimetype": "text/x-python",
   "name": "python",
   "nbconvert_exporter": "python",
   "pygments_lexer": "ipython3",
   "version": "3.9.7"
  },
  "varInspector": {
   "cols": {
    "lenName": 16,
    "lenType": 16,
    "lenVar": 40
   },
   "kernels_config": {
    "python": {
     "delete_cmd_postfix": "",
     "delete_cmd_prefix": "del ",
     "library": "var_list.py",
     "varRefreshCmd": "print(var_dic_list())"
    },
    "r": {
     "delete_cmd_postfix": ") ",
     "delete_cmd_prefix": "rm(",
     "library": "var_list.r",
     "varRefreshCmd": "cat(var_dic_list()) "
    }
   },
   "types_to_exclude": [
    "module",
    "function",
    "builtin_function_or_method",
    "instance",
    "_Feature"
   ],
   "window_display": false
  }
 },
 "nbformat": 4,
 "nbformat_minor": 5
}
