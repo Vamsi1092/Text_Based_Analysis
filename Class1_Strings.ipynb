{
 "cells": [
  {
   "cell_type": "markdown",
   "id": "59c62fb2",
   "metadata": {},
   "source": [

    "# Text Based Analysis/Week-2 - Strings"
    "#Accessing the Individual Characters in a Stringgg \n",
    "str_1 = \"Hello, world!\"\n",
    "print(str_1[7])"
     main
   ]
  },
  {
   "cell_type": "code",
   "execution_count": 1,
   "id": "a6c22b91",
   "metadata": {},
   "outputs": [
    {
     "name": "stdout",
     "output_type": "stream",
     "text": [
      "l\n"
     ]
    }
   ],
   "source": [
    "# Accesing a character from a string using a index value\n",
    "a = \"Hello, world!\"\n",
    "print(a[3])"
   ]
  },
  {
   "cell_type": "code",
   "execution_count": null,
   "id": "677164ab",
   "metadata": {},
   "outputs": [],
   "source": [
    "# Returning a substring from a string using indexes\n",
    "a = \"Hello, world!\"\n",
    "print(a[2:5])"
   ]
  },
  {
   "cell_type": "markdown",
   "id": "33b9eb86",
   "metadata": {},
   "source": [
    "## STRING MODIFICATION METHODS"
   ]
  },
  {
   "cell_type": "code",
   "execution_count": 2,
   "id": "aa4579c9",
   "metadata": {},
   "outputs": [
    {
     "name": "stdout",
     "output_type": "stream",
     "text": [
      "13\n",
      "HELLO, WORLD!\n",
      "hello, world!\n",
      "Jello, world!\n"
     ]
    }
   ],
   "source": [
    "# Returns length of the string\n",
    "print(len(a))"
   ]
  },
  {
   "cell_type": "code",
   "execution_count": null,
   "id": "62ef292e",
   "metadata": {},
   "outputs": [],
   "source": [
    "# Converts the String to Uppercase\n",
    "print(a.upper())\n",
    "# Converts the String to Lowercase\n",
    "print(a.lower())"
   ]
  },
  {
   "cell_type": "code",
   "execution_count": null,
   "id": "7991ed45",
   "metadata": {},
   "outputs": [],
   "source": [
    "# Replaces 'J' Whereever the alphabet 'H' Appears\n",
    "print(a.replace(\"H\",\"J\"))"
   ]
  },
  {
   "cell_type": "code",
   "execution_count": 3,
   "id": "01916458",
   "metadata": {},
   "outputs": [
    {
     "name": "stdout",
     "output_type": "stream",
     "text": [
      "Hello, World!\n"
     ]
    }
   ],
   "source": [
    "# Concatenation of a String  \n",
    "b = \"Hello\"\n",
    "c = \"World\"\n",
    "print(b+\",\"+\" \"+c+\"!\")"
   ]
  },
  {
   "cell_type": "code",
   "execution_count": 4,
   "id": "ec2d01cd",
   "metadata": {},
   "outputs": [
    {
     "name": "stdout",
     "output_type": "stream",
     "text": [
      "['one', 'two', 'three', 'four']\n",
      "['1', '2', '3', '4', '5']\n",
      "['1', '2', '3', '4', '5']\n"
     ]
    }
   ],
   "source": [
    "# Splitting  the string with ' ' attribute\n",
    "my_string = 'one two three four'\n",
    "print(my_string.split())"
   ]
  },
  {
   "cell_type": "markdown",
   "id": "72535cd8",
   "metadata": {},
   "source": [
    "### We can also use split method with other special characters as attributes, for ex: /,."
   ]
  },
  {
   "cell_type": "code",
   "execution_count": null,
   "id": "103de8a4",
   "metadata": {},
   "outputs": [],
   "source": [
    "# Splitting  the string with '/' attribute\n",
    "my_string1 = '1/2/3/4/5'\n",
    "print(my_string1.split('/'))\n",
    "# Splitting  the string with '.' attribute\n",
    "my_string2 = '1.2.3.4.5'\n",
    "print(my_string2.split('.'))"
   ]
  },
  {
   "cell_type": "markdown",
   "id": "6d5e06f1",
   "metadata": {},
   "source": [
    "### We can also use alphabets  as attributes for split method."
   ]
  },
  {
   "cell_type": "code",
   "execution_count": 3,
   "id": "73f90c09",
   "metadata": {},
   "outputs": [
    {
     "name": "stdout",
     "output_type": "stream",
     "text": [
      "['p', 'ach raspb', 'rry strawb', 'rry vanilla ']\n",
      "['pe', 'ch r', 'spberry str', 'wberry v', 'nill', ' ']\n",
      "['peach raspb', 'y strawb', 'y vanilla ']\n"
     ]
    }
   ],
   "source": [
    "my_string3 = 'peach raspberry strawberry vanilla '\n",
    "# Splitting  the string with 'e' \n",
    "print(my_string3.split('e'))\n",
    "# Splitting  the string with 'a' \n",
    "print(my_string3.split('a'))\n",
    "# Splitting  the string with 'err' \n",
    "print(my_string3.split('err'))"
   ]
  },
  {
   "cell_type": "markdown",
   "id": "9236fe95",
   "metadata": {},
   "source": [
    "### We can remove all leading & Trailing empty white spaces with the methods given below"
   ]
  },
  {
   "cell_type": "code",
   "execution_count": 6,
   "id": "91615974",
   "metadata": {},
   "outputs": [
    {
     "name": "stdout",
     "output_type": "stream",
     "text": [
      "I am batman\n",
      "I am batman          \n",
      "     I am batman\n"
     ]
    }
   ],
   "source": [
    "mystr = '     I am batman      '\n",
    "# Removes all leading & trailing whitespace characters\n",
    "print(mystr.strip())\n",
    "# Removes all leading whitespace characters \n",
    "print(mystr.lstrip())\n",
    "# Removes all trailing whitespace characters \n",
    "print(mystr.rstrip())"
   ]
  },
  {
   "cell_type": "markdown",
   "id": "3d2c768f",
   "metadata": {},
   "source": [
    "### We can also remove leading & Trailing special characters"
   ]
  },
  {
   "cell_type": "code",
   "execution_count": 9,
   "id": "1ace6053",
   "metadata": {},
   "outputs": [
    {
     "name": "stdout",
     "output_type": "stream",
     "text": [
      "I am batman\n",
      "I am batman@@@@@@\n",
      "@@@@@@I am batman\n"
     ]
    }
   ],
   "source": [
    "mystr = '@@@@@@I am batman@@@@@@'\n",
    "# Removing all leading and trailing '@' character \n",
    "print(mystr.strip('@'))\n",
    "# Removing all leading '@' character \n",
    "print(mystr.lstrip('@'))\n",
    "# Removing trailing '@' character \n",
    "print(mystr.rstrip('@'))"
   ]
  },
  {
   "cell_type": "markdown",
   "id": "cdf47240",
   "metadata": {},
   "source": [
    "## STRING TESTING METHODS"
   ]
  },
  {
   "cell_type": "markdown",
   "id": "c569e017",
   "metadata": {},
   "source": [
    "### There are many string testing methods each having a specific use case and are all listed in the below cell"
   ]
  },
  {
   "cell_type": "code",
   "execution_count": 4,
   "id": "28eadb05",
   "metadata": {},
   "outputs": [
    {
     "name": "stdout",
     "output_type": "stream",
     "text": [
      "True\n",
      "False\n",
      "False\n",
      "False\n",
      "True\n",
      "False\n",
      "False\n",
      "1\n",
      "iisbatman1092\n"
     ]
    }
   ],
   "source": [
    "str = 'IamBatman1092'\n",
    "# Checking  if a string contains both alphabets & numbers \n",
    "print(str.isalnum())\n",
    "# Checking  if a string contains numbers \n",
    "print(str.isdigit())\n",
    "# Checking if a string contains alphabets  \n",
    "print(str.isalpha())\n",
    "# Checking  if all the characters of a string is uppercase\n",
    "print(str.isupper())\n",
    "# Checking  if all the characters of a string is lowercase\n",
    "print(str.islower())\n",
    "# Checking  if the ending character of a string is '9'\n",
    "print(str.endswith('9'))\n",
    "# Checking  if the starting character of a string is 'I'\n",
    "print(str.startswith('I'))\n",
    "# Returning the index of first occuraance of 'am'\n",
    "print(str.find('am'))\n",
    "# Replacing 'am' with 'is'\n",
    "print(str.replace('am','is'))"
   ]
  }
 ],
 "metadata": {
  "kernelspec": {
   "display_name": "Python 3 (ipykernel)",
   "language": "python",
   "name": "python3"
  },
  "language_info": {
   "codemirror_mode": {
    "name": "ipython",
    "version": 3
   },
   "file_extension": ".py",
   "mimetype": "text/x-python",
   "name": "python",
   "nbconvert_exporter": "python",
   "pygments_lexer": "ipython3",
   "version": "3.10.2"
  },
  "varInspector": {
   "cols": {
    "lenName": 16,
    "lenType": 16,
    "lenVar": 40
   },
   "kernels_config": {
    "python": {
     "delete_cmd_postfix": "",
     "delete_cmd_prefix": "del ",
     "library": "var_list.py",
     "varRefreshCmd": "print(var_dic_list())"
    },
    "r": {
     "delete_cmd_postfix": ") ",
     "delete_cmd_prefix": "rm(",
     "library": "var_list.r",
     "varRefreshCmd": "cat(var_dic_list()) "
    }
   },
   "types_to_exclude": [
    "module",
    "function",
    "builtin_function_or_method",
    "instance",
    "_Feature"
   ],
   "window_display": false
  }
 },
 "nbformat": 4,
 "nbformat_minor": 5
}
