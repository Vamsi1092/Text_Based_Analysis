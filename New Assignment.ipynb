{
 "cells": [
  {
   "cell_type": "markdown",
   "id": "723f0f72",
   "metadata": {},
   "source": [
    "# LEXICON SCORING ALGORITHM - 2/7/24"
   ]
  },
  {
   "cell_type": "markdown",
   "id": "c648930f",
   "metadata": {},
   "source": [
    "## Importing all necessary libraries"
   ]
  },
  {
   "cell_type": "code",
   "execution_count": 1,
   "id": "948b18b0",
   "metadata": {},
   "outputs": [],
   "source": [
    "# Import all the necessary Libraries\n",
    "import pandas as pd"
   ]
  },
  {
   "cell_type": "markdown",
   "id": "2a868438",
   "metadata": {},
   "source": [
    "## Reading the data"
   ]
  },
  {
   "cell_type": "code",
   "execution_count": 9,
   "id": "e70129aa",
   "metadata": {},
   "outputs": [
    {
     "data": {
      "text/html": [
       "<div>\n",
       "<style scoped>\n",
       "    .dataframe tbody tr th:only-of-type {\n",
       "        vertical-align: middle;\n",
       "    }\n",
       "\n",
       "    .dataframe tbody tr th {\n",
       "        vertical-align: top;\n",
       "    }\n",
       "\n",
       "    .dataframe thead th {\n",
       "        text-align: right;\n",
       "    }\n",
       "</style>\n",
       "<table border=\"1\" class=\"dataframe\">\n",
       "  <thead>\n",
       "    <tr style=\"text-align: right;\">\n",
       "      <th></th>\n",
       "      <th>deceptive</th>\n",
       "      <th>hotel</th>\n",
       "      <th>polarity</th>\n",
       "      <th>source</th>\n",
       "      <th>text</th>\n",
       "    </tr>\n",
       "  </thead>\n",
       "  <tbody>\n",
       "    <tr>\n",
       "      <th>0</th>\n",
       "      <td>truthful</td>\n",
       "      <td>conrad</td>\n",
       "      <td>positive</td>\n",
       "      <td>TripAdvisor</td>\n",
       "      <td>We stayed for a one night getaway with family ...</td>\n",
       "    </tr>\n",
       "    <tr>\n",
       "      <th>1</th>\n",
       "      <td>truthful</td>\n",
       "      <td>hyatt</td>\n",
       "      <td>positive</td>\n",
       "      <td>TripAdvisor</td>\n",
       "      <td>Triple A rate with upgrade to view room was le...</td>\n",
       "    </tr>\n",
       "    <tr>\n",
       "      <th>2</th>\n",
       "      <td>truthful</td>\n",
       "      <td>hyatt</td>\n",
       "      <td>positive</td>\n",
       "      <td>TripAdvisor</td>\n",
       "      <td>This comes a little late as I'm finally catchi...</td>\n",
       "    </tr>\n",
       "    <tr>\n",
       "      <th>3</th>\n",
       "      <td>truthful</td>\n",
       "      <td>omni</td>\n",
       "      <td>positive</td>\n",
       "      <td>TripAdvisor</td>\n",
       "      <td>The Omni Chicago really delivers on all fronts...</td>\n",
       "    </tr>\n",
       "    <tr>\n",
       "      <th>4</th>\n",
       "      <td>truthful</td>\n",
       "      <td>hyatt</td>\n",
       "      <td>positive</td>\n",
       "      <td>TripAdvisor</td>\n",
       "      <td>I asked for a high floor away from the elevato...</td>\n",
       "    </tr>\n",
       "    <tr>\n",
       "      <th>5</th>\n",
       "      <td>truthful</td>\n",
       "      <td>omni</td>\n",
       "      <td>positive</td>\n",
       "      <td>TripAdvisor</td>\n",
       "      <td>I stayed at the Omni for one night following a...</td>\n",
       "    </tr>\n",
       "    <tr>\n",
       "      <th>6</th>\n",
       "      <td>truthful</td>\n",
       "      <td>conrad</td>\n",
       "      <td>positive</td>\n",
       "      <td>TripAdvisor</td>\n",
       "      <td>We stayed in the Conrad for 4 nights just befo...</td>\n",
       "    </tr>\n",
       "    <tr>\n",
       "      <th>7</th>\n",
       "      <td>truthful</td>\n",
       "      <td>omni</td>\n",
       "      <td>positive</td>\n",
       "      <td>TripAdvisor</td>\n",
       "      <td>Just got back from 2 days up in Chicago shoppi...</td>\n",
       "    </tr>\n",
       "    <tr>\n",
       "      <th>8</th>\n",
       "      <td>truthful</td>\n",
       "      <td>omni</td>\n",
       "      <td>positive</td>\n",
       "      <td>TripAdvisor</td>\n",
       "      <td>We arrived at the Omni on 2nd September for a ...</td>\n",
       "    </tr>\n",
       "    <tr>\n",
       "      <th>9</th>\n",
       "      <td>truthful</td>\n",
       "      <td>hyatt</td>\n",
       "      <td>positive</td>\n",
       "      <td>TripAdvisor</td>\n",
       "      <td>On our visit to Chicago, we chose the Hyatt du...</td>\n",
       "    </tr>\n",
       "  </tbody>\n",
       "</table>\n",
       "</div>"
      ],
      "text/plain": [
       "  deceptive   hotel  polarity       source  \\\n",
       "0  truthful  conrad  positive  TripAdvisor   \n",
       "1  truthful   hyatt  positive  TripAdvisor   \n",
       "2  truthful   hyatt  positive  TripAdvisor   \n",
       "3  truthful    omni  positive  TripAdvisor   \n",
       "4  truthful   hyatt  positive  TripAdvisor   \n",
       "5  truthful    omni  positive  TripAdvisor   \n",
       "6  truthful  conrad  positive  TripAdvisor   \n",
       "7  truthful    omni  positive  TripAdvisor   \n",
       "8  truthful    omni  positive  TripAdvisor   \n",
       "9  truthful   hyatt  positive  TripAdvisor   \n",
       "\n",
       "                                                text  \n",
       "0  We stayed for a one night getaway with family ...  \n",
       "1  Triple A rate with upgrade to view room was le...  \n",
       "2  This comes a little late as I'm finally catchi...  \n",
       "3  The Omni Chicago really delivers on all fronts...  \n",
       "4  I asked for a high floor away from the elevato...  \n",
       "5  I stayed at the Omni for one night following a...  \n",
       "6  We stayed in the Conrad for 4 nights just befo...  \n",
       "7  Just got back from 2 days up in Chicago shoppi...  \n",
       "8  We arrived at the Omni on 2nd September for a ...  \n",
       "9  On our visit to Chicago, we chose the Hyatt du...  "
      ]
     },
     "execution_count": 9,
     "metadata": {},
     "output_type": "execute_result"
    }
   ],
   "source": [
    "# Reading the data \n",
    "df = pd.read_csv(\"C:/Users/LENOVO/OneDrive/Desktop/TextBasedAnalysis/deceptive-opinion.csv\")\n",
    "df.reset_index(drop=True, inplace=True)\n",
    "df.head(10)"
   ]
  },
  {
   "cell_type": "markdown",
   "id": "8c4de49f",
   "metadata": {},
   "source": [
    "## Exploring Opinion Lexicon in NLTK Library"
   ]
  },
  {
   "cell_type": "code",
   "execution_count": 10,
   "id": "64841df5",
   "metadata": {},
   "outputs": [
    {
     "name": "stdout",
     "output_type": "stream",
     "text": [
      "Total number of words in opinion lexicon 6789\n",
      "Examples of positive words in opinion lexicon ['a+', 'abound', 'abounds', 'abundance', 'abundant', 'accessable', 'accessible', 'acclaim', 'acclaimed', 'acclamation']\n",
      "Examples of negative words in opinion lexicon ['2-faced', '2-faces', 'abnormal', 'abolish', 'abominable', 'abominably', 'abominate', 'abomination', 'abort', 'aborted']\n"
     ]
    },
    {
     "name": "stderr",
     "output_type": "stream",
     "text": [
      "[nltk_data] Downloading package opinion_lexicon to\n",
      "[nltk_data]     C:\\Users\\LENOVO\\AppData\\Roaming\\nltk_data...\n",
      "[nltk_data]   Package opinion_lexicon is already up-to-date!\n"
     ]
    }
   ],
   "source": [
    "# Import necessary Libraries\n",
    "from sklearn import preprocessing\n",
    "import nltk\n",
    "nltk.download('opinion_lexicon')\n",
    "# Importing the opinion_lexicon corpus, which contains positive&negative opinion words\n",
    "from nltk.corpus import opinion_lexicon\n",
    "# Importing word_tokenize function, which is used for tokenizing words\n",
    "from nltk.tokenize import word_tokenize\n",
    "\n",
    "print('Total number of words in opinion lexicon', len(opinion_lexicon.words()))\n",
    "print('Examples of positive words in opinion lexicon',\n",
    "      opinion_lexicon.positive()[:10])\n",
    "print('Examples of negative words in opinion lexicon',\n",
    "      opinion_lexicon.negative()[:10])"
   ]
  },
  {
   "cell_type": "markdown",
   "id": "7a0d9158",
   "metadata": {},
   "source": [
    "## Creation of Dictionary for Sentiment Analysis"
   ]
  },
  {
   "cell_type": "code",
   "execution_count": 11,
   "id": "cb59ace9",
   "metadata": {},
   "outputs": [
    {
     "name": "stderr",
     "output_type": "stream",
     "text": [
      "[nltk_data] Downloading package punkt to\n",
      "[nltk_data]     C:\\Users\\LENOVO\\AppData\\Roaming\\nltk_data...\n",
      "[nltk_data]   Package punkt is already up-to-date!\n"
     ]
    }
   ],
   "source": [
    "# Let's create a dictionary which we can use for scoring our review text\n",
    "nltk.download('punkt')\n",
    "df.rename(columns={\"reviewText\": \"text\"}, inplace=True)\n",
    "pos_score = 1\n",
    "neg_score = -1\n",
    "word_dict = {}\n",
    " \n",
    "# Adding the positive words to the dictionary\n",
    "for word in opinion_lexicon.positive():\n",
    "        word_dict[word] = pos_score\n",
    "      \n",
    "# Adding the negative words to the dictionary\n",
    "for word in opinion_lexicon.negative():\n",
    "        word_dict[word] = neg_score\n"
   ]
  },
  {
   "cell_type": "markdown",
   "id": "11b62819",
   "metadata": {},
   "source": [
    "## Calculating Sentiment Score with Bing Liu Lexicon"
   ]
  },
  {
   "cell_type": "code",
   "execution_count": 12,
   "id": "a506c8db",
   "metadata": {},
   "outputs": [],
   "source": [
    "#Creating a fuunction text\n",
    "def bing_liu_score(text):\n",
    "    #Initializing the sentiment score\n",
    "    sentiment_score = 0\n",
    "    #Tokenizing the input text into words and convert them to lowercase\n",
    "    bag_of_words = word_tokenize(text.lower())\n",
    "     # creating loop to check each word in the bag of words\n",
    "    for word in bag_of_words:\n",
    "        #Checking if the word exists in the sentiment dictionary\n",
    "        if word in word_dict:\n",
    "            # If the word exist, adding its sentiment score to the sentiment score\n",
    "            sentiment_score += word_dict[word]\n",
    "    return sentiment_score  #Returning the sentiment score for the text"
   ]
  },
  {
   "cell_type": "code",
   "execution_count": 14,
   "id": "8f141a58",
   "metadata": {},
   "outputs": [],
   "source": [
    "# Fill NaN values in the 'text' column\n",
    "df['text'].fillna('NA', inplace=True)\n",
    "#creating new column 'Bing_Liu_Score' to store the scores by applying  bing_liu_score to calculate sentiment scores for each text\n",
    "df['Bing_Liu_Score'] = df['text'].apply(bing_liu_score)"
   ]
  },
  {
   "cell_type": "code",
   "execution_count": null,
   "id": "3306634b",
   "metadata": {},
   "outputs": [],
   "source": [
    "# Displaying the first 10 rows of the DataFrame with few columns\n",
    "df[[\"text\", 'Bing_Liu_Score']].head(10)"
   ]
  },
  {
   "cell_type": "markdown",
   "id": "0099b2e1",
   "metadata": {},
   "source": [
    "## Calculating mean sentiment score"
   ]
  },
  {
   "cell_type": "code",
   "execution_count": 15,
   "id": "300c0b19",
   "metadata": {},
   "outputs": [
    {
     "data": {
      "text/html": [
       "<div>\n",
       "<style scoped>\n",
       "    .dataframe tbody tr th:only-of-type {\n",
       "        vertical-align: middle;\n",
       "    }\n",
       "\n",
       "    .dataframe tbody tr th {\n",
       "        vertical-align: top;\n",
       "    }\n",
       "\n",
       "    .dataframe thead th {\n",
       "        text-align: right;\n",
       "    }\n",
       "</style>\n",
       "<table border=\"1\" class=\"dataframe\">\n",
       "  <thead>\n",
       "    <tr style=\"text-align: right;\">\n",
       "      <th></th>\n",
       "      <th>Bing_Liu_Score</th>\n",
       "    </tr>\n",
       "    <tr>\n",
       "      <th>text</th>\n",
       "      <th></th>\n",
       "    </tr>\n",
       "  </thead>\n",
       "  <tbody>\n",
       "    <tr>\n",
       "      <th>I stayed at the Sheraton Chicago Hotel and Towers a couple nights ago. The service was excellent!! As soon as i stepped through the door they grabbed my bags, and were helping me choose the best hotel room for me! I loved there service and the room was gorgeous! I highly recommend it for anyone, and there prices aren't as bad as others. I loved the experience and I'm sure next time I'm in the area I'll visit again!\\n</th>\n",
       "      <td>6.0</td>\n",
       "    </tr>\n",
       "    <tr>\n",
       "      <th>If you are traveling anywhere near Lake Michigan within the next year or less, I would highly recommend staying at The Sofitel Hotel. Unbeatable elegance, fine dining, and magnificent views are only just a few amenities to speak of. Along with excellent service and reasonable pricing you will be assured to get a quality nights rest. If there were such a thing as a 10 star rating, The Sofitel would surely have it. My visit and stay there was nothing short of elegance and comfort. Located minutes from everything in downtown Chicago, one would hardly want to leave. Fine dining, dancing, and an evening bar will leave you absolutely relaxing after any meeting, or social event in town. The Sofitel Hotel will leave you wanting to visit the moment you leave.\\n</th>\n",
       "      <td>10.0</td>\n",
       "    </tr>\n",
       "    <tr>\n",
       "      <th>If you are traveling to Chicago and need a place to stay, I highly recommend the Hotel Allegro Chicago. It was visiting time visiting Chicago for the first time on a business trip and a friend referred me to the Hotel Allegro. He said they were pet friendly,which was a huge plus. This is because I hate leaving my kitten muffin with a pet sitter every time I travel for business. Upon my arrival, I was met with friendly valet who treated me like I was the only customer who mattered. I walked in and saw a hotel like no other I have seen before or after. The lobby was decorated with modern furniture and paintings and looked like a place I could relax in. After I had entered and checked in, I saw the staircase, which looked like a testament to the staircase in the 'Titanic'. Frankly, I was amazed and I had not even entered my room yet. My room was a Queen Deluxe room and it was amazing. The bed had a blue headboard,which I have never seen before, and the colors worked together so well I seriously contemplated living there. The room service was exceptional and promptly brought the food I ordered. Later I wanted to get a drink and I enjoyed it at The Bar 312, which is conveniently located adjacent to the hotel. These are the specifics of my stay, but there is much more to be experienced that I did not mention if you visit the Hotel Allegro. In summary, they allow pets, the service is amazing, the decoration superb, and it is conveniently situated next to dining establishments. What more could a person ask for?\\n</th>\n",
       "      <td>18.0</td>\n",
       "    </tr>\n",
       "    <tr>\n",
       "      <th>My wife and I's stay at the Sheraton Chicago Hotel and Towers proved to be the perfect complement to our time spent visiting and exploring the Windy City. Upon our arrival, we were immediately welcomed by the beautiful design of the first-floor lobby and the friendly demeanor of the desk and bell service staff. In seemingly no time at all we were in our clean and well-furnished room with a beautiful and peaceful view of Lake Michigan. In terms of accommodations, I have never personally stayed at a hotel that I could complement more. On our very first night, my wife took advantage of a message therapy session while I swam a few laps in the heated indoor swimming pool. We followed our time apart with a very relaxing time at the Chi bar, which had a very enlivening and laid-back atmosphere. Retiring to our rooms, I couldn't help but remark to my wife about the quality of our room and the bed in particular. I had a very comfortable night's sleep and woke up just on time thanks to a spot-on wake up call from the desk staff. After a quick bite to eat the LB Bistro, we headed out to sight-see. Overall, I can't recommend the Sheraton Chicago Hotel and Towers enough. As far as this customer is concerned, it is the only place to stay if you are in the Chicago area and are looking for accommodations with the best customer service, atmosphere, and amenities. I couldn't recommend it more. \\n</th>\n",
       "      <td>13.0</td>\n",
       "    </tr>\n",
       "    <tr>\n",
       "      <th>The Hard Rock Hotel Chicago is great alternative to ordinary hotels. The hotel is decorated with a huge variety of music memorabilia that makes the stay worth it alone. The hotel is often visited by many talented artists including singers, dancers,actors etc. The staff were very polite and helpful and always pleasant. The rooms were very clean and nicely decorated, as were the common areas and hallways. I would highly recommend the hotel to anyone staying in the area.\\n</th>\n",
       "      <td>9.0</td>\n",
       "    </tr>\n",
       "    <tr>\n",
       "      <th>...</th>\n",
       "      <td>...</td>\n",
       "    </tr>\n",
       "    <tr>\n",
       "      <th>we stayed here in january when it was -20. but even then we enjoyed it so much we could not wait to get back. chicago is a great town to visit and the homewood suites is the place to stay, period. now we stayed from the 9/5/2009 to 9/5/2009 and enjoyed every day. (p.s. the weather was in the high 70s). to get back to the hotel, it was fantastic, it has everything you need and its write in the heart of the city. two seperate rooms were very handy as we had our teenage son. full kitchen, (laundry on 7th floor) seveal foodmarkets within walking distance, everything within walking distance. you wont need a car and at $42 for valet parking you wont want one. dont take my word for it , check it out you wont be disappointed. oh and did i mention free breakfast and dinner . job done. its a no brainer book now. p.s. theres also a beach within walking distance \\n</th>\n",
       "      <td>5.0</td>\n",
       "    </tr>\n",
       "    <tr>\n",
       "      <th>went to chicago for a week in may, decided to be good to ourselves and stay in the hilton, we were not disapointed. perhaps it was becuse there were quite a few conventions going on and a lot of people were only staying 1 or 2 nights but we got upgraged to exceutive level. we had 2 double beds with a bathroom each. they beds and pillows were too die for, so so comfy ant the end of a day when we seemed to have walked for miles. all the staff were very helpful. a lot of guests seemed to ignore the staff especially the chamber maids who they seemed to think they were in their way so perhaps that why some people felt these people were rude or unhelpful. about 2 blocks away on Harrison is a cafe called 'Orange' which you have to make the only place you will have breakfast, the cafe and the staff are suberb. expect a 15 min wait on a sat &amp; sun morning. \\n</th>\n",
       "      <td>-2.0</td>\n",
       "    </tr>\n",
       "    <tr>\n",
       "      <th>when i first checked the hotel's website and reviews i was completely sure that it would be a great hotel and i would have a great time there. but i was totally disappointed once i got there, first of all i asked for a nonsmoking room because i hate the odor , and in fact they gave me a non smoking room which smelled worse than a smoking one, it was smelly in a bad way it smelled like sweat and dirty laundry or something like that. then when i was trying to enjoy the view, they windows were all dusty and dirty. so i decided to get out of the room , and i went to the pool and it wasnt what i expected either it has nothing to do with the picture . so i went back to my room and called room service for them to complain about the smell and dirt so they gave me another room which smelled even worse!. i was about to freak out so they gave me some deodorant and it was tolerable; the bed was uncomfortable and the bathroom eww!, its all i can say about this hotel.\\n</th>\n",
       "      <td>-12.0</td>\n",
       "    </tr>\n",
       "    <tr>\n",
       "      <th>when we arrived the check in process was fairly quick, however the staff seemed in a bad mood all around. they seemed as if we were taking up their time. when we got to the room we tried to use our personal computer to look for attractions, and after having to pay $10 a day for wifi it was a total waste of money the speed of the internet was extremely slow. the free workout area was also not up to our expectations but since it was free we didnt complain. overall we would never stay at this hotel again and we do not recommend it.\\n</th>\n",
       "      <td>0.0</td>\n",
       "    </tr>\n",
       "    <tr>\n",
       "      <th>where do I start. The GM was a nice guy for handling the incident I had. Anthony -the Concierge - set me up with a massage when the reservation at the spa i requested was unavailable. Anthony said he knew this spa and it was nice. He set me up and quoted me a price of $125, When i got to the spa (which was actually a seedy nail and hair salon) i saw on the front window that a massage for an hour was $100 with 20% off. At the end of the massage I gave the lady $100 and said thanks you can keep the change, She insisted that I got 'A Hotel Rate' because Anthony set me up. She called Anthony and confirmed the rate then told me she had to go and pay Anthony the difference - $45. She then offered me a ride to the hotel since she was going there which I declined. In short - shady dealings with this place. I was quite taken back. The GM Selman comp'd me a night but , I felt swindled big time. Stay somewhere else. The concierge has something going on...\\n</th>\n",
       "      <td>-1.0</td>\n",
       "    </tr>\n",
       "  </tbody>\n",
       "</table>\n",
       "<p>1596 rows × 1 columns</p>\n",
       "</div>"
      ],
      "text/plain": [
       "                                                    Bing_Liu_Score\n",
       "text                                                              \n",
       " I stayed at the Sheraton Chicago Hotel and Tow...             6.0\n",
       " If you are traveling anywhere near Lake Michig...            10.0\n",
       " If you are traveling to Chicago and need a pla...            18.0\n",
       " My wife and I's stay at the Sheraton Chicago H...            13.0\n",
       " The Hard Rock Hotel Chicago is great alternati...             9.0\n",
       "...                                                            ...\n",
       "we stayed here in january when it was -20. but ...             5.0\n",
       "went to chicago for a week in may, decided to b...            -2.0\n",
       "when i first checked the hotel's website and re...           -12.0\n",
       "when we arrived the check in process was fairly...             0.0\n",
       "where do I start. The GM was a nice guy for han...            -1.0\n",
       "\n",
       "[1596 rows x 1 columns]"
      ]
     },
     "execution_count": 15,
     "metadata": {},
     "output_type": "execute_result"
    }
   ],
   "source": [
    "# Grouping 'overall' rating and calculating the mean sentiment score using the Bing Liu Lexicon\n",
    "df.groupby('text').agg({'Bing_Liu_Score':'mean'})"
   ]
  }
 ],
 "metadata": {
  "kernelspec": {
   "display_name": "Python 3 (ipykernel)",
   "language": "python",
   "name": "python3"
  },
  "language_info": {
   "codemirror_mode": {
    "name": "ipython",
    "version": 3
   },
   "file_extension": ".py",
   "mimetype": "text/x-python",
   "name": "python",
   "nbconvert_exporter": "python",
   "pygments_lexer": "ipython3",
   "version": "3.9.7"
  },
  "varInspector": {
   "cols": {
    "lenName": 16,
    "lenType": 16,
    "lenVar": 40
   },
   "kernels_config": {
    "python": {
     "delete_cmd_postfix": "",
     "delete_cmd_prefix": "del ",
     "library": "var_list.py",
     "varRefreshCmd": "print(var_dic_list())"
    },
    "r": {
     "delete_cmd_postfix": ") ",
     "delete_cmd_prefix": "rm(",
     "library": "var_list.r",
     "varRefreshCmd": "cat(var_dic_list()) "
    }
   },
   "types_to_exclude": [
    "module",
    "function",
    "builtin_function_or_method",
    "instance",
    "_Feature"
   ],
   "window_display": false
  }
 },
 "nbformat": 4,
 "nbformat_minor": 5
}
