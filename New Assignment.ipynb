{
 "cells": [
  {
   "cell_type": "markdown",
   "id": "723f0f72",
   "metadata": {},
   "source": [
    "# LEXICON SCORING ALGORITHM - 2/7/24"
   ]
  },
  {
   "cell_type": "markdown",
   "id": "c648930f",
   "metadata": {},
   "source": [
    "## Importing all necessary libraries"
   ]
  },
  {
   "cell_type": "code",
   "execution_count": 31,
   "id": "948b18b0",
   "metadata": {},
   "outputs": [],
   "source": [
    "# Import all the necessary Libraries\n",
    "import pandas as pd"
   ]
  },
  {
   "cell_type": "markdown",
   "id": "2a868438",
   "metadata": {},
   "source": [
    "## Reading the data"
   ]
  },
  {
   "cell_type": "code",
   "execution_count": 32,
   "id": "e70129aa",
   "metadata": {},
   "outputs": [
    {
     "data": {
      "text/html": [
       "<div>\n",
       "<style scoped>\n",
       "    .dataframe tbody tr th:only-of-type {\n",
       "        vertical-align: middle;\n",
       "    }\n",
       "\n",
       "    .dataframe tbody tr th {\n",
       "        vertical-align: top;\n",
       "    }\n",
       "\n",
       "    .dataframe thead th {\n",
       "        text-align: right;\n",
       "    }\n",
       "</style>\n",
       "<table border=\"1\" class=\"dataframe\">\n",
       "  <thead>\n",
       "    <tr style=\"text-align: right;\">\n",
       "      <th></th>\n",
       "      <th>Unnamed: 0</th>\n",
       "      <th>Books</th>\n",
       "      <th>Authors</th>\n",
       "      <th>Language</th>\n",
       "      <th>First_Published</th>\n",
       "      <th>Sales_in_millions</th>\n",
       "    </tr>\n",
       "  </thead>\n",
       "  <tbody>\n",
       "    <tr>\n",
       "      <th>0</th>\n",
       "      <td>0</td>\n",
       "      <td>A Tale of Two Cities</td>\n",
       "      <td>Charles Dickens</td>\n",
       "      <td>English</td>\n",
       "      <td>1859</td>\n",
       "      <td>200.0</td>\n",
       "    </tr>\n",
       "    <tr>\n",
       "      <th>1</th>\n",
       "      <td>1</td>\n",
       "      <td>The Little Prince (Le Petit Prince)</td>\n",
       "      <td>Antoine de Saint-Exupéry</td>\n",
       "      <td>French</td>\n",
       "      <td>1943</td>\n",
       "      <td>200.0</td>\n",
       "    </tr>\n",
       "    <tr>\n",
       "      <th>2</th>\n",
       "      <td>2</td>\n",
       "      <td>Harry Potter and the Philosopher's Stone</td>\n",
       "      <td>J. K. Rowling</td>\n",
       "      <td>English</td>\n",
       "      <td>1997</td>\n",
       "      <td>120.0</td>\n",
       "    </tr>\n",
       "    <tr>\n",
       "      <th>3</th>\n",
       "      <td>3</td>\n",
       "      <td>And Then There Were None</td>\n",
       "      <td>Agatha Christie</td>\n",
       "      <td>English</td>\n",
       "      <td>1939</td>\n",
       "      <td>100.0</td>\n",
       "    </tr>\n",
       "    <tr>\n",
       "      <th>4</th>\n",
       "      <td>4</td>\n",
       "      <td>Dream of the Red Chamber (紅樓夢)</td>\n",
       "      <td>Cao Xueqin</td>\n",
       "      <td>Chinese</td>\n",
       "      <td>1791</td>\n",
       "      <td>100.0</td>\n",
       "    </tr>\n",
       "    <tr>\n",
       "      <th>5</th>\n",
       "      <td>5</td>\n",
       "      <td>The Hobbit</td>\n",
       "      <td>J. R. R. Tolkien</td>\n",
       "      <td>English</td>\n",
       "      <td>1937</td>\n",
       "      <td>100.0</td>\n",
       "    </tr>\n",
       "    <tr>\n",
       "      <th>6</th>\n",
       "      <td>6</td>\n",
       "      <td>She: A History of Adventure</td>\n",
       "      <td>H. Rider Haggard</td>\n",
       "      <td>English</td>\n",
       "      <td>1887</td>\n",
       "      <td>83.0</td>\n",
       "    </tr>\n",
       "    <tr>\n",
       "      <th>7</th>\n",
       "      <td>7</td>\n",
       "      <td>The Da Vinci Code</td>\n",
       "      <td>Dan Brown</td>\n",
       "      <td>English</td>\n",
       "      <td>2003</td>\n",
       "      <td>80.0</td>\n",
       "    </tr>\n",
       "    <tr>\n",
       "      <th>8</th>\n",
       "      <td>8</td>\n",
       "      <td>Harry Potter and the Chamber of Secrets</td>\n",
       "      <td>J. K. Rowling</td>\n",
       "      <td>English</td>\n",
       "      <td>1998</td>\n",
       "      <td>77.0</td>\n",
       "    </tr>\n",
       "    <tr>\n",
       "      <th>9</th>\n",
       "      <td>9</td>\n",
       "      <td>Harry Potter and the Prisoner of Azkaban</td>\n",
       "      <td>J. K. Rowling</td>\n",
       "      <td>English</td>\n",
       "      <td>1999</td>\n",
       "      <td>65.0</td>\n",
       "    </tr>\n",
       "  </tbody>\n",
       "</table>\n",
       "</div>"
      ],
      "text/plain": [
       "   Unnamed: 0                                     Books  \\\n",
       "0           0                      A Tale of Two Cities   \n",
       "1           1       The Little Prince (Le Petit Prince)   \n",
       "2           2  Harry Potter and the Philosopher's Stone   \n",
       "3           3                  And Then There Were None   \n",
       "4           4            Dream of the Red Chamber (紅樓夢)   \n",
       "5           5                                The Hobbit   \n",
       "6           6               She: A History of Adventure   \n",
       "7           7                         The Da Vinci Code   \n",
       "8           8   Harry Potter and the Chamber of Secrets   \n",
       "9           9  Harry Potter and the Prisoner of Azkaban   \n",
       "\n",
       "                    Authors Language First_Published  Sales_in_millions  \n",
       "0           Charles Dickens  English            1859              200.0  \n",
       "1  Antoine de Saint-Exupéry   French            1943              200.0  \n",
       "2             J. K. Rowling  English            1997              120.0  \n",
       "3           Agatha Christie  English            1939              100.0  \n",
       "4                Cao Xueqin  Chinese            1791              100.0  \n",
       "5          J. R. R. Tolkien  English            1937              100.0  \n",
       "6          H. Rider Haggard  English            1887               83.0  \n",
       "7                 Dan Brown  English            2003               80.0  \n",
       "8             J. K. Rowling  English            1998               77.0  \n",
       "9             J. K. Rowling  English            1999               65.0  "
      ]
     },
     "execution_count": 32,
     "metadata": {},
     "output_type": "execute_result"
    }
   ],
   "source": [
    "# Reading the data \n",
    "df = pd.read_csv(\"C:/Users/LENOVO/OneDrive/Desktop/TextBasedAnalysis/books_data.csv\")\n",
    "df.head(10)"
   ]
  },
  {
   "cell_type": "markdown",
   "id": "8c4de49f",
   "metadata": {},
   "source": [
    "## Exploring Opinion Lexicon in NLTK Library"
   ]
  },
  {
   "cell_type": "code",
   "execution_count": 34,
   "id": "64841df5",
   "metadata": {},
   "outputs": [
    {
     "name": "stdout",
     "output_type": "stream",
     "text": [
      "Total number of words in opinion lexicon 6789\n",
      "Examples of positive words in opinion lexicon ['a+', 'abound', 'abounds', 'abundance', 'abundant', 'accessable', 'accessible', 'acclaim', 'acclaimed', 'acclamation']\n",
      "Examples of negative words in opinion lexicon ['2-faced', '2-faces', 'abnormal', 'abolish', 'abominable', 'abominably', 'abominate', 'abomination', 'abort', 'aborted']\n"
     ]
    },
    {
     "name": "stderr",
     "output_type": "stream",
     "text": [
      "[nltk_data] Downloading package opinion_lexicon to\n",
      "[nltk_data]     C:\\Users\\LENOVO\\AppData\\Roaming\\nltk_data...\n",
      "[nltk_data]   Package opinion_lexicon is already up-to-date!\n"
     ]
    }
   ],
   "source": [
    "# Import necessary Libraries\n",
    "from sklearn import preprocessing\n",
    "import nltk\n",
    "nltk.download('opinion_lexicon')\n",
    "# Importing the opinion_lexicon corpus, which contains positive&negative opinion words\n",
    "from nltk.corpus import opinion_lexicon\n",
    "# Importing word_tokenize function, which is used for tokenizing words\n",
    "from nltk.tokenize import word_tokenize\n",
    "\n",
    "print('Total number of words in opinion lexicon', len(opinion_lexicon.words()))\n",
    "print('Examples of positive words in opinion lexicon',\n",
    "      opinion_lexicon.positive()[:10])\n",
    "print('Examples of negative words in opinion lexicon',\n",
    "      opinion_lexicon.negative()[:10])"
   ]
  },
  {
   "cell_type": "markdown",
   "id": "7a0d9158",
   "metadata": {},
   "source": [
    "## Creation of Dictionary for Sentiment Analysis"
   ]
  },
  {
   "cell_type": "code",
   "execution_count": 35,
   "id": "cb59ace9",
   "metadata": {},
   "outputs": [
    {
     "name": "stderr",
     "output_type": "stream",
     "text": [
      "[nltk_data] Downloading package punkt to\n",
      "[nltk_data]     C:\\Users\\LENOVO\\AppData\\Roaming\\nltk_data...\n",
      "[nltk_data]   Package punkt is already up-to-date!\n"
     ]
    }
   ],
   "source": [
    "# Let's create a dictionary which we can use for scoring our review text\n",
    "nltk.download('punkt')\n",
    "df.rename(columns={\"reviewText\": \"text\"}, inplace=True)\n",
    "pos_score = 1\n",
    "neg_score = -1\n",
    "word_dict = {}\n",
    " \n",
    "# Adding the positive words to the dictionary\n",
    "for word in opinion_lexicon.positive():\n",
    "        word_dict[word] = pos_score\n",
    "      \n",
    "# Adding the negative words to the dictionary\n",
    "for word in opinion_lexicon.negative():\n",
    "        word_dict[word] = neg_score\n"
   ]
  },
  {
   "cell_type": "markdown",
   "id": "11b62819",
   "metadata": {},
   "source": [
    "## Calculating Sentiment Score with Bing Liu Lexicon"
   ]
  },
  {
   "cell_type": "code",
   "execution_count": 36,
   "id": "a506c8db",
   "metadata": {},
   "outputs": [],
   "source": [
    "#Creating a fuunction text\n",
    "def bing_liu_score(text):\n",
    "    #Initializing the sentiment score\n",
    "    sentiment_score = 0\n",
    "    #Tokenizing the input text into words and convert them to lowercase\n",
    "    bag_of_words = word_tokenize(text.lower())\n",
    "     # creating loop to check each word in the bag of words\n",
    "    for word in bag_of_words:\n",
    "        #Checking if the word exists in the sentiment dictionary\n",
    "        if word in word_dict:\n",
    "            # If the word exist, adding its sentiment score to the sentiment score\n",
    "            sentiment_score += word_dict[word]\n",
    "    return sentiment_score  #Returning the sentiment score for the text"
   ]
  },
  {
   "cell_type": "code",
   "execution_count": 40,
   "id": "8f141a58",
   "metadata": {},
   "outputs": [],
   "source": [
    "# Fill NaN values in the 'text' column\n",
    "df['Books'].fillna('no review', inplace=True)\n",
    "#creating new column 'Bing_Liu_Score' to store the scores by applying  bing_liu_score to calculate sentiment scores for each text\n",
    "df['Bing_Liu_Score'] = df['Books'].apply(bing_liu_score)"
   ]
  },
  {
   "cell_type": "code",
   "execution_count": 41,
   "id": "3306634b",
   "metadata": {},
   "outputs": [
    {
     "data": {
      "text/html": [
       "<div>\n",
       "<style scoped>\n",
       "    .dataframe tbody tr th:only-of-type {\n",
       "        vertical-align: middle;\n",
       "    }\n",
       "\n",
       "    .dataframe tbody tr th {\n",
       "        vertical-align: top;\n",
       "    }\n",
       "\n",
       "    .dataframe thead th {\n",
       "        text-align: right;\n",
       "    }\n",
       "</style>\n",
       "<table border=\"1\" class=\"dataframe\">\n",
       "  <thead>\n",
       "    <tr style=\"text-align: right;\">\n",
       "      <th></th>\n",
       "      <th>Books</th>\n",
       "      <th>Bing_Liu_Score</th>\n",
       "    </tr>\n",
       "  </thead>\n",
       "  <tbody>\n",
       "    <tr>\n",
       "      <th>0</th>\n",
       "      <td>A Tale of Two Cities</td>\n",
       "      <td>0</td>\n",
       "    </tr>\n",
       "    <tr>\n",
       "      <th>1</th>\n",
       "      <td>The Little Prince (Le Petit Prince)</td>\n",
       "      <td>0</td>\n",
       "    </tr>\n",
       "    <tr>\n",
       "      <th>2</th>\n",
       "      <td>Harry Potter and the Philosopher's Stone</td>\n",
       "      <td>0</td>\n",
       "    </tr>\n",
       "    <tr>\n",
       "      <th>3</th>\n",
       "      <td>And Then There Were None</td>\n",
       "      <td>0</td>\n",
       "    </tr>\n",
       "    <tr>\n",
       "      <th>4</th>\n",
       "      <td>Dream of the Red Chamber (紅樓夢)</td>\n",
       "      <td>0</td>\n",
       "    </tr>\n",
       "    <tr>\n",
       "      <th>5</th>\n",
       "      <td>The Hobbit</td>\n",
       "      <td>0</td>\n",
       "    </tr>\n",
       "    <tr>\n",
       "      <th>6</th>\n",
       "      <td>She: A History of Adventure</td>\n",
       "      <td>0</td>\n",
       "    </tr>\n",
       "    <tr>\n",
       "      <th>7</th>\n",
       "      <td>The Da Vinci Code</td>\n",
       "      <td>0</td>\n",
       "    </tr>\n",
       "    <tr>\n",
       "      <th>8</th>\n",
       "      <td>Harry Potter and the Chamber of Secrets</td>\n",
       "      <td>0</td>\n",
       "    </tr>\n",
       "    <tr>\n",
       "      <th>9</th>\n",
       "      <td>Harry Potter and the Prisoner of Azkaban</td>\n",
       "      <td>-1</td>\n",
       "    </tr>\n",
       "  </tbody>\n",
       "</table>\n",
       "</div>"
      ],
      "text/plain": [
       "                                      Books  Bing_Liu_Score\n",
       "0                      A Tale of Two Cities               0\n",
       "1       The Little Prince (Le Petit Prince)               0\n",
       "2  Harry Potter and the Philosopher's Stone               0\n",
       "3                  And Then There Were None               0\n",
       "4            Dream of the Red Chamber (紅樓夢)               0\n",
       "5                                The Hobbit               0\n",
       "6               She: A History of Adventure               0\n",
       "7                         The Da Vinci Code               0\n",
       "8   Harry Potter and the Chamber of Secrets               0\n",
       "9  Harry Potter and the Prisoner of Azkaban              -1"
      ]
     },
     "execution_count": 41,
     "metadata": {},
     "output_type": "execute_result"
    }
   ],
   "source": [
    "# Displaying the first 10 rows of the DataFrame with few columns\n",
    "df[[\"Books\", 'Bing_Liu_Score']].head(10)"
   ]
  },
  {
   "cell_type": "markdown",
   "id": "0099b2e1",
   "metadata": {},
   "source": [
    "## Calculating mean sentiment score"
   ]
  },
  {
   "cell_type": "code",
   "execution_count": 43,
   "id": "300c0b19",
   "metadata": {},
   "outputs": [
    {
     "data": {
      "text/html": [
       "<div>\n",
       "<style scoped>\n",
       "    .dataframe tbody tr th:only-of-type {\n",
       "        vertical-align: middle;\n",
       "    }\n",
       "\n",
       "    .dataframe tbody tr th {\n",
       "        vertical-align: top;\n",
       "    }\n",
       "\n",
       "    .dataframe thead th {\n",
       "        text-align: right;\n",
       "    }\n",
       "</style>\n",
       "<table border=\"1\" class=\"dataframe\">\n",
       "  <thead>\n",
       "    <tr style=\"text-align: right;\">\n",
       "      <th></th>\n",
       "      <th>Bing_Liu_Score</th>\n",
       "    </tr>\n",
       "    <tr>\n",
       "      <th>Books</th>\n",
       "      <th></th>\n",
       "    </tr>\n",
       "  </thead>\n",
       "  <tbody>\n",
       "    <tr>\n",
       "      <th>A Brief History of Time</th>\n",
       "      <td>0.0</td>\n",
       "    </tr>\n",
       "    <tr>\n",
       "      <th>A Child's First Library Of Learning</th>\n",
       "      <td>0.0</td>\n",
       "    </tr>\n",
       "    <tr>\n",
       "      <th>A Message to Garcia</th>\n",
       "      <td>0.0</td>\n",
       "    </tr>\n",
       "    <tr>\n",
       "      <th>A Series of Unfortunate Events</th>\n",
       "      <td>-1.0</td>\n",
       "    </tr>\n",
       "    <tr>\n",
       "      <th>A Song of Ice and Fire</th>\n",
       "      <td>0.0</td>\n",
       "    </tr>\n",
       "    <tr>\n",
       "      <th>...</th>\n",
       "      <td>...</td>\n",
       "    </tr>\n",
       "    <tr>\n",
       "      <th>竜馬がゆく (Ryoma ga Yuku)</th>\n",
       "      <td>0.0</td>\n",
       "    </tr>\n",
       "    <tr>\n",
       "      <th>连环画 铁道游击队 (Picture-and-story book Railway Guerilla)</th>\n",
       "      <td>0.0</td>\n",
       "    </tr>\n",
       "    <tr>\n",
       "      <th>銀河英雄伝説 (Legend of the Galactic Heroes)</th>\n",
       "      <td>0.0</td>\n",
       "    </tr>\n",
       "    <tr>\n",
       "      <th>青春の門 (The Gate of Youth)</th>\n",
       "      <td>0.0</td>\n",
       "    </tr>\n",
       "    <tr>\n",
       "      <th>鬼平犯科帳 (Onihei Hankachō)</th>\n",
       "      <td>0.0</td>\n",
       "    </tr>\n",
       "  </tbody>\n",
       "</table>\n",
       "<p>288 rows × 1 columns</p>\n",
       "</div>"
      ],
      "text/plain": [
       "                                                    Bing_Liu_Score\n",
       "Books                                                             \n",
       "A Brief History of Time                                        0.0\n",
       "A Child's First Library Of Learning                            0.0\n",
       "A Message to Garcia                                            0.0\n",
       "A Series of Unfortunate Events                                -1.0\n",
       "A Song of Ice and Fire                                         0.0\n",
       "...                                                            ...\n",
       "竜馬がゆく (Ryoma ga Yuku)                                          0.0\n",
       "连环画 铁道游击队 (Picture-and-story book Railway Gueri...             0.0\n",
       "銀河英雄伝説 (Legend of the Galactic Heroes)                         0.0\n",
       "青春の門 (The Gate of Youth)                                       0.0\n",
       "鬼平犯科帳 (Onihei Hankachō)                                        0.0\n",
       "\n",
       "[288 rows x 1 columns]"
      ]
     },
     "execution_count": 43,
     "metadata": {},
     "output_type": "execute_result"
    }
   ],
   "source": [
    "# Grouping 'overall' rating and calculating the mean sentiment score using the Bing Liu Lexicon\n",
    "df.groupby('Books').agg({'Bing_Liu_Score':'mean'})"
   ]
  },
  {
   "cell_type": "code",
   "execution_count": null,
   "id": "c45d57f8",
   "metadata": {},
   "outputs": [],
   "source": []
  }
 ],
 "metadata": {
  "kernelspec": {
   "display_name": "Python 3 (ipykernel)",
   "language": "python",
   "name": "python3"
  },
  "language_info": {
   "codemirror_mode": {
    "name": "ipython",
    "version": 3
   },
   "file_extension": ".py",
   "mimetype": "text/x-python",
   "name": "python",
   "nbconvert_exporter": "python",
   "pygments_lexer": "ipython3",
   "version": "3.9.7"
  },
  "varInspector": {
   "cols": {
    "lenName": 16,
    "lenType": 16,
    "lenVar": 40
   },
   "kernels_config": {
    "python": {
     "delete_cmd_postfix": "",
     "delete_cmd_prefix": "del ",
     "library": "var_list.py",
     "varRefreshCmd": "print(var_dic_list())"
    },
    "r": {
     "delete_cmd_postfix": ") ",
     "delete_cmd_prefix": "rm(",
     "library": "var_list.r",
     "varRefreshCmd": "cat(var_dic_list()) "
    }
   },
   "types_to_exclude": [
    "module",
    "function",
    "builtin_function_or_method",
    "instance",
    "_Feature"
   ],
   "window_display": false
  }
 },
 "nbformat": 4,
 "nbformat_minor": 5
}
