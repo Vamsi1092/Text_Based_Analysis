{
 "cells": [
  {
   "cell_type": "code",
   "execution_count": 1,
   "id": "2320b995",
   "metadata": {},
   "outputs": [],
   "source": [
    "#importing libraries\n",
    "import pandas as pd\n",
    "import matplotlib.pyplot as plt\n",
    "import seaborn as sns\n",
    "import regex as re"
   ]
  },
  {
   "cell_type": "code",
   "execution_count": 2,
   "id": "046a195c",
   "metadata": {},
   "outputs": [
    {
     "data": {
      "text/html": [
       "<div>\n",
       "<style scoped>\n",
       "    .dataframe tbody tr th:only-of-type {\n",
       "        vertical-align: middle;\n",
       "    }\n",
       "\n",
       "    .dataframe tbody tr th {\n",
       "        vertical-align: top;\n",
       "    }\n",
       "\n",
       "    .dataframe thead th {\n",
       "        text-align: right;\n",
       "    }\n",
       "</style>\n",
       "<table border=\"1\" class=\"dataframe\">\n",
       "  <thead>\n",
       "    <tr style=\"text-align: right;\">\n",
       "      <th></th>\n",
       "      <th>session</th>\n",
       "      <th>year</th>\n",
       "      <th>country</th>\n",
       "      <th>country_name</th>\n",
       "      <th>speaker</th>\n",
       "      <th>position</th>\n",
       "      <th>text</th>\n",
       "    </tr>\n",
       "  </thead>\n",
       "  <tbody>\n",
       "    <tr>\n",
       "      <th>0</th>\n",
       "      <td>25</td>\n",
       "      <td>1970</td>\n",
       "      <td>ALB</td>\n",
       "      <td>Albania</td>\n",
       "      <td>Mr. NAS</td>\n",
       "      <td>NaN</td>\n",
       "      <td>33: May I first convey to our President the co...</td>\n",
       "    </tr>\n",
       "    <tr>\n",
       "      <th>1</th>\n",
       "      <td>25</td>\n",
       "      <td>1970</td>\n",
       "      <td>ARG</td>\n",
       "      <td>Argentina</td>\n",
       "      <td>Mr. DE PABLO PARDO</td>\n",
       "      <td>NaN</td>\n",
       "      <td>177.\\t : It is a fortunate coincidence that pr...</td>\n",
       "    </tr>\n",
       "    <tr>\n",
       "      <th>2</th>\n",
       "      <td>25</td>\n",
       "      <td>1970</td>\n",
       "      <td>AUS</td>\n",
       "      <td>Australia</td>\n",
       "      <td>Mr. McMAHON</td>\n",
       "      <td>NaN</td>\n",
       "      <td>100.\\t  It is a pleasure for me to extend to y...</td>\n",
       "    </tr>\n",
       "    <tr>\n",
       "      <th>3</th>\n",
       "      <td>25</td>\n",
       "      <td>1970</td>\n",
       "      <td>AUT</td>\n",
       "      <td>Austria</td>\n",
       "      <td>Mr. KIRCHSCHLAEGER</td>\n",
       "      <td>NaN</td>\n",
       "      <td>155.\\t  May I begin by expressing to Ambassado...</td>\n",
       "    </tr>\n",
       "    <tr>\n",
       "      <th>4</th>\n",
       "      <td>25</td>\n",
       "      <td>1970</td>\n",
       "      <td>BEL</td>\n",
       "      <td>Belgium</td>\n",
       "      <td>Mr. HARMEL</td>\n",
       "      <td>NaN</td>\n",
       "      <td>176. No doubt each of us, before coming up to ...</td>\n",
       "    </tr>\n",
       "  </tbody>\n",
       "</table>\n",
       "</div>"
      ],
      "text/plain": [
       "   session  year country country_name             speaker position  \\\n",
       "0       25  1970     ALB      Albania             Mr. NAS      NaN   \n",
       "1       25  1970     ARG    Argentina  Mr. DE PABLO PARDO      NaN   \n",
       "2       25  1970     AUS    Australia         Mr. McMAHON      NaN   \n",
       "3       25  1970     AUT      Austria  Mr. KIRCHSCHLAEGER      NaN   \n",
       "4       25  1970     BEL      Belgium          Mr. HARMEL      NaN   \n",
       "\n",
       "                                                text  \n",
       "0  33: May I first convey to our President the co...  \n",
       "1  177.\\t : It is a fortunate coincidence that pr...  \n",
       "2  100.\\t  It is a pleasure for me to extend to y...  \n",
       "3  155.\\t  May I begin by expressing to Ambassado...  \n",
       "4  176. No doubt each of us, before coming up to ...  "
      ]
     },
     "execution_count": 2,
     "metadata": {},
     "output_type": "execute_result"
    }
   ],
   "source": [
    "#Reading a csv file\n",
    "file = \"C:/Users/LENOVO/OneDrive/Desktop/TextBasedAnalysis/un-general-debates-blueprint.csv\"\n",
    "df = pd.read_csv(file)\n",
    "df.head()"
   ]
  },
  {
   "cell_type": "code",
   "execution_count": 3,
   "id": "e007bfbd",
   "metadata": {},
   "outputs": [
    {
     "data": {
      "text/plain": [
       "Index(['session', 'year', 'country', 'country_name', 'speaker', 'position',\n",
       "       'text'],\n",
       "      dtype='object')"
      ]
     },
     "execution_count": 3,
     "metadata": {},
     "output_type": "execute_result"
    }
   ],
   "source": [
    "#Returning all the features\n",
    "df.columns"
   ]
  },
  {
   "cell_type": "code",
   "execution_count": 4,
   "id": "3df65c0f",
   "metadata": {},
   "outputs": [
    {
     "data": {
      "text/plain": [
       "session          int64\n",
       "year             int64\n",
       "country         object\n",
       "country_name    object\n",
       "speaker         object\n",
       "position        object\n",
       "text            object\n",
       "dtype: object"
      ]
     },
     "execution_count": 4,
     "metadata": {},
     "output_type": "execute_result"
    }
   ],
   "source": [
    "#Returning data types of Features\n",
    "df.dtypes"
   ]
  },
  {
   "cell_type": "code",
   "execution_count": 5,
   "id": "c26d26f9",
   "metadata": {},
   "outputs": [
    {
     "name": "stdout",
     "output_type": "stream",
     "text": [
      "<class 'pandas.core.frame.DataFrame'>\n",
      "RangeIndex: 7507 entries, 0 to 7506\n",
      "Data columns (total 7 columns):\n",
      " #   Column        Non-Null Count  Dtype \n",
      "---  ------        --------------  ----- \n",
      " 0   session       7507 non-null   int64 \n",
      " 1   year          7507 non-null   int64 \n",
      " 2   country       7507 non-null   object\n",
      " 3   country_name  7507 non-null   object\n",
      " 4   speaker       7480 non-null   object\n",
      " 5   position      4502 non-null   object\n",
      " 6   text          7507 non-null   object\n",
      "dtypes: int64(2), object(5)\n",
      "memory usage: 410.7+ KB\n"
     ]
    }
   ],
   "source": [
    "#Returns information about each feature\n",
    "df.info()"
   ]
  },
  {
   "cell_type": "code",
   "execution_count": 6,
   "id": "0c3f50dc",
   "metadata": {},
   "outputs": [
    {
     "data": {
      "text/html": [
       "<div>\n",
       "<style scoped>\n",
       "    .dataframe tbody tr th:only-of-type {\n",
       "        vertical-align: middle;\n",
       "    }\n",
       "\n",
       "    .dataframe tbody tr th {\n",
       "        vertical-align: top;\n",
       "    }\n",
       "\n",
       "    .dataframe thead th {\n",
       "        text-align: right;\n",
       "    }\n",
       "</style>\n",
       "<table border=\"1\" class=\"dataframe\">\n",
       "  <thead>\n",
       "    <tr style=\"text-align: right;\">\n",
       "      <th></th>\n",
       "      <th>session</th>\n",
       "      <th>year</th>\n",
       "    </tr>\n",
       "  </thead>\n",
       "  <tbody>\n",
       "    <tr>\n",
       "      <th>count</th>\n",
       "      <td>7507.000000</td>\n",
       "      <td>7507.000000</td>\n",
       "    </tr>\n",
       "    <tr>\n",
       "      <th>mean</th>\n",
       "      <td>49.610763</td>\n",
       "      <td>1994.610763</td>\n",
       "    </tr>\n",
       "    <tr>\n",
       "      <th>std</th>\n",
       "      <td>12.892155</td>\n",
       "      <td>12.892155</td>\n",
       "    </tr>\n",
       "    <tr>\n",
       "      <th>min</th>\n",
       "      <td>25.000000</td>\n",
       "      <td>1970.000000</td>\n",
       "    </tr>\n",
       "    <tr>\n",
       "      <th>25%</th>\n",
       "      <td>39.000000</td>\n",
       "      <td>1984.000000</td>\n",
       "    </tr>\n",
       "    <tr>\n",
       "      <th>50%</th>\n",
       "      <td>51.000000</td>\n",
       "      <td>1996.000000</td>\n",
       "    </tr>\n",
       "    <tr>\n",
       "      <th>75%</th>\n",
       "      <td>61.000000</td>\n",
       "      <td>2006.000000</td>\n",
       "    </tr>\n",
       "    <tr>\n",
       "      <th>max</th>\n",
       "      <td>70.000000</td>\n",
       "      <td>2015.000000</td>\n",
       "    </tr>\n",
       "  </tbody>\n",
       "</table>\n",
       "</div>"
      ],
      "text/plain": [
       "           session         year\n",
       "count  7507.000000  7507.000000\n",
       "mean     49.610763  1994.610763\n",
       "std      12.892155    12.892155\n",
       "min      25.000000  1970.000000\n",
       "25%      39.000000  1984.000000\n",
       "50%      51.000000  1996.000000\n",
       "75%      61.000000  2006.000000\n",
       "max      70.000000  2015.000000"
      ]
     },
     "execution_count": 6,
     "metadata": {},
     "output_type": "execute_result"
    }
   ],
   "source": [
    "#Returning statistical info about numerical Features\n",
    "df.describe()"
   ]
  },
  {
   "cell_type": "code",
   "execution_count": 7,
   "id": "06de119a",
   "metadata": {},
   "outputs": [
    {
     "data": {
      "text/html": [
       "<div>\n",
       "<style scoped>\n",
       "    .dataframe tbody tr th:only-of-type {\n",
       "        vertical-align: middle;\n",
       "    }\n",
       "\n",
       "    .dataframe tbody tr th {\n",
       "        vertical-align: top;\n",
       "    }\n",
       "\n",
       "    .dataframe thead th {\n",
       "        text-align: right;\n",
       "    }\n",
       "</style>\n",
       "<table border=\"1\" class=\"dataframe\">\n",
       "  <thead>\n",
       "    <tr style=\"text-align: right;\">\n",
       "      <th></th>\n",
       "      <th>session</th>\n",
       "      <th>year</th>\n",
       "      <th>length</th>\n",
       "    </tr>\n",
       "  </thead>\n",
       "  <tbody>\n",
       "    <tr>\n",
       "      <th>count</th>\n",
       "      <td>7507.000000</td>\n",
       "      <td>7507.000000</td>\n",
       "      <td>7507.000000</td>\n",
       "    </tr>\n",
       "    <tr>\n",
       "      <th>mean</th>\n",
       "      <td>49.610763</td>\n",
       "      <td>1994.610763</td>\n",
       "      <td>17967.281604</td>\n",
       "    </tr>\n",
       "    <tr>\n",
       "      <th>std</th>\n",
       "      <td>12.892155</td>\n",
       "      <td>12.892155</td>\n",
       "      <td>7860.038463</td>\n",
       "    </tr>\n",
       "    <tr>\n",
       "      <th>min</th>\n",
       "      <td>25.000000</td>\n",
       "      <td>1970.000000</td>\n",
       "      <td>2362.000000</td>\n",
       "    </tr>\n",
       "    <tr>\n",
       "      <th>25%</th>\n",
       "      <td>39.000000</td>\n",
       "      <td>1984.000000</td>\n",
       "      <td>12077.000000</td>\n",
       "    </tr>\n",
       "    <tr>\n",
       "      <th>50%</th>\n",
       "      <td>51.000000</td>\n",
       "      <td>1996.000000</td>\n",
       "      <td>16424.000000</td>\n",
       "    </tr>\n",
       "    <tr>\n",
       "      <th>75%</th>\n",
       "      <td>61.000000</td>\n",
       "      <td>2006.000000</td>\n",
       "      <td>22479.500000</td>\n",
       "    </tr>\n",
       "    <tr>\n",
       "      <th>max</th>\n",
       "      <td>70.000000</td>\n",
       "      <td>2015.000000</td>\n",
       "      <td>72041.000000</td>\n",
       "    </tr>\n",
       "  </tbody>\n",
       "</table>\n",
       "</div>"
      ],
      "text/plain": [
       "           session         year        length\n",
       "count  7507.000000  7507.000000   7507.000000\n",
       "mean     49.610763  1994.610763  17967.281604\n",
       "std      12.892155    12.892155   7860.038463\n",
       "min      25.000000  1970.000000   2362.000000\n",
       "25%      39.000000  1984.000000  12077.000000\n",
       "50%      51.000000  1996.000000  16424.000000\n",
       "75%      61.000000  2006.000000  22479.500000\n",
       "max      70.000000  2015.000000  72041.000000"
      ]
     },
     "execution_count": 7,
     "metadata": {},
     "output_type": "execute_result"
    }
   ],
   "source": [
    "#creating a new column named length\n",
    "df['length']=df['text'].str.len()\n",
    "df.describe()"
   ]
  },
  {
   "cell_type": "code",
   "execution_count": 8,
   "id": "c0f57009",
   "metadata": {},
   "outputs": [
    {
     "data": {
      "text/html": [
       "<div>\n",
       "<style scoped>\n",
       "    .dataframe tbody tr th:only-of-type {\n",
       "        vertical-align: middle;\n",
       "    }\n",
       "\n",
       "    .dataframe tbody tr th {\n",
       "        vertical-align: top;\n",
       "    }\n",
       "\n",
       "    .dataframe thead th {\n",
       "        text-align: right;\n",
       "    }\n",
       "</style>\n",
       "<table border=\"1\" class=\"dataframe\">\n",
       "  <thead>\n",
       "    <tr style=\"text-align: right;\">\n",
       "      <th></th>\n",
       "      <th>country</th>\n",
       "      <th>country_name</th>\n",
       "      <th>speaker</th>\n",
       "      <th>position</th>\n",
       "      <th>text</th>\n",
       "    </tr>\n",
       "  </thead>\n",
       "  <tbody>\n",
       "    <tr>\n",
       "      <th>count</th>\n",
       "      <td>7507</td>\n",
       "      <td>7507</td>\n",
       "      <td>7480</td>\n",
       "      <td>4502</td>\n",
       "      <td>7507</td>\n",
       "    </tr>\n",
       "    <tr>\n",
       "      <th>unique</th>\n",
       "      <td>199</td>\n",
       "      <td>199</td>\n",
       "      <td>5428</td>\n",
       "      <td>113</td>\n",
       "      <td>7507</td>\n",
       "    </tr>\n",
       "    <tr>\n",
       "      <th>top</th>\n",
       "      <td>ALB</td>\n",
       "      <td>Albania</td>\n",
       "      <td>Seyoum Mesfin</td>\n",
       "      <td>Minister for Foreign Affairs</td>\n",
       "      <td>33: May I first convey to our President the co...</td>\n",
       "    </tr>\n",
       "    <tr>\n",
       "      <th>freq</th>\n",
       "      <td>46</td>\n",
       "      <td>46</td>\n",
       "      <td>12</td>\n",
       "      <td>1813</td>\n",
       "      <td>1</td>\n",
       "    </tr>\n",
       "  </tbody>\n",
       "</table>\n",
       "</div>"
      ],
      "text/plain": [
       "       country country_name        speaker                      position  \\\n",
       "count     7507         7507           7480                          4502   \n",
       "unique     199          199           5428                           113   \n",
       "top        ALB      Albania  Seyoum Mesfin  Minister for Foreign Affairs   \n",
       "freq        46           46             12                          1813   \n",
       "\n",
       "                                                     text  \n",
       "count                                                7507  \n",
       "unique                                               7507  \n",
       "top     33: May I first convey to our President the co...  \n",
       "freq                                                    1  "
      ]
     },
     "execution_count": 8,
     "metadata": {},
     "output_type": "execute_result"
    }
   ],
   "source": [
    "#Returning the following information by 'describe' function\n",
    "df.describe(include='O')"
   ]
  },
  {
   "cell_type": "code",
   "execution_count": 9,
   "id": "00d41866",
   "metadata": {},
   "outputs": [
    {
     "data": {
      "text/plain": [
       "session         0\n",
       "year            0\n",
       "country         0\n",
       "country_name    0\n",
       "speaker         0\n",
       "position        0\n",
       "text            0\n",
       "length          0\n",
       "dtype: int64"
      ]
     },
     "execution_count": 9,
     "metadata": {},
     "output_type": "execute_result"
    }
   ],
   "source": [
    "#Replacing missing data with unknown\n",
    "df['speaker'].fillna('unknown',inplace=True)\n",
    "df['position'].fillna('unknown',inplace=True)\n",
    "df.isna().sum()"
   ]
  },
  {
   "cell_type": "code",
   "execution_count": 10,
   "id": "b6da5b23",
   "metadata": {},
   "outputs": [],
   "source": [
    "#converting feature text to uppercase\n",
    "df['speaker'] = df['speaker'].str.upper()\n",
    "df['position'] = df['position'].str.upper()\n",
    "df['text'] = df['text'].str.upper()"
   ]
  },
  {
   "cell_type": "code",
   "execution_count": 11,
   "id": "9854502e",
   "metadata": {},
   "outputs": [
    {
     "data": {
      "text/html": [
       "<div>\n",
       "<style scoped>\n",
       "    .dataframe tbody tr th:only-of-type {\n",
       "        vertical-align: middle;\n",
       "    }\n",
       "\n",
       "    .dataframe tbody tr th {\n",
       "        vertical-align: top;\n",
       "    }\n",
       "\n",
       "    .dataframe thead th {\n",
       "        text-align: right;\n",
       "    }\n",
       "</style>\n",
       "<table border=\"1\" class=\"dataframe\">\n",
       "  <thead>\n",
       "    <tr style=\"text-align: right;\">\n",
       "      <th></th>\n",
       "      <th>session</th>\n",
       "      <th>year</th>\n",
       "      <th>country</th>\n",
       "      <th>country_name</th>\n",
       "      <th>speaker</th>\n",
       "      <th>position</th>\n",
       "      <th>text</th>\n",
       "      <th>length</th>\n",
       "    </tr>\n",
       "  </thead>\n",
       "  <tbody>\n",
       "    <tr>\n",
       "      <th>2720</th>\n",
       "      <td>44</td>\n",
       "      <td>1989</td>\n",
       "      <td>USA</td>\n",
       "      <td>United States</td>\n",
       "      <td>BUSH</td>\n",
       "      <td>PRESIDENT</td>\n",
       "      <td>﻿I AM HONOURED TO ADDRESS THE GENERAL ASSEMBLY...</td>\n",
       "      <td>19779</td>\n",
       "    </tr>\n",
       "    <tr>\n",
       "      <th>2876</th>\n",
       "      <td>45</td>\n",
       "      <td>1990</td>\n",
       "      <td>USA</td>\n",
       "      <td>United States</td>\n",
       "      <td>GEORGE BUSH</td>\n",
       "      <td>UNKNOWN</td>\n",
       "      <td>﻿\\nIT IS REALLY A GREAT PRIVILEGE TO GREET YOU...</td>\n",
       "      <td>15843</td>\n",
       "    </tr>\n",
       "    <tr>\n",
       "      <th>3038</th>\n",
       "      <td>46</td>\n",
       "      <td>1991</td>\n",
       "      <td>USA</td>\n",
       "      <td>United States</td>\n",
       "      <td>GEORGE BUSH</td>\n",
       "      <td>PRESIDENT</td>\n",
       "      <td>﻿I AM HONOURED TO SPEAK WITH YOU AS YOU OPEN T...</td>\n",
       "      <td>15555</td>\n",
       "    </tr>\n",
       "    <tr>\n",
       "      <th>3207</th>\n",
       "      <td>47</td>\n",
       "      <td>1992</td>\n",
       "      <td>USA</td>\n",
       "      <td>United States</td>\n",
       "      <td>MR. GEORGE BUSH</td>\n",
       "      <td>PRESIDENT</td>\n",
       "      <td>FORTY-SEVEN YEARS AGO I WAS A YOUNG MAN OF 21,...</td>\n",
       "      <td>21105</td>\n",
       "    </tr>\n",
       "    <tr>\n",
       "      <th>4814</th>\n",
       "      <td>56</td>\n",
       "      <td>2001</td>\n",
       "      <td>USA</td>\n",
       "      <td>United States</td>\n",
       "      <td>GEORGE W. BUSH</td>\n",
       "      <td>PRESIDENT</td>\n",
       "      <td>﻿WE MEET IN A HALL DEVOTED TO\\nPEACE; IN A CIT...</td>\n",
       "      <td>14724</td>\n",
       "    </tr>\n",
       "    <tr>\n",
       "      <th>5002</th>\n",
       "      <td>57</td>\n",
       "      <td>2002</td>\n",
       "      <td>USA</td>\n",
       "      <td>United States</td>\n",
       "      <td>MR. GEORGE W. BUSH</td>\n",
       "      <td>PRESIDENT</td>\n",
       "      <td>﻿WE MEET ONE YEAR AND ONE DAY\\nAFTER A TERRORI...</td>\n",
       "      <td>16684</td>\n",
       "    </tr>\n",
       "    <tr>\n",
       "      <th>5191</th>\n",
       "      <td>58</td>\n",
       "      <td>2003</td>\n",
       "      <td>USA</td>\n",
       "      <td>United States</td>\n",
       "      <td>GEORGE W. BUSH</td>\n",
       "      <td>PRESIDENT</td>\n",
       "      <td>﻿TWENTY-FOUR MONTHS AGO, AND\\nYESTERDAY IN THE...</td>\n",
       "      <td>16962</td>\n",
       "    </tr>\n",
       "    <tr>\n",
       "      <th>5382</th>\n",
       "      <td>59</td>\n",
       "      <td>2004</td>\n",
       "      <td>USA</td>\n",
       "      <td>United States</td>\n",
       "      <td>MR. GEORGE W BUSH</td>\n",
       "      <td>PRESIDENT</td>\n",
       "      <td>THANK YOU FOR THE HONOUR OF\\nADDRESSING THE GE...</td>\n",
       "      <td>18628</td>\n",
       "    </tr>\n",
       "    <tr>\n",
       "      <th>5760</th>\n",
       "      <td>61</td>\n",
       "      <td>2006</td>\n",
       "      <td>USA</td>\n",
       "      <td>United States</td>\n",
       "      <td>MR. GEORGE W. BUSH</td>\n",
       "      <td>PRESIDENT</td>\n",
       "      <td>I AM GRATEFUL FOR THE PRIVILEGE OF \\nSPEAKING ...</td>\n",
       "      <td>16675</td>\n",
       "    </tr>\n",
       "    <tr>\n",
       "      <th>5951</th>\n",
       "      <td>62</td>\n",
       "      <td>2007</td>\n",
       "      <td>USA</td>\n",
       "      <td>United States</td>\n",
       "      <td>GEORGE W. BUSH</td>\n",
       "      <td>PRESIDENT</td>\n",
       "      <td>THANK YOU FOR THE OPPORTUNITY \\nTO ADDRESS THE...</td>\n",
       "      <td>15483</td>\n",
       "    </tr>\n",
       "    <tr>\n",
       "      <th>6143</th>\n",
       "      <td>63</td>\n",
       "      <td>2008</td>\n",
       "      <td>USA</td>\n",
       "      <td>United States</td>\n",
       "      <td>GEORGE W. BUSH</td>\n",
       "      <td>PRESIDENT</td>\n",
       "      <td>I AM PLEASED TO BE HERE TO \\nADDRESS THE GENER...</td>\n",
       "      <td>18384</td>\n",
       "    </tr>\n",
       "  </tbody>\n",
       "</table>\n",
       "</div>"
      ],
      "text/plain": [
       "      session  year country   country_name             speaker   position  \\\n",
       "2720       44  1989     USA  United States                BUSH  PRESIDENT   \n",
       "2876       45  1990     USA  United States         GEORGE BUSH    UNKNOWN   \n",
       "3038       46  1991     USA  United States         GEORGE BUSH  PRESIDENT   \n",
       "3207       47  1992     USA  United States     MR. GEORGE BUSH  PRESIDENT   \n",
       "4814       56  2001     USA  United States      GEORGE W. BUSH  PRESIDENT   \n",
       "5002       57  2002     USA  United States  MR. GEORGE W. BUSH  PRESIDENT   \n",
       "5191       58  2003     USA  United States      GEORGE W. BUSH  PRESIDENT   \n",
       "5382       59  2004     USA  United States   MR. GEORGE W BUSH  PRESIDENT   \n",
       "5760       61  2006     USA  United States  MR. GEORGE W. BUSH  PRESIDENT   \n",
       "5951       62  2007     USA  United States      GEORGE W. BUSH  PRESIDENT   \n",
       "6143       63  2008     USA  United States      GEORGE W. BUSH  PRESIDENT   \n",
       "\n",
       "                                                   text  length  \n",
       "2720  ﻿I AM HONOURED TO ADDRESS THE GENERAL ASSEMBLY...   19779  \n",
       "2876  ﻿\\nIT IS REALLY A GREAT PRIVILEGE TO GREET YOU...   15843  \n",
       "3038  ﻿I AM HONOURED TO SPEAK WITH YOU AS YOU OPEN T...   15555  \n",
       "3207  FORTY-SEVEN YEARS AGO I WAS A YOUNG MAN OF 21,...   21105  \n",
       "4814  ﻿WE MEET IN A HALL DEVOTED TO\\nPEACE; IN A CIT...   14724  \n",
       "5002  ﻿WE MEET ONE YEAR AND ONE DAY\\nAFTER A TERRORI...   16684  \n",
       "5191  ﻿TWENTY-FOUR MONTHS AGO, AND\\nYESTERDAY IN THE...   16962  \n",
       "5382  THANK YOU FOR THE HONOUR OF\\nADDRESSING THE GE...   18628  \n",
       "5760  I AM GRATEFUL FOR THE PRIVILEGE OF \\nSPEAKING ...   16675  \n",
       "5951  THANK YOU FOR THE OPPORTUNITY \\nTO ADDRESS THE...   15483  \n",
       "6143  I AM PLEASED TO BE HERE TO \\nADDRESS THE GENER...   18384  "
      ]
     },
     "execution_count": 11,
     "metadata": {},
     "output_type": "execute_result"
    }
   ],
   "source": [
    "#returning all instances where speaker is 'BUSH'\n",
    "df[df['speaker'].str.contains(\"BUSH\")]"
   ]
  },
  {
   "cell_type": "code",
   "execution_count": 12,
   "id": "e35dfcd6",
   "metadata": {},
   "outputs": [
    {
     "data": {
      "text/plain": [
       "<AxesSubplot:>"
      ]
     },
     "execution_count": 12,
     "metadata": {},
     "output_type": "execute_result"
    },
    {
     "data": {
      "image/png": "[encoded data removed]",
      "text/plain": [
       "<Figure size 432x288 with 1 Axes>"
      ]
     },
     "metadata": {
      "needs_background": "light"
     },
     "output_type": "display_data"
    }
   ],
   "source": [
    "#Box plot of 'length' feature\n",
    "df['length'].plot(kind='box', vert=False)"
   ]
  },
  {
   "cell_type": "code",
   "execution_count": 13,
   "id": "ee90bc8b",
   "metadata": {},
   "outputs": [
    {
     "data": {
      "text/plain": [
       "<AxesSubplot:>"
      ]
     },
     "execution_count": 13,
     "metadata": {},
     "output_type": "execute_result"
    },
    {
     "data": {
      "image/png": "[encoded data removed]",
      "text/plain": [
       "<Figure size 432x288 with 1 Axes>"
      ]
     },
     "metadata": {
      "needs_background": "light"
     },
     "output_type": "display_data"
    }
   ],
   "source": [
    "df['length'].plot()"
   ]
  },
  {
   "cell_type": "code",
   "execution_count": 14,
   "id": "4bee756e",
   "metadata": {},
   "outputs": [
    {
     "data": {
      "text/plain": [
       "<AxesSubplot:ylabel='Frequency'>"
      ]
     },
     "execution_count": 14,
     "metadata": {},
     "output_type": "execute_result"
    },
    {
     "data": {
      "image/png": "[encoded data removed]",
      "text/plain": [
       "<Figure size 432x288 with 1 Axes>"
      ]
     },
     "metadata": {
      "needs_background": "light"
     },
     "output_type": "display_data"
    }
   ],
   "source": [
    "#Histoogram of 'Length' fetaure\n",
    "df['length'].plot(kind='hist',bins=30)"
   ]
  },
  {
   "cell_type": "code",
   "execution_count": 15,
   "id": "948a3532",
   "metadata": {},
   "outputs": [
    {
     "data": {
      "image/png": "[encoded data removed]",
      "text/plain": [
       "<Figure size 720x576 with 1 Axes>"
      ]
     },
     "metadata": {
      "needs_background": "light"
     },
     "output_type": "display_data"
    }
   ],
   "source": [
    "#oxplot for the 'length' variable based on the specified countries\n",
    "where = df['country'].isin(['USA', 'FRA', 'GBR', 'CHN', 'RUS'])\n",
    "g = sns.catplot(data=df[where], x=\"country\", y=\"length\", kind='box')\n",
    "g.fig.set_size_inches(10, 8) "
   ]
  },
  {
   "cell_type": "code",
   "execution_count": 16,
   "id": "0d20c7de",
   "metadata": {},
   "outputs": [],
   "source": [
    "#Tokenize a given text based on a regular expression pattern\n",
    "def tokenize(text):\n",
    "    return re.findall(r'[\\w-]*[a-z|A-Z][\\w-]*', text)"
   ]
  },
  {
   "cell_type": "code",
   "execution_count": 17,
   "id": "44969709",
   "metadata": {},
   "outputs": [
    {
     "name": "stdout",
     "output_type": "stream",
     "text": [
      "['Let', 's', 'defeat', 'SARS-CoV-2', 'together', 'in', 'www', 'cdc', 'gov']\n"
     ]
    }
   ],
   "source": [
    "#testing the 'Tokenise' with a testtext\n",
    "testtext = \"Let's defeat SARS-CoV-2 together in 2020! www.cdc.gov\"\n",
    "testtokens = tokenize(testtext)\n",
    "print(testtokens)"
   ]
  },
  {
   "cell_type": "code",
   "execution_count": 18,
   "id": "4cd0ebe8",
   "metadata": {},
   "outputs": [
    {
     "name": "stdout",
     "output_type": "stream",
     "text": [
      "{'is', 'we', 'ours', 'in', \"should've\", 'was', 'because', 'only', \"hadn't\", 'same', 'once', \"isn't\", 'all', 'of', 'each', 'am', \"hasn't\", 'through', 'for', 'll', 'had', 't', 'too', 'can', 'isn', 'to', 'you', 'during', 'until', 'out', 'both', 'they', 'own', 'than', \"mightn't\", 'up', 'does', \"needn't\", \"aren't\", \"you've\", 'ourselves', 'aren', 'didn', 'who', 'our', 'how', \"doesn't\", 'with', 'won', 'your', 'her', 'there', 'she', 'have', \"shan't\", \"it's\", 'did', \"shouldn't\", 'most', 'when', 'whom', 'which', 'are', 'has', 'few', 'into', 'some', 'mustn', 'wouldn', 'been', 'after', 'be', 'by', 'o', 'or', 'these', 'a', 'weren', 'such', 'not', \"she's\", 'my', 'now', 'where', 'just', 'his', 'as', 'were', 'here', 'any', 'couldn', 'hasn', 'd', 'before', \"weren't\", 'myself', 'itself', \"you're\", 'if', 'herself', 'then', 'y', \"didn't\", 'those', 'me', 'this', 'ma', \"mustn't\", 'himself', 'over', 'haven', \"don't\", 'under', \"won't\", 'him', 'so', 'below', 'them', 'yourself', 'having', 'yours', 'i', 'more', 'do', 'nor', 'from', 'again', 'needn', 's', 'he', 'at', 'while', 'shouldn', \"you'll\", \"wasn't\", 'above', \"you'd\", 'an', 'off', 'theirs', 'against', 'no', \"haven't\", 'the', 'further', \"wouldn't\", 'doing', 'mightn', 'but', 'hadn', 'shan', 'being', 'about', 're', 'will', 'that', 'yourselves', 'm', 'it', 'and', 'between', 'don', 'why', 'their', \"couldn't\", 've', 'on', 'themselves', 'down', 'other', \"that'll\", 'ain', 'wasn', 'its', 'what', 'should', 'very', 'doesn', 'hers'}\n"
     ]
    },
    {
     "name": "stderr",
     "output_type": "stream",
     "text": [
      "[nltk_data] Downloading package stopwords to\n",
      "[nltk_data]     C:\\Users\\LENOVO\\AppData\\Roaming\\nltk_data...\n",
      "[nltk_data]   Package stopwords is already up-to-date!\n"
     ]
    }
   ],
   "source": [
    "#How to remove stop words\n",
    "import nltk \n",
    "nltk.download('stopwords')\n",
    "stopwords = set(nltk.corpus.stopwords.words('english'))\n",
    "print(stopwords)"
   ]
  },
  {
   "cell_type": "code",
   "execution_count": 19,
   "id": "d53bfbc2",
   "metadata": {},
   "outputs": [
    {
     "name": "stdout",
     "output_type": "stream",
     "text": [
      "['Let', 'defeat', 'SARS-CoV-2', 'together', 'www', 'cdc', 'gov']\n"
     ]
    }
   ],
   "source": [
    "#Function to remove stop words\n",
    "def remove_stop(tokens):\n",
    "    return [t for t in tokens if t.lower() not in stopwords]\n",
    "#Just testing it\n",
    "cleantokens= remove_stop(testtokens)\n",
    "print(cleantokens)"
   ]
  },
  {
   "cell_type": "code",
   "execution_count": 20,
   "id": "cb4d6d01",
   "metadata": {},
   "outputs": [],
   "source": [
    "#Lets make a pipeline\n",
    "pipeline = [str.lower, tokenize, remove_stop]\n",
    "def prepare(text, pipeline):\n",
    "    tokens = text\n",
    "    for fun in pipeline:\n",
    "        tokens = fun(tokens)\n",
    "    return tokens"
   ]
  },
  {
   "cell_type": "code",
   "execution_count": 21,
   "id": "2cdf59ec",
   "metadata": {},
   "outputs": [],
   "source": [
    "df['tokens'] = df['text'].apply(prepare, pipeline=pipeline)"
   ]
  },
  {
   "cell_type": "code",
   "execution_count": 22,
   "id": "2fa1b292",
   "metadata": {},
   "outputs": [
    {
     "data": {
      "text/html": [
       "<div>\n",
       "<style scoped>\n",
       "    .dataframe tbody tr th:only-of-type {\n",
       "        vertical-align: middle;\n",
       "    }\n",
       "\n",
       "    .dataframe tbody tr th {\n",
       "        vertical-align: top;\n",
       "    }\n",
       "\n",
       "    .dataframe thead th {\n",
       "        text-align: right;\n",
       "    }\n",
       "</style>\n",
       "<table border=\"1\" class=\"dataframe\">\n",
       "  <thead>\n",
       "    <tr style=\"text-align: right;\">\n",
       "      <th></th>\n",
       "      <th>session</th>\n",
       "      <th>year</th>\n",
       "      <th>country</th>\n",
       "      <th>country_name</th>\n",
       "      <th>speaker</th>\n",
       "      <th>position</th>\n",
       "      <th>text</th>\n",
       "      <th>length</th>\n",
       "      <th>tokens</th>\n",
       "      <th>num_tokens</th>\n",
       "    </tr>\n",
       "  </thead>\n",
       "  <tbody>\n",
       "    <tr>\n",
       "      <th>7502</th>\n",
       "      <td>70</td>\n",
       "      <td>2015</td>\n",
       "      <td>YEM</td>\n",
       "      <td>Yemen</td>\n",
       "      <td>MR. ABDRABUH MANSOUR HADI MANSOUR</td>\n",
       "      <td>PRESIDENT</td>\n",
       "      <td>ON BEHALF OF THE PEOPLE AND THE GOVERNMENT OF ...</td>\n",
       "      <td>10568</td>\n",
       "      <td>[behalf, people, government, yemen, would, lik...</td>\n",
       "      <td>894</td>\n",
       "    </tr>\n",
       "    <tr>\n",
       "      <th>7503</th>\n",
       "      <td>70</td>\n",
       "      <td>2015</td>\n",
       "      <td>YUG</td>\n",
       "      <td>Yugoslavia</td>\n",
       "      <td>MR. TOMISLAV NIKOLIĆ</td>\n",
       "      <td>PRESIDENT</td>\n",
       "      <td>\\nSEVENTY YEARS HAVE PASSED SINCE THE ESTABLIS...</td>\n",
       "      <td>25430</td>\n",
       "      <td>[seventy, years, passed, since, establishment,...</td>\n",
       "      <td>2118</td>\n",
       "    </tr>\n",
       "    <tr>\n",
       "      <th>7504</th>\n",
       "      <td>70</td>\n",
       "      <td>2015</td>\n",
       "      <td>ZAF</td>\n",
       "      <td>South Africa</td>\n",
       "      <td>JACOB ZUMA</td>\n",
       "      <td>PRESIDENT</td>\n",
       "      <td>I SHOULD LIKE TO CONGRATULATE THE PRESIDENT AN...</td>\n",
       "      <td>13662</td>\n",
       "      <td>[like, congratulate, president, country, denma...</td>\n",
       "      <td>1160</td>\n",
       "    </tr>\n",
       "    <tr>\n",
       "      <th>7505</th>\n",
       "      <td>70</td>\n",
       "      <td>2015</td>\n",
       "      <td>ZMB</td>\n",
       "      <td>Zambia</td>\n",
       "      <td>MR. EDGAR CHAGWA LUNGU</td>\n",
       "      <td>PRESIDENT</td>\n",
       "      <td>I WOULD LIKE TO BEGIN BY THANKING THE SECRETAR...</td>\n",
       "      <td>14247</td>\n",
       "      <td>[would, like, begin, thanking, secretary-gener...</td>\n",
       "      <td>1197</td>\n",
       "    </tr>\n",
       "    <tr>\n",
       "      <th>7506</th>\n",
       "      <td>70</td>\n",
       "      <td>2015</td>\n",
       "      <td>ZWE</td>\n",
       "      <td>Zimbabwe</td>\n",
       "      <td>ROBERT MUGABE</td>\n",
       "      <td>PRESIDENT</td>\n",
       "      <td>ALLOW ME AT THE OUTSET TO EXTEND TO MR. MOGENS...</td>\n",
       "      <td>11013</td>\n",
       "      <td>[allow, outset, extend, mr, mogens, lykketoft,...</td>\n",
       "      <td>903</td>\n",
       "    </tr>\n",
       "  </tbody>\n",
       "</table>\n",
       "</div>"
      ],
      "text/plain": [
       "      session  year country  country_name                            speaker  \\\n",
       "7502       70  2015     YEM         Yemen  MR. ABDRABUH MANSOUR HADI MANSOUR   \n",
       "7503       70  2015     YUG    Yugoslavia               MR. TOMISLAV NIKOLIĆ   \n",
       "7504       70  2015     ZAF  South Africa                         JACOB ZUMA   \n",
       "7505       70  2015     ZMB        Zambia             MR. EDGAR CHAGWA LUNGU   \n",
       "7506       70  2015     ZWE      Zimbabwe                      ROBERT MUGABE   \n",
       "\n",
       "       position                                               text  length  \\\n",
       "7502  PRESIDENT  ON BEHALF OF THE PEOPLE AND THE GOVERNMENT OF ...   10568   \n",
       "7503  PRESIDENT  \\nSEVENTY YEARS HAVE PASSED SINCE THE ESTABLIS...   25430   \n",
       "7504  PRESIDENT  I SHOULD LIKE TO CONGRATULATE THE PRESIDENT AN...   13662   \n",
       "7505  PRESIDENT  I WOULD LIKE TO BEGIN BY THANKING THE SECRETAR...   14247   \n",
       "7506  PRESIDENT  ALLOW ME AT THE OUTSET TO EXTEND TO MR. MOGENS...   11013   \n",
       "\n",
       "                                                 tokens  num_tokens  \n",
       "7502  [behalf, people, government, yemen, would, lik...         894  \n",
       "7503  [seventy, years, passed, since, establishment,...        2118  \n",
       "7504  [like, congratulate, president, country, denma...        1160  \n",
       "7505  [would, like, begin, thanking, secretary-gener...        1197  \n",
       "7506  [allow, outset, extend, mr, mogens, lykketoft,...         903  "
      ]
     },
     "execution_count": 22,
     "metadata": {},
     "output_type": "execute_result"
    }
   ],
   "source": [
    "#count the tokens\n",
    "df['num_tokens'] = df['tokens'].map(len)\n",
    "df.tail()"
   ]
  },
  {
   "cell_type": "code",
   "execution_count": 23,
   "id": "fee41d10",
   "metadata": {},
   "outputs": [
    {
     "name": "stdout",
     "output_type": "stream",
     "text": [
      "Counter({'my': 3, 'cats': 2, 'She': 1, 'likes': 1, 'and': 1, 'like': 1, 'sofa': 1})\n"
     ]
    }
   ],
   "source": [
    "#Using the counter\n",
    "from collections import Counter\n",
    "tokens = tokenize(\"She likes my cats and my cats like my sofa.\")\n",
    "testcount= Counter(tokens)\n",
    "print(testcount)"
   ]
  },
  {
   "cell_type": "code",
   "execution_count": 24,
   "id": "921bc246",
   "metadata": {},
   "outputs": [
    {
     "name": "stdout",
     "output_type": "stream",
     "text": [
      "Counter({'my': 3, 'cats': 3, 'She': 2, 'likes': 2, 'and': 2, 'like': 1, 'sofa': 1, 'dogs': 1})\n"
     ]
    }
   ],
   "source": [
    "#Adding new data to the current count\n",
    "more_tokens = tokenize(\"She likes dogs and cats.\")\n",
    "testcount.update(more_tokens)\n",
    "print(testcount)"
   ]
  },
  {
   "cell_type": "code",
   "execution_count": 25,
   "id": "847a0c20",
   "metadata": {},
   "outputs": [
    {
     "name": "stdout",
     "output_type": "stream",
     "text": [
      "[('nations', 124508), ('united', 120763), ('international', 117223), ('world', 89421), ('countries', 85734)]\n"
     ]
    }
   ],
   "source": [
    "counter = Counter()\n",
    "df['tokens'].map(counter.update)\n",
    "print(counter.most_common(5))"
   ]
  },
  {
   "cell_type": "code",
   "execution_count": 26,
   "id": "f456b693",
   "metadata": {},
   "outputs": [],
   "source": [
    "#Put the word freqency in its own dataframe for analysis\n",
    "freq_df = pd.DataFrame.from_dict(counter, orient='index', columns=['freq'])\n",
    "freq_df = freq_df.query('freq >= 1')\n",
    "freq_df.index.name = 'token'"
   ]
  },
  {
   "cell_type": "code",
   "execution_count": 27,
   "id": "9aa153e7",
   "metadata": {},
   "outputs": [
    {
     "data": {
      "text/html": [
       "<div>\n",
       "<style scoped>\n",
       "    .dataframe tbody tr th:only-of-type {\n",
       "        vertical-align: middle;\n",
       "    }\n",
       "\n",
       "    .dataframe tbody tr th {\n",
       "        vertical-align: top;\n",
       "    }\n",
       "\n",
       "    .dataframe thead th {\n",
       "        text-align: right;\n",
       "    }\n",
       "</style>\n",
       "<table border=\"1\" class=\"dataframe\">\n",
       "  <thead>\n",
       "    <tr style=\"text-align: right;\">\n",
       "      <th></th>\n",
       "      <th>freq</th>\n",
       "    </tr>\n",
       "    <tr>\n",
       "      <th>token</th>\n",
       "      <th></th>\n",
       "    </tr>\n",
       "  </thead>\n",
       "  <tbody>\n",
       "    <tr>\n",
       "      <th>nations</th>\n",
       "      <td>124508</td>\n",
       "    </tr>\n",
       "    <tr>\n",
       "      <th>united</th>\n",
       "      <td>120763</td>\n",
       "    </tr>\n",
       "    <tr>\n",
       "      <th>international</th>\n",
       "      <td>117223</td>\n",
       "    </tr>\n",
       "    <tr>\n",
       "      <th>world</th>\n",
       "      <td>89421</td>\n",
       "    </tr>\n",
       "    <tr>\n",
       "      <th>countries</th>\n",
       "      <td>85734</td>\n",
       "    </tr>\n",
       "    <tr>\n",
       "      <th>peace</th>\n",
       "      <td>72625</td>\n",
       "    </tr>\n",
       "    <tr>\n",
       "      <th>development</th>\n",
       "      <td>62632</td>\n",
       "    </tr>\n",
       "    <tr>\n",
       "      <th>states</th>\n",
       "      <td>59713</td>\n",
       "    </tr>\n",
       "    <tr>\n",
       "      <th>people</th>\n",
       "      <td>59338</td>\n",
       "    </tr>\n",
       "    <tr>\n",
       "      <th>security</th>\n",
       "      <td>58425</td>\n",
       "    </tr>\n",
       "  </tbody>\n",
       "</table>\n",
       "</div>"
      ],
      "text/plain": [
       "                 freq\n",
       "token                \n",
       "nations        124508\n",
       "united         120763\n",
       "international  117223\n",
       "world           89421\n",
       "countries       85734\n",
       "peace           72625\n",
       "development     62632\n",
       "states          59713\n",
       "people          59338\n",
       "security        58425"
      ]
     },
     "execution_count": 27,
     "metadata": {},
     "output_type": "execute_result"
    }
   ],
   "source": [
    "#sort and display\n",
    "freq_df = freq_df.sort_values('freq', ascending=False)\n",
    "freq_df.head(10)"
   ]
  },
  {
   "cell_type": "code",
   "execution_count": 28,
   "id": "57e4329c",
   "metadata": {},
   "outputs": [
    {
     "data": {
      "text/html": [
       "<div>\n",
       "<style scoped>\n",
       "    .dataframe tbody tr th:only-of-type {\n",
       "        vertical-align: middle;\n",
       "    }\n",
       "\n",
       "    .dataframe tbody tr th {\n",
       "        vertical-align: top;\n",
       "    }\n",
       "\n",
       "    .dataframe thead th {\n",
       "        text-align: right;\n",
       "    }\n",
       "</style>\n",
       "<table border=\"1\" class=\"dataframe\">\n",
       "  <thead>\n",
       "    <tr style=\"text-align: right;\">\n",
       "      <th></th>\n",
       "      <th>freq</th>\n",
       "    </tr>\n",
       "  </thead>\n",
       "  <tbody>\n",
       "    <tr>\n",
       "      <th>count</th>\n",
       "      <td>68302.000000</td>\n",
       "    </tr>\n",
       "    <tr>\n",
       "      <th>mean</th>\n",
       "      <td>162.686276</td>\n",
       "    </tr>\n",
       "    <tr>\n",
       "      <th>std</th>\n",
       "      <td>1544.080072</td>\n",
       "    </tr>\n",
       "    <tr>\n",
       "      <th>min</th>\n",
       "      <td>1.000000</td>\n",
       "    </tr>\n",
       "    <tr>\n",
       "      <th>25%</th>\n",
       "      <td>1.000000</td>\n",
       "    </tr>\n",
       "    <tr>\n",
       "      <th>50%</th>\n",
       "      <td>2.000000</td>\n",
       "    </tr>\n",
       "    <tr>\n",
       "      <th>75%</th>\n",
       "      <td>15.000000</td>\n",
       "    </tr>\n",
       "    <tr>\n",
       "      <th>max</th>\n",
       "      <td>124508.000000</td>\n",
       "    </tr>\n",
       "  </tbody>\n",
       "</table>\n",
       "</div>"
      ],
      "text/plain": [
       "                freq\n",
       "count   68302.000000\n",
       "mean      162.686276\n",
       "std      1544.080072\n",
       "min         1.000000\n",
       "25%         1.000000\n",
       "50%         2.000000\n",
       "75%        15.000000\n",
       "max    124508.000000"
      ]
     },
     "execution_count": 28,
     "metadata": {},
     "output_type": "execute_result"
    }
   ],
   "source": [
    "#Stats\n",
    "freq_df.describe()\n"
   ]
  },
  {
   "cell_type": "code",
   "execution_count": 29,
   "id": "0521a131",
   "metadata": {},
   "outputs": [
    {
     "data": {
      "text/plain": [
       "[Text(0.5, 0, 'Frequency'), Text(0, 0.5, 'Token'), Text(0.5, 1.0, 'Top Words')]"
      ]
     },
     "execution_count": 29,
     "metadata": {},
     "output_type": "execute_result"
    },
    {
     "data": {
      "image/png": "[encoded data removed]",
      "text/plain": [
       "<Figure size 864x576 with 1 Axes>"
      ]
     },
     "metadata": {
      "needs_background": "light"
     },
     "output_type": "display_data"
    }
   ],
   "source": [
    "#Bar chart\n",
    "ax = freq_df.head(15).plot(kind='barh', width=0.95, figsize=(12,8))\n",
    "ax.invert_yaxis()\n",
    "ax.set(xlabel='Frequency', ylabel='Token', title='Top Words')"
   ]
  },
  {
   "cell_type": "code",
   "execution_count": 31,
   "id": "35d0eac4",
   "metadata": {},
   "outputs": [
    {
     "ename": "ValueError",
     "evalue": "Only supported for TrueType fonts",
     "output_type": "error",
     "traceback": [
      "\u001b[1;31m---------------------------------------------------------------------------\u001b[0m",
      "\u001b[1;31mValueError\u001b[0m                                Traceback (most recent call last)",
      "\u001b[1;32m~\\AppData\\Local\\Temp/ipykernel_15216/4069682262.py\u001b[0m in \u001b[0;36m<module>\u001b[1;34m\u001b[0m\n\u001b[0;32m      7\u001b[0m \u001b[0mplt\u001b[0m\u001b[1;33m.\u001b[0m\u001b[0mfigure\u001b[0m\u001b[1;33m(\u001b[0m\u001b[0mfigsize\u001b[0m\u001b[1;33m=\u001b[0m\u001b[1;33m(\u001b[0m\u001b[1;36m14\u001b[0m\u001b[1;33m,\u001b[0m \u001b[1;36m7\u001b[0m\u001b[1;33m)\u001b[0m\u001b[1;33m)\u001b[0m \u001b[1;31m###\u001b[0m\u001b[1;33m\u001b[0m\u001b[1;33m\u001b[0m\u001b[0m\n\u001b[0;32m      8\u001b[0m \u001b[0mwc\u001b[0m \u001b[1;33m=\u001b[0m \u001b[0mWordCloud\u001b[0m\u001b[1;33m(\u001b[0m\u001b[0mmax_words\u001b[0m\u001b[1;33m=\u001b[0m\u001b[1;36m100\u001b[0m\u001b[1;33m)\u001b[0m\u001b[1;33m\u001b[0m\u001b[1;33m\u001b[0m\u001b[0m\n\u001b[1;32m----> 9\u001b[1;33m \u001b[0mwc\u001b[0m\u001b[1;33m.\u001b[0m\u001b[0mgenerate\u001b[0m\u001b[1;33m(\u001b[0m\u001b[0mtext\u001b[0m\u001b[1;33m)\u001b[0m\u001b[1;33m\u001b[0m\u001b[1;33m\u001b[0m\u001b[0m\n\u001b[0m\u001b[0;32m     10\u001b[0m \u001b[0mplt\u001b[0m\u001b[1;33m.\u001b[0m\u001b[0mimshow\u001b[0m\u001b[1;33m(\u001b[0m\u001b[0mwc\u001b[0m\u001b[1;33m,\u001b[0m \u001b[0minterpolation\u001b[0m\u001b[1;33m=\u001b[0m\u001b[1;34m'bilinear'\u001b[0m\u001b[1;33m)\u001b[0m\u001b[1;33m\u001b[0m\u001b[1;33m\u001b[0m\u001b[0m\n\u001b[0;32m     11\u001b[0m \u001b[0mplt\u001b[0m\u001b[1;33m.\u001b[0m\u001b[0maxis\u001b[0m\u001b[1;33m(\u001b[0m\u001b[1;34m\"off\"\u001b[0m\u001b[1;33m)\u001b[0m\u001b[1;33m\u001b[0m\u001b[1;33m\u001b[0m\u001b[0m\n",
      "\u001b[1;32m~\\anaconda3\\lib\\site-packages\\wordcloud\\wordcloud.py\u001b[0m in \u001b[0;36mgenerate\u001b[1;34m(self, text)\u001b[0m\n\u001b[0;32m    640\u001b[0m         \u001b[0mself\u001b[0m\u001b[1;33m\u001b[0m\u001b[1;33m\u001b[0m\u001b[0m\n\u001b[0;32m    641\u001b[0m         \"\"\"\n\u001b[1;32m--> 642\u001b[1;33m         \u001b[1;32mreturn\u001b[0m \u001b[0mself\u001b[0m\u001b[1;33m.\u001b[0m\u001b[0mgenerate_from_text\u001b[0m\u001b[1;33m(\u001b[0m\u001b[0mtext\u001b[0m\u001b[1;33m)\u001b[0m\u001b[1;33m\u001b[0m\u001b[1;33m\u001b[0m\u001b[0m\n\u001b[0m\u001b[0;32m    643\u001b[0m \u001b[1;33m\u001b[0m\u001b[0m\n\u001b[0;32m    644\u001b[0m     \u001b[1;32mdef\u001b[0m \u001b[0m_check_generated\u001b[0m\u001b[1;33m(\u001b[0m\u001b[0mself\u001b[0m\u001b[1;33m)\u001b[0m\u001b[1;33m:\u001b[0m\u001b[1;33m\u001b[0m\u001b[1;33m\u001b[0m\u001b[0m\n",
      "\u001b[1;32m~\\anaconda3\\lib\\site-packages\\wordcloud\\wordcloud.py\u001b[0m in \u001b[0;36mgenerate_from_text\u001b[1;34m(self, text)\u001b[0m\n\u001b[0;32m    622\u001b[0m         \"\"\"\n\u001b[0;32m    623\u001b[0m         \u001b[0mwords\u001b[0m \u001b[1;33m=\u001b[0m \u001b[0mself\u001b[0m\u001b[1;33m.\u001b[0m\u001b[0mprocess_text\u001b[0m\u001b[1;33m(\u001b[0m\u001b[0mtext\u001b[0m\u001b[1;33m)\u001b[0m\u001b[1;33m\u001b[0m\u001b[1;33m\u001b[0m\u001b[0m\n\u001b[1;32m--> 624\u001b[1;33m         \u001b[0mself\u001b[0m\u001b[1;33m.\u001b[0m\u001b[0mgenerate_from_frequencies\u001b[0m\u001b[1;33m(\u001b[0m\u001b[0mwords\u001b[0m\u001b[1;33m)\u001b[0m\u001b[1;33m\u001b[0m\u001b[1;33m\u001b[0m\u001b[0m\n\u001b[0m\u001b[0;32m    625\u001b[0m         \u001b[1;32mreturn\u001b[0m \u001b[0mself\u001b[0m\u001b[1;33m\u001b[0m\u001b[1;33m\u001b[0m\u001b[0m\n\u001b[0;32m    626\u001b[0m \u001b[1;33m\u001b[0m\u001b[0m\n",
      "\u001b[1;32m~\\anaconda3\\lib\\site-packages\\wordcloud\\wordcloud.py\u001b[0m in \u001b[0;36mgenerate_from_frequencies\u001b[1;34m(self, frequencies, max_font_size)\u001b[0m\n\u001b[0;32m    451\u001b[0m                 \u001b[0mfont_size\u001b[0m \u001b[1;33m=\u001b[0m \u001b[0mself\u001b[0m\u001b[1;33m.\u001b[0m\u001b[0mheight\u001b[0m\u001b[1;33m\u001b[0m\u001b[1;33m\u001b[0m\u001b[0m\n\u001b[0;32m    452\u001b[0m             \u001b[1;32melse\u001b[0m\u001b[1;33m:\u001b[0m\u001b[1;33m\u001b[0m\u001b[1;33m\u001b[0m\u001b[0m\n\u001b[1;32m--> 453\u001b[1;33m                 self.generate_from_frequencies(dict(frequencies[:2]),\n\u001b[0m\u001b[0;32m    454\u001b[0m                                                max_font_size=self.height)\n\u001b[0;32m    455\u001b[0m                 \u001b[1;31m# find font sizes\u001b[0m\u001b[1;33m\u001b[0m\u001b[1;33m\u001b[0m\u001b[0m\n",
      "\u001b[1;32m~\\anaconda3\\lib\\site-packages\\wordcloud\\wordcloud.py\u001b[0m in \u001b[0;36mgenerate_from_frequencies\u001b[1;34m(self, frequencies, max_font_size)\u001b[0m\n\u001b[0;32m    509\u001b[0m                     font, orientation=orientation)\n\u001b[0;32m    510\u001b[0m                 \u001b[1;31m# get size of resulting text\u001b[0m\u001b[1;33m\u001b[0m\u001b[1;33m\u001b[0m\u001b[0m\n\u001b[1;32m--> 511\u001b[1;33m                 \u001b[0mbox_size\u001b[0m \u001b[1;33m=\u001b[0m \u001b[0mdraw\u001b[0m\u001b[1;33m.\u001b[0m\u001b[0mtextbbox\u001b[0m\u001b[1;33m(\u001b[0m\u001b[1;33m(\u001b[0m\u001b[1;36m0\u001b[0m\u001b[1;33m,\u001b[0m \u001b[1;36m0\u001b[0m\u001b[1;33m)\u001b[0m\u001b[1;33m,\u001b[0m \u001b[0mword\u001b[0m\u001b[1;33m,\u001b[0m \u001b[0mfont\u001b[0m\u001b[1;33m=\u001b[0m\u001b[0mtransposed_font\u001b[0m\u001b[1;33m,\u001b[0m \u001b[0manchor\u001b[0m\u001b[1;33m=\u001b[0m\u001b[1;34m\"lt\"\u001b[0m\u001b[1;33m)\u001b[0m\u001b[1;33m\u001b[0m\u001b[1;33m\u001b[0m\u001b[0m\n\u001b[0m\u001b[0;32m    512\u001b[0m                 \u001b[1;31m# find possible places using integral image:\u001b[0m\u001b[1;33m\u001b[0m\u001b[1;33m\u001b[0m\u001b[0m\n\u001b[0;32m    513\u001b[0m                 result = occupancy.sample_position(box_size[3] + self.margin,\n",
      "\u001b[1;32m~\\anaconda3\\lib\\site-packages\\PIL\\ImageDraw.py\u001b[0m in \u001b[0;36mtextbbox\u001b[1;34m(self, xy, text, font, anchor, spacing, align, direction, features, language, stroke_width, embedded_color)\u001b[0m\n\u001b[0;32m    649\u001b[0m             \u001b[0mfont\u001b[0m \u001b[1;33m=\u001b[0m \u001b[0mself\u001b[0m\u001b[1;33m.\u001b[0m\u001b[0mgetfont\u001b[0m\u001b[1;33m(\u001b[0m\u001b[1;33m)\u001b[0m\u001b[1;33m\u001b[0m\u001b[1;33m\u001b[0m\u001b[0m\n\u001b[0;32m    650\u001b[0m         \u001b[1;32mif\u001b[0m \u001b[1;32mnot\u001b[0m \u001b[0misinstance\u001b[0m\u001b[1;33m(\u001b[0m\u001b[0mfont\u001b[0m\u001b[1;33m,\u001b[0m \u001b[0mImageFont\u001b[0m\u001b[1;33m.\u001b[0m\u001b[0mFreeTypeFont\u001b[0m\u001b[1;33m)\u001b[0m\u001b[1;33m:\u001b[0m\u001b[1;33m\u001b[0m\u001b[1;33m\u001b[0m\u001b[0m\n\u001b[1;32m--> 651\u001b[1;33m             \u001b[1;32mraise\u001b[0m \u001b[0mValueError\u001b[0m\u001b[1;33m(\u001b[0m\u001b[1;34m\"Only supported for TrueType fonts\"\u001b[0m\u001b[1;33m)\u001b[0m\u001b[1;33m\u001b[0m\u001b[1;33m\u001b[0m\u001b[0m\n\u001b[0m\u001b[0;32m    652\u001b[0m         \u001b[0mmode\u001b[0m \u001b[1;33m=\u001b[0m \u001b[1;34m\"RGBA\"\u001b[0m \u001b[1;32mif\u001b[0m \u001b[0membedded_color\u001b[0m \u001b[1;32melse\u001b[0m \u001b[0mself\u001b[0m\u001b[1;33m.\u001b[0m\u001b[0mfontmode\u001b[0m\u001b[1;33m\u001b[0m\u001b[1;33m\u001b[0m\u001b[0m\n\u001b[0;32m    653\u001b[0m         bbox = font.getbbox(\n",
      "\u001b[1;31mValueError\u001b[0m: Only supported for TrueType fonts"
     ]
    },
    {
     "data": {
      "text/plain": [
       "<Figure size 1008x504 with 0 Axes>"
      ]
     },
     "metadata": {},
     "output_type": "display_data"
    }
   ],
   "source": [
    "#Word cloud\n",
    "from wordcloud import WordCloud\n",
    "from matplotlib import pyplot as plt\n",
    "\n",
    "text = df.query(\"year==2015 and country=='USA'\")['text'].values[0]\n",
    "\n",
    "plt.figure(figsize=(14, 7)) ###\n",
    "wc = WordCloud(max_words=100, stopwords=stopwords)\n",
    "wc.generate(text)\n",
    "plt.imshow(wc, interpolation='bilinear')\n",
    "plt.axis(\"off\")"
   ]
  },
  {
   "cell_type": "code",
   "execution_count": null,
   "id": "64b12547",
   "metadata": {},
   "outputs": [],
   "source": [
    "wc = WordCloud(background_color='white', width = 300, height=300, max_words=100, margin=2)\n",
    "wc.fit_words(freq_df['freq'].to_dict() )\n",
    "plt.figure(figsize = (8, 8), facecolor = None)\n",
    "plt.imshow(wc)\n",
    "plt.axis(\"off\")\n",
    "plt.tight_layout(pad = 0)\n",
    "plt.show()"
   ]
  },
  {
   "cell_type": "code",
   "execution_count": null,
   "id": "59c29055",
   "metadata": {},
   "outputs": [],
   "source": []
  }
 ],
 "metadata": {
  "kernelspec": {
   "display_name": "Python 3 (ipykernel)",
   "language": "python",
   "name": "python3"
  },
  "language_info": {
   "codemirror_mode": {
    "name": "ipython",
    "version": 3
   },
   "file_extension": ".py",
   "mimetype": "text/x-python",
   "name": "python",
   "nbconvert_exporter": "python",
   "pygments_lexer": "ipython3",
   "version": "3.9.7"
  },
  "varInspector": {
   "cols": {
    "lenName": 16,
    "lenType": 16,
    "lenVar": 40
   },
   "kernels_config": {
    "python": {
     "delete_cmd_postfix": "",
     "delete_cmd_prefix": "del ",
     "library": "var_list.py",
     "varRefreshCmd": "print(var_dic_list())"
    },
    "r": {
     "delete_cmd_postfix": ") ",
     "delete_cmd_prefix": "rm(",
     "library": "var_list.r",
     "varRefreshCmd": "cat(var_dic_list()) "
    }
   },
   "types_to_exclude": [
    "module",
    "function",
    "builtin_function_or_method",
    "instance",
    "_Feature"
   ],
   "window_display": false
  }
 },
 "nbformat": 4,
 "nbformat_minor": 5
}
