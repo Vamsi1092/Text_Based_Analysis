{
 "cells": [
  {
   "cell_type": "markdown",
   "id": "efbb15c5",
   "metadata": {},
   "source": [
    "# STRING METHODS AND REGEX FUNCTIONS"
   ]
  },
  {
   "cell_type": "markdown",
   "id": "487c10f0",
   "metadata": {},
   "source": [
    "## Capitalization and Case Handling"
   ]
  },
  {
   "cell_type": "code",
   "execution_count": 1,
   "id": "9228d5fd",
   "metadata": {},
   "outputs": [
    {
     "name": "stdout",
     "output_type": "stream",
     "text": [
      "Hello world\n"
     ]
    }
   ],
   "source": [
    "# capitalize() - Converts the first character of the string to uppercase\n",
    "string = \"hello world\"\n",
    "result = string.capitalize()\n",
    "print(result)"
   ]
  },
  {
   "cell_type": "markdown",
   "id": "54fa3b34",
   "metadata": {},
   "source": [
    "### The main difference between LOWER and CASEFOLD is how it treats special characters."
   ]
  },
  {
   "cell_type": "code",
   "execution_count": 2,
   "id": "f70d3ef2",
   "metadata": {},
   "outputs": [
    {
     "name": "stdout",
     "output_type": "stream",
     "text": [
      "hello world\n"
     ]
    }
   ],
   "source": [
    "# casefold() - Implements caseless string matching\n",
    "string = \"Hello World\"\n",
    "result = string.casefold()\n",
    "print(result) "
   ]
  },
  {
   "cell_type": "markdown",
   "id": "7e34e271",
   "metadata": {},
   "source": [
    "## Alignment and Padding"
   ]
  },
  {
   "cell_type": "markdown",
   "id": "77229c15",
   "metadata": {},
   "source": [
    "### Places the string in CENTER and fills the rest with special characters"
   ]
  },
  {
   "cell_type": "code",
   "execution_count": 3,
   "id": "8b00dbf4",
   "metadata": {},
   "outputs": [
    {
     "name": "stdout",
     "output_type": "stream",
     "text": [
      "**hello***\n"
     ]
    }
   ],
   "source": [
    "# center() - Pad the string with the specified character.\n",
    "string = \"hello\"\n",
    "result = string.center(10, '*')\n",
    "print(result)  "
   ]
  },
  {
   "cell_type": "code",
   "execution_count": 7,
   "id": "4c84effb",
   "metadata": {},
   "outputs": [
    {
     "name": "stdout",
     "output_type": "stream",
     "text": [
      "hello   world\n"
     ]
    }
   ],
   "source": [
    "# expandtabs() - Specifies the amount of space to be substituted with the \"\\t\" symbol in the string\n",
    "string = \"hello\\tworld\"\n",
    "result = string.expandtabs(4)\n",
    "print(result) "
   ]
  },
  {
   "cell_type": "markdown",
   "id": "44fbafeb",
   "metadata": {},
   "source": [
    "## Search and Count"
   ]
  },
  {
   "cell_type": "code",
   "execution_count": 4,
   "id": "36ee42e9",
   "metadata": {},
   "outputs": [
    {
     "name": "stdout",
     "output_type": "stream",
     "text": [
      "2\n"
     ]
    }
   ],
   "source": [
    "# count() - Returns the number of occurrences of a substring in the string.\n",
    "string = \"hello world, hello universe\"\n",
    "result = string.count(\"hello\")\n",
    "print(result)"
   ]
  },
  {
   "cell_type": "code",
   "execution_count": 6,
   "id": "790cde2a",
   "metadata": {},
   "outputs": [
    {
     "name": "stdout",
     "output_type": "stream",
     "text": [
      "True\n"
     ]
    }
   ],
   "source": [
    "# endswith() - Returns True if a string ends with the given suffix\n",
    "string = \"hello world\"\n",
    "result = string.endswith(\"world\")\n",
    "print(result)"
   ]
  },
  {
   "cell_type": "code",
   "execution_count": 8,
   "id": "a0c54471",
   "metadata": {},
   "outputs": [
    {
     "name": "stdout",
     "output_type": "stream",
     "text": [
      "6\n"
     ]
    }
   ],
   "source": [
    "# find() - Returns the lowest index of the substring if found\n",
    "string = \"hello world\"\n",
    "result = string.find(\"world\")\n",
    "print(result) "
   ]
  },
  {
   "cell_type": "markdown",
   "id": "f18fe76a",
   "metadata": {},
   "source": [
    "## Encoding and Formatting"
   ]
  },
  {
   "cell_type": "code",
   "execution_count": 5,
   "id": "87577988",
   "metadata": {},
   "outputs": [
    {
     "name": "stdout",
     "output_type": "stream",
     "text": [
      "b'hello world'\n"
     ]
    }
   ],
   "source": [
    "# encode() - Encodes strings with the specified encoding scheme\n",
    "string = \"hello world\"\n",
    "result = string.encode(encoding='utf-8')\n",
    "print(result)"
   ]
  },
  {
   "cell_type": "markdown",
   "id": "154cc1fa",
   "metadata": {},
   "source": [
    "### The format() method in Python is used to create a formatted string by replacing placeholders {} with values"
   ]
  },
  {
   "cell_type": "code",
   "execution_count": 9,
   "id": "ad75982e",
   "metadata": {},
   "outputs": [
    {
     "name": "stdout",
     "output_type": "stream",
     "text": [
      "My name is vamsi and I am 23 years old.\n"
     ]
    }
   ],
   "source": [
    "# format() - Formats the string for printing to the console\n",
    "name = \"vamsi\"\n",
    "age = 23\n",
    "result = \"My name is {} and I am {} years old.\".format(name, age)\n",
    "print(result)"
   ]
  },
  {
   "cell_type": "code",
   "execution_count": 10,
   "id": "f80d2010",
   "metadata": {},
   "outputs": [
    {
     "name": "stdout",
     "output_type": "stream",
     "text": [
      "My name is vamsi and I am 23 years old.\n"
     ]
    }
   ],
   "source": [
    "# format_map() - Formats specified values in a string using a dictionary\n",
    "values = {'name': 'vamsi', 'age': 23}\n",
    "result = \"My name is {name} and I am {age} years old.\".format_map(values)\n",
    "print(result)"
   ]
  },
  {
   "cell_type": "markdown",
   "id": "45d0951b",
   "metadata": {},
   "source": [
    "## Identification and Character Checks"
   ]
  },
  {
   "cell_type": "code",
   "execution_count": 12,
   "id": "d04558b8",
   "metadata": {},
   "outputs": [
    {
     "name": "stdout",
     "output_type": "stream",
     "text": [
      "True\n"
     ]
    }
   ],
   "source": [
    "# isalnum() - Checks whether all characters in a given string are alphanumeric or not\n",
    "alphanumeric_str = \"hello123\"\n",
    "result = alphanumeric_str.isalnum()\n",
    "print(result)"
   ]
  },
  {
   "cell_type": "code",
   "execution_count": 13,
   "id": "77412c7f",
   "metadata": {},
   "outputs": [
    {
     "name": "stdout",
     "output_type": "stream",
     "text": [
      "True\n"
     ]
    }
   ],
   "source": [
    "# isalpha() - Returns True if all characters in the string are alphabets\n",
    "alpha_str = \"hello\"\n",
    "result = alpha_str.isalpha()\n",
    "print(result) "
   ]
  },
  {
   "cell_type": "code",
   "execution_count": 14,
   "id": "191dba20",
   "metadata": {},
   "outputs": [
    {
     "name": "stdout",
     "output_type": "stream",
     "text": [
      "True\n"
     ]
    }
   ],
   "source": [
    "# isdecimal() - Returns True if all characters in a string are decimal\n",
    "decimal_str = \"123\"\n",
    "result = decimal_str.isdecimal()\n",
    "print(result) "
   ]
  },
  {
   "cell_type": "code",
   "execution_count": 15,
   "id": "7be6dadd",
   "metadata": {},
   "outputs": [
    {
     "name": "stdout",
     "output_type": "stream",
     "text": [
      "True\n"
     ]
    }
   ],
   "source": [
    "# isdigit() - Returns True if all characters in the string are digits\n",
    "digit_str = \"123\"\n",
    "result = digit_str.isdigit()\n",
    "print(result) "
   ]
  },
  {
   "cell_type": "markdown",
   "id": "0740651a",
   "metadata": {},
   "source": [
    "###  Identifiers must start with a letter (a-z, A-Z) or an underscore (_) and can be followed by letters, numbers, or underscores"
   ]
  },
  {
   "cell_type": "code",
   "execution_count": 16,
   "id": "196ae18f",
   "metadata": {},
   "outputs": [
    {
     "name": "stdout",
     "output_type": "stream",
     "text": [
      "True\n"
     ]
    }
   ],
   "source": [
    "# isidentifier() - Check whether a string is a valid identifier or not\n",
    "identifier_str = \"hello_world\"\n",
    "result = identifier_str.isidentifier()\n",
    "print(result) "
   ]
  },
  {
   "cell_type": "code",
   "execution_count": 17,
   "id": "cf974357",
   "metadata": {},
   "outputs": [
    {
     "name": "stdout",
     "output_type": "stream",
     "text": [
      "True\n"
     ]
    }
   ],
   "source": [
    "# islower() - Checks if all characters in the string are lowercase\n",
    "lowercase_str = \"hello\"\n",
    "result = lowercase_str.islower()\n",
    "print(result)  "
   ]
  },
  {
   "cell_type": "code",
   "execution_count": 18,
   "id": "4e0eecd7",
   "metadata": {},
   "outputs": [
    {
     "name": "stdout",
     "output_type": "stream",
     "text": [
      "True\n"
     ]
    }
   ],
   "source": [
    "# isnumeric() - Returns True if all characters in the string are numeric characters\n",
    "numeric_str = \"123\"\n",
    "result = numeric_str.isnumeric()\n",
    "print(result) "
   ]
  },
  {
   "cell_type": "code",
   "execution_count": 19,
   "id": "9c63529b",
   "metadata": {},
   "outputs": [
    {
     "name": "stdout",
     "output_type": "stream",
     "text": [
      "False\n"
     ]
    }
   ],
   "source": [
    "# isprintable() - Returns True if all characters in the string are printable or the string is empty\n",
    "printable_str = \"hello\\nworld\"\n",
    "result = printable_str.isprintable()\n",
    "print(result)  "
   ]
  },
  {
   "cell_type": "code",
   "execution_count": 20,
   "id": "46d89f01",
   "metadata": {},
   "outputs": [
    {
     "name": "stdout",
     "output_type": "stream",
     "text": [
      "True\n"
     ]
    }
   ],
   "source": [
    "# isspace() - Returns True if all characters in the string are whitespace characters\n",
    "space_str = \"   \"\n",
    "result = space_str.isspace()\n",
    "print(result) "
   ]
  },
  {
   "cell_type": "code",
   "execution_count": 21,
   "id": "584363e4",
   "metadata": {},
   "outputs": [
    {
     "name": "stdout",
     "output_type": "stream",
     "text": [
      "True\n"
     ]
    }
   ],
   "source": [
    "# istitle() - Returns True if the string is a title-cased string\n",
    "title_str = \"Hello World\"\n",
    "result = title_str.istitle()\n",
    "print(result)  "
   ]
  },
  {
   "cell_type": "code",
   "execution_count": 22,
   "id": "7b254dba",
   "metadata": {},
   "outputs": [
    {
     "name": "stdout",
     "output_type": "stream",
     "text": [
      "True\n"
     ]
    }
   ],
   "source": [
    "# isupper() - Checks if all characters in the string are uppercase\n",
    "uppercase_str = \"HELLO\"\n",
    "result = uppercase_str.isupper()\n",
    "print(result) "
   ]
  },
  {
   "cell_type": "markdown",
   "id": "ea34bbf3",
   "metadata": {},
   "source": [
    "## Transformation and Modification"
   ]
  },
  {
   "cell_type": "code",
   "execution_count": 23,
   "id": "d54db0b9",
   "metadata": {},
   "outputs": [
    {
     "name": "stdout",
     "output_type": "stream",
     "text": [
      "hello-world\n"
     ]
    }
   ],
   "source": [
    "# join() - Returns a concatenated String\n",
    "separator = \"-\"\n",
    "sequence = [\"hello\", \"world\"]\n",
    "result = separator.join(sequence)\n",
    "print(result) "
   ]
  },
  {
   "cell_type": "code",
   "execution_count": 11,
   "id": "e7e9ee8c",
   "metadata": {},
   "outputs": [
    {
     "name": "stdout",
     "output_type": "stream",
     "text": [
      "6\n"
     ]
    }
   ],
   "source": [
    "# index() - Returns the position of the first occurrence of a substring in a string\n",
    "original_str = \"hello world\"\n",
    "result = original_str.index(\"world\")\n",
    "print(result)"
   ]
  },
  {
   "cell_type": "code",
   "execution_count": 24,
   "id": "6c8ae126",
   "metadata": {},
   "outputs": [
    {
     "name": "stdout",
     "output_type": "stream",
     "text": [
      "hello*****\n"
     ]
    }
   ],
   "source": [
    "# ljust() - Left aligns the string according to the width specified\n",
    "original_str = \"hello\"\n",
    "result = original_str.ljust(10, '*')\n",
    "print(result)  "
   ]
  },
  {
   "cell_type": "code",
   "execution_count": 25,
   "id": "823fd8bb",
   "metadata": {},
   "outputs": [
    {
     "name": "stdout",
     "output_type": "stream",
     "text": [
      "hello\n"
     ]
    }
   ],
   "source": [
    "# lower() - Converts all uppercase characters in a string into lowercase\n",
    "original_str = \"HELLO\"\n",
    "result = original_str.lower()\n",
    "print(result)  "
   ]
  },
  {
   "cell_type": "code",
   "execution_count": 26,
   "id": "e3edae3c",
   "metadata": {},
   "outputs": [
    {
     "name": "stdout",
     "output_type": "stream",
     "text": [
      "hello   \n"
     ]
    }
   ],
   "source": [
    "# lstrip() - Returns the string with leading characters removed\n",
    "original_str = \"   hello   \"\n",
    "result = original_str.lstrip()\n",
    "print(result)  "
   ]
  },
  {
   "cell_type": "code",
   "execution_count": 27,
   "id": "a47d4715",
   "metadata": {},
   "outputs": [
    {
     "name": "stdout",
     "output_type": "stream",
     "text": [
      "h2ll4\n"
     ]
    }
   ],
   "source": [
    "# maketrans() - Returns a translation table\n",
    "trans_table = str.maketrans(\"aeiou\", \"12345\")\n",
    "original_str = \"hello\"\n",
    "result = original_str.translate(trans_table)\n",
    "print(result) "
   ]
  },
  {
   "cell_type": "code",
   "execution_count": 28,
   "id": "7529e4f7",
   "metadata": {},
   "outputs": [
    {
     "name": "stdout",
     "output_type": "stream",
     "text": [
      "('hello', ' ', 'world')\n"
     ]
    }
   ],
   "source": [
    "# partition() - Splits the string at the first occurrence of the separator\n",
    "original_str = \"hello world\"\n",
    "result = original_str.partition(\" \")\n",
    "print(result)  "
   ]
  },
  {
   "cell_type": "code",
   "execution_count": 29,
   "id": "3418c51e",
   "metadata": {},
   "outputs": [
    {
     "name": "stdout",
     "output_type": "stream",
     "text": [
      "hello python\n"
     ]
    }
   ],
   "source": [
    "# replace() - Replaces all occurrences of a substring with another substring\n",
    "original_str = \"hello world\"\n",
    "result = original_str.replace(\"world\", \"python\")\n",
    "print(result)  "
   ]
  },
  {
   "cell_type": "code",
   "execution_count": 30,
   "id": "740afc81",
   "metadata": {},
   "outputs": [
    {
     "name": "stdout",
     "output_type": "stream",
     "text": [
      "7\n"
     ]
    }
   ],
   "source": [
    "# rfind() - Returns the highest index of the substring\n",
    "original_str = \"hello world\"\n",
    "result = original_str.rfind(\"o\")\n",
    "print(result)  "
   ]
  },
  {
   "cell_type": "code",
   "execution_count": 31,
   "id": "d16380b2",
   "metadata": {},
   "outputs": [
    {
     "name": "stdout",
     "output_type": "stream",
     "text": [
      "7\n"
     ]
    }
   ],
   "source": [
    "# rindex() - Returns the highest index of the substring inside the string\n",
    "original_str = \"hello world\"\n",
    "result = original_str.rindex(\"o\")\n",
    "print(result) "
   ]
  },
  {
   "cell_type": "code",
   "execution_count": 32,
   "id": "f2282d81",
   "metadata": {},
   "outputs": [
    {
     "name": "stdout",
     "output_type": "stream",
     "text": [
      "*****hello\n"
     ]
    }
   ],
   "source": [
    "# rjust() - Right aligns the string according to the width specified\n",
    "original_str = \"hello\"\n",
    "result = original_str.rjust(10, '*')\n",
    "print(result) "
   ]
  },
  {
   "cell_type": "code",
   "execution_count": 33,
   "id": "a48451c8",
   "metadata": {},
   "outputs": [
    {
     "name": "stdout",
     "output_type": "stream",
     "text": [
      "('hello', ' ', 'world')\n"
     ]
    }
   ],
   "source": [
    "# rpartition() - Split the given string into three parts\n",
    "original_str = \"hello world\"\n",
    "result = original_str.rpartition(\" \")\n",
    "print(result) "
   ]
  },
  {
   "cell_type": "code",
   "execution_count": 34,
   "id": "fccf25e5",
   "metadata": {},
   "outputs": [
    {
     "name": "stdout",
     "output_type": "stream",
     "text": [
      "['hello', 'world']\n"
     ]
    }
   ],
   "source": [
    "# rsplit() - Split the string from the right by the specified separator\n",
    "original_str = \"hello world\"\n",
    "result = original_str.rsplit(\" \")\n",
    "print(result)  "
   ]
  },
  {
   "cell_type": "code",
   "execution_count": 35,
   "id": "28cada53",
   "metadata": {},
   "outputs": [
    {
     "name": "stdout",
     "output_type": "stream",
     "text": [
      "   hello\n"
     ]
    }
   ],
   "source": [
    "# rstrip() - Removes trailing characters\n",
    "original_str = \"   hello   \"\n",
    "result = original_str.rstrip()\n",
    "print(result) "
   ]
  },
  {
   "cell_type": "code",
   "execution_count": 36,
   "id": "4232e5fc",
   "metadata": {},
   "outputs": [
    {
     "name": "stdout",
     "output_type": "stream",
     "text": [
      "['Hello', 'World']\n"
     ]
    }
   ],
   "source": [
    "# splitlines() - Split the lines at line boundaries\n",
    "multi_line_str = \"Hello\\nWorld\\n\"\n",
    "result = multi_line_str.splitlines()\n",
    "print(result) "
   ]
  },
  {
   "cell_type": "markdown",
   "id": "180eac36",
   "metadata": {},
   "source": [
    "## REGEX FUNCTIONS"
   ]
  },
  {
   "cell_type": "code",
   "execution_count": 38,
   "id": "b0672f5c",
   "metadata": {},
   "outputs": [],
   "source": [
    "import re"
   ]
  },
  {
   "cell_type": "markdown",
   "id": "6e4470d7",
   "metadata": {},
   "source": [
    "## Matching and Searching"
   ]
  },
  {
   "cell_type": "code",
   "execution_count": 39,
   "id": "ed385a7a",
   "metadata": {},
   "outputs": [
    {
     "name": "stdout",
     "output_type": "stream",
     "text": [
      "Hello\n"
     ]
    }
   ],
   "source": [
    "# Match \"Hello\" at the beginning of the string\n",
    "result = re.match(r'Hello', 'Hello, World!')\n",
    "print(result.group()) "
   ]
  },
  {
   "cell_type": "code",
   "execution_count": 40,
   "id": "decd489f",
   "metadata": {},
   "outputs": [
    {
     "name": "stdout",
     "output_type": "stream",
     "text": [
      "World\n"
     ]
    }
   ],
   "source": [
    "# Search for \"World\" anywhere in the string\n",
    "result = re.search(r'World', 'Hello, World!')\n",
    "print(result.group())"
   ]
  },
  {
   "cell_type": "markdown",
   "id": "1449e81c",
   "metadata": {},
   "source": [
    "## Extraction and Manipulation"
   ]
  },
  {
   "cell_type": "code",
   "execution_count": 41,
   "id": "d05de782",
   "metadata": {},
   "outputs": [
    {
     "name": "stdout",
     "output_type": "stream",
     "text": [
      "['1', '0', '9', '9']\n"
     ]
    }
   ],
   "source": [
    "# Find all occurrences of digits in the string\n",
    "result = re.findall(r'\\d', 'The price is $10.99')\n",
    "print(result)"
   ]
  },
  {
   "cell_type": "code",
   "execution_count": 44,
   "id": "51075103",
   "metadata": {},
   "outputs": [
    {
     "name": "stdout",
     "output_type": "stream",
     "text": [
      "isss\n",
      "amng\n",
      "ijnb\n"
     ]
    }
   ],
   "source": [
    "# Find all words with exactly 4 characters\n",
    "matches = re.finditer(r'\\b\\w{4}\\b', 'isss amng re rfd ijnb uytre')\n",
    "for match in matches:\n",
    "    print(match.group())"
   ]
  },
  {
   "cell_type": "code",
   "execution_count": 45,
   "id": "9c9ff49c",
   "metadata": {},
   "outputs": [
    {
     "name": "stdout",
     "output_type": "stream",
     "text": [
      "The code is XX and XX\n"
     ]
    }
   ],
   "source": [
    "# Replace all occurrences of two digits with 'XX'\n",
    "string = re.sub(r'\\d{2}', 'XX', 'The code is 42 and 13')\n",
    "print(string)  "
   ]
  },
  {
   "cell_type": "code",
   "execution_count": 46,
   "id": "3db2f14b",
   "metadata": {},
   "outputs": [
    {
     "name": "stdout",
     "output_type": "stream",
     "text": [
      "['This', 'is', 'a', 'sentence']\n"
     ]
    }
   ],
   "source": [
    "# Split the string into words using whitespace as a delimiter\n",
    "parts = re.split(r'\\s', 'This is a sentence')\n",
    "print(parts)"
   ]
  }
 ],
 "metadata": {
  "kernelspec": {
   "display_name": "Python 3 (ipykernel)",
   "language": "python",
   "name": "python3"
  },
  "language_info": {
   "codemirror_mode": {
    "name": "ipython",
    "version": 3
   },
   "file_extension": ".py",
   "mimetype": "text/x-python",
   "name": "python",
   "nbconvert_exporter": "python",
   "pygments_lexer": "ipython3",
   "version": "3.9.7"
  },
  "varInspector": {
   "cols": {
    "lenName": 16,
    "lenType": 16,
    "lenVar": 40
   },
   "kernels_config": {
    "python": {
     "delete_cmd_postfix": "",
     "delete_cmd_prefix": "del ",
     "library": "var_list.py",
     "varRefreshCmd": "print(var_dic_list())"
    },
    "r": {
     "delete_cmd_postfix": ") ",
     "delete_cmd_prefix": "rm(",
     "library": "var_list.r",
     "varRefreshCmd": "cat(var_dic_list()) "
    }
   },
   "types_to_exclude": [
    "module",
    "function",
    "builtin_function_or_method",
    "instance",
    "_Feature"
   ],
   "window_display": false
  }
 },
 "nbformat": 4,
 "nbformat_minor": 5
}
