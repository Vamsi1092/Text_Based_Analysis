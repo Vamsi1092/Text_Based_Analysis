{
 "cells": [
  {
   "cell_type": "markdown",
   "id": "b16bc5df",
   "metadata": {},
   "source": [
    "# EARLY INSIGHTS FROM A DATASET"
   ]
  },
  {
   "cell_type": "code",
   "execution_count": 1,
   "id": "33740295",
   "metadata": {},
   "outputs": [
    {
     "name": "stderr",
     "output_type": "stream",
     "text": [
      "C:\\Users\\srima\\AppData\\Local\\Temp\\ipykernel_21988\\457699193.py:2: DeprecationWarning: \n",
      "Pyarrow will become a required dependency of pandas in the next major release of pandas (pandas 3.0),\n",
      "(to allow more performant data types, such as the Arrow string type, and better interoperability with other libraries)\n",
      "but was not found to be installed on your system.\n",
      "If this would cause problems for you,\n",
      "please provide us feedback at https://github.com/pandas-dev/pandas/issues/54466\n",
      "        \n",
      "  import pandas as pd\n"
     ]
    }
   ],
   "source": [
    "# Import all the necessary packages and libraries\n",
    "import pandas as pd \n",
    "import numpy as np"
   ]
  },
  {
   "cell_type": "code",
   "execution_count": 2,
   "id": "6ead7a41",
   "metadata": {},
   "outputs": [
    {
     "data": {
      "text/html": [
       "<div>\n",
       "<style scoped>\n",
       "    .dataframe tbody tr th:only-of-type {\n",
       "        vertical-align: middle;\n",
       "    }\n",
       "\n",
       "    .dataframe tbody tr th {\n",
       "        vertical-align: top;\n",
       "    }\n",
       "\n",
       "    .dataframe thead th {\n",
       "        text-align: right;\n",
       "    }\n",
       "</style>\n",
       "<table border=\"1\" class=\"dataframe\">\n",
       "  <thead>\n",
       "    <tr style=\"text-align: right;\">\n",
       "      <th></th>\n",
       "      <th>Unnamed: 0</th>\n",
       "      <th>Name</th>\n",
       "      <th>City</th>\n",
       "      <th>Cuisine Style</th>\n",
       "      <th>Ranking</th>\n",
       "      <th>Rating</th>\n",
       "      <th>Price Range</th>\n",
       "      <th>Number of Reviews</th>\n",
       "      <th>Reviews</th>\n",
       "      <th>URL_TA</th>\n",
       "      <th>ID_TA</th>\n",
       "    </tr>\n",
       "  </thead>\n",
       "  <tbody>\n",
       "    <tr>\n",
       "      <th>0</th>\n",
       "      <td>0</td>\n",
       "      <td>Martine of Martine's Table</td>\n",
       "      <td>Amsterdam</td>\n",
       "      <td>['French', 'Dutch', 'European']</td>\n",
       "      <td>1.0</td>\n",
       "      <td>5.0</td>\n",
       "      <td>$$ - $$$</td>\n",
       "      <td>136.0</td>\n",
       "      <td>[['Just like home', 'A Warm Welcome to Wintry ...</td>\n",
       "      <td>/Restaurant_Review-g188590-d11752080-Reviews-M...</td>\n",
       "      <td>d11752080</td>\n",
       "    </tr>\n",
       "    <tr>\n",
       "      <th>1</th>\n",
       "      <td>1</td>\n",
       "      <td>De Silveren Spiegel</td>\n",
       "      <td>Amsterdam</td>\n",
       "      <td>['Dutch', 'European', 'Vegetarian Friendly', '...</td>\n",
       "      <td>2.0</td>\n",
       "      <td>4.5</td>\n",
       "      <td>$$$$</td>\n",
       "      <td>812.0</td>\n",
       "      <td>[['Great food and staff', 'just perfect'], ['0...</td>\n",
       "      <td>/Restaurant_Review-g188590-d693419-Reviews-De_...</td>\n",
       "      <td>d693419</td>\n",
       "    </tr>\n",
       "    <tr>\n",
       "      <th>2</th>\n",
       "      <td>2</td>\n",
       "      <td>La Rive</td>\n",
       "      <td>Amsterdam</td>\n",
       "      <td>['Mediterranean', 'French', 'International', '...</td>\n",
       "      <td>3.0</td>\n",
       "      <td>4.5</td>\n",
       "      <td>$$$$</td>\n",
       "      <td>567.0</td>\n",
       "      <td>[['Satisfaction', 'Delicious old school restau...</td>\n",
       "      <td>/Restaurant_Review-g188590-d696959-Reviews-La_...</td>\n",
       "      <td>d696959</td>\n",
       "    </tr>\n",
       "    <tr>\n",
       "      <th>3</th>\n",
       "      <td>3</td>\n",
       "      <td>Vinkeles</td>\n",
       "      <td>Amsterdam</td>\n",
       "      <td>['French', 'European', 'International', 'Conte...</td>\n",
       "      <td>4.0</td>\n",
       "      <td>5.0</td>\n",
       "      <td>$$$$</td>\n",
       "      <td>564.0</td>\n",
       "      <td>[['True five star dinner', 'A superb evening o...</td>\n",
       "      <td>/Restaurant_Review-g188590-d1239229-Reviews-Vi...</td>\n",
       "      <td>d1239229</td>\n",
       "    </tr>\n",
       "    <tr>\n",
       "      <th>4</th>\n",
       "      <td>4</td>\n",
       "      <td>Librije's Zusje Amsterdam</td>\n",
       "      <td>Amsterdam</td>\n",
       "      <td>['Dutch', 'European', 'International', 'Vegeta...</td>\n",
       "      <td>5.0</td>\n",
       "      <td>4.5</td>\n",
       "      <td>$$$$</td>\n",
       "      <td>316.0</td>\n",
       "      <td>[['Best meal.... EVER', 'super food experience...</td>\n",
       "      <td>/Restaurant_Review-g188590-d6864170-Reviews-Li...</td>\n",
       "      <td>d6864170</td>\n",
       "    </tr>\n",
       "  </tbody>\n",
       "</table>\n",
       "</div>"
      ],
      "text/plain": [
       "   Unnamed: 0                        Name       City  \\\n",
       "0           0  Martine of Martine's Table  Amsterdam   \n",
       "1           1         De Silveren Spiegel  Amsterdam   \n",
       "2           2                     La Rive  Amsterdam   \n",
       "3           3                    Vinkeles  Amsterdam   \n",
       "4           4   Librije's Zusje Amsterdam  Amsterdam   \n",
       "\n",
       "                                       Cuisine Style  Ranking  Rating  \\\n",
       "0                    ['French', 'Dutch', 'European']      1.0     5.0   \n",
       "1  ['Dutch', 'European', 'Vegetarian Friendly', '...      2.0     4.5   \n",
       "2  ['Mediterranean', 'French', 'International', '...      3.0     4.5   \n",
       "3  ['French', 'European', 'International', 'Conte...      4.0     5.0   \n",
       "4  ['Dutch', 'European', 'International', 'Vegeta...      5.0     4.5   \n",
       "\n",
       "  Price Range  Number of Reviews  \\\n",
       "0    $$ - $$$              136.0   \n",
       "1        $$$$              812.0   \n",
       "2        $$$$              567.0   \n",
       "3        $$$$              564.0   \n",
       "4        $$$$              316.0   \n",
       "\n",
       "                                             Reviews  \\\n",
       "0  [['Just like home', 'A Warm Welcome to Wintry ...   \n",
       "1  [['Great food and staff', 'just perfect'], ['0...   \n",
       "2  [['Satisfaction', 'Delicious old school restau...   \n",
       "3  [['True five star dinner', 'A superb evening o...   \n",
       "4  [['Best meal.... EVER', 'super food experience...   \n",
       "\n",
       "                                              URL_TA      ID_TA  \n",
       "0  /Restaurant_Review-g188590-d11752080-Reviews-M...  d11752080  \n",
       "1  /Restaurant_Review-g188590-d693419-Reviews-De_...    d693419  \n",
       "2  /Restaurant_Review-g188590-d696959-Reviews-La_...    d696959  \n",
       "3  /Restaurant_Review-g188590-d1239229-Reviews-Vi...   d1239229  \n",
       "4  /Restaurant_Review-g188590-d6864170-Reviews-Li...   d6864170  "
      ]
     },
     "execution_count": 2,
     "metadata": {},
     "output_type": "execute_result"
    }
   ],
   "source": [
    "# Reading the data\n",
    "df = pd.read_csv(\"C:/Users/srima/Desktop/Text based Analysis/TA_restaurants_curated.csv\")\n",
    "df.head()"
   ]
  },
  {
   "cell_type": "markdown",
   "id": "deb7171c",
   "metadata": {},
   "source": [
    "## Data Pre-Processing"
   ]
  },
  {
   "cell_type": "code",
   "execution_count": 3,
   "id": "fd701cc0",
   "metadata": {},
   "outputs": [
    {
     "name": "stdout",
     "output_type": "stream",
     "text": [
      "Index(['Unnamed: 0', 'Name', 'City', 'Cuisine Style', 'Ranking', 'Rating',\n",
      "       'Price Range', 'Number of Reviews', 'Reviews', 'URL_TA', 'ID_TA'],\n",
      "      dtype='object')\n"
     ]
    }
   ],
   "source": [
    "# Printing the Columns Present in Dataset\n",
    "print(df.columns)"
   ]
  },
  {
   "cell_type": "markdown",
   "id": "30c8c1d4",
   "metadata": {},
   "source": [
    "## Display the data types of each column in a DataFrame"
   ]
  },
  {
   "cell_type": "code",
   "execution_count": 4,
   "id": "f0f6d3c2",
   "metadata": {},
   "outputs": [
    {
     "name": "stdout",
     "output_type": "stream",
     "text": [
      "Unnamed: 0             int64\n",
      "Name                  object\n",
      "City                  object\n",
      "Cuisine Style         object\n",
      "Ranking              float64\n",
      "Rating               float64\n",
      "Price Range           object\n",
      "Number of Reviews    float64\n",
      "Reviews               object\n",
      "URL_TA                object\n",
      "ID_TA                 object\n",
      "dtype: object\n"
     ]
    }
   ],
   "source": [
    "# Printing the Datatypes Present in Dataset\n",
    "print(df.dtypes)"
   ]
  },
  {
   "cell_type": "markdown",
   "id": "0821d902",
   "metadata": {},
   "source": [
    "## Provides a concise summary of a DataFrame, including the number of non-null values and data types for each column"
   ]
  },
  {
   "cell_type": "code",
   "execution_count": 5,
   "id": "5a371a7f",
   "metadata": {},
   "outputs": [
    {
     "name": "stdout",
     "output_type": "stream",
     "text": [
      "<class 'pandas.core.frame.DataFrame'>\n",
      "RangeIndex: 125527 entries, 0 to 125526\n",
      "Data columns (total 11 columns):\n",
      " #   Column             Non-Null Count   Dtype  \n",
      "---  ------             --------------   -----  \n",
      " 0   Unnamed: 0         125527 non-null  int64  \n",
      " 1   Name               125527 non-null  object \n",
      " 2   City               125527 non-null  object \n",
      " 3   Cuisine Style      94176 non-null   object \n",
      " 4   Ranking            115876 non-null  float64\n",
      " 5   Rating             115897 non-null  float64\n",
      " 6   Price Range        77672 non-null   object \n",
      " 7   Number of Reviews  108183 non-null  float64\n",
      " 8   Reviews            115911 non-null  object \n",
      " 9   URL_TA             125527 non-null  object \n",
      " 10  ID_TA              125527 non-null  object \n",
      "dtypes: float64(3), int64(1), object(7)\n",
      "memory usage: 10.5+ MB\n",
      "None\n"
     ]
    }
   ],
   "source": [
    "# Printing the Information of Dataset\n",
    "print(df.info())"
   ]
  },
  {
   "cell_type": "markdown",
   "id": "1b61ffbe",
   "metadata": {},
   "source": [
    "## Generate descriptive statistics of a DataFrame's numerical columns"
   ]
  },
  {
   "cell_type": "code",
   "execution_count": 6,
   "id": "79031e87",
   "metadata": {},
   "outputs": [
    {
     "name": "stdout",
     "output_type": "stream",
     "text": [
      "          Unnamed: 0        Ranking         Rating  Number of Reviews\n",
      "count  125527.000000  115876.000000  115897.000000      108183.000000\n",
      "mean     3974.686131    3657.463979       3.987441         125.184983\n",
      "std      4057.687698    3706.255301       0.678814         310.833311\n",
      "min         0.000000       1.000000      -1.000000           2.000000\n",
      "25%      1042.000000     965.000000       3.500000           9.000000\n",
      "50%      2445.000000    2256.000000       4.000000          32.000000\n",
      "75%      5626.000000    5237.000000       4.500000         114.000000\n",
      "max     18211.000000   16444.000000       5.000000       16478.000000\n"
     ]
    }
   ],
   "source": [
    "# Printing the Statistical Information for Numerical Cloumns of Dataset\n",
    "print(df.describe())"
   ]
  },
  {
   "cell_type": "code",
   "execution_count": 7,
   "id": "02492474",
   "metadata": {},
   "outputs": [
    {
     "data": {
      "text/html": [
       "<div>\n",
       "<style scoped>\n",
       "    .dataframe tbody tr th:only-of-type {\n",
       "        vertical-align: middle;\n",
       "    }\n",
       "\n",
       "    .dataframe tbody tr th {\n",
       "        vertical-align: top;\n",
       "    }\n",
       "\n",
       "    .dataframe thead th {\n",
       "        text-align: right;\n",
       "    }\n",
       "</style>\n",
       "<table border=\"1\" class=\"dataframe\">\n",
       "  <thead>\n",
       "    <tr style=\"text-align: right;\">\n",
       "      <th></th>\n",
       "      <th>Unnamed: 0</th>\n",
       "      <th>Ranking</th>\n",
       "      <th>Rating</th>\n",
       "      <th>Number of Reviews</th>\n",
       "      <th>Length</th>\n",
       "    </tr>\n",
       "  </thead>\n",
       "  <tbody>\n",
       "    <tr>\n",
       "      <th>count</th>\n",
       "      <td>125527.000000</td>\n",
       "      <td>115876.000000</td>\n",
       "      <td>115897.000000</td>\n",
       "      <td>108183.000000</td>\n",
       "      <td>115911.000000</td>\n",
       "    </tr>\n",
       "    <tr>\n",
       "      <th>mean</th>\n",
       "      <td>3974.686131</td>\n",
       "      <td>3657.463979</td>\n",
       "      <td>3.987441</td>\n",
       "      <td>125.184983</td>\n",
       "      <td>69.761576</td>\n",
       "    </tr>\n",
       "    <tr>\n",
       "      <th>std</th>\n",
       "      <td>4057.687698</td>\n",
       "      <td>3706.255301</td>\n",
       "      <td>0.678814</td>\n",
       "      <td>310.833311</td>\n",
       "      <td>33.607164</td>\n",
       "    </tr>\n",
       "    <tr>\n",
       "      <th>min</th>\n",
       "      <td>0.000000</td>\n",
       "      <td>1.000000</td>\n",
       "      <td>-1.000000</td>\n",
       "      <td>2.000000</td>\n",
       "      <td>8.000000</td>\n",
       "    </tr>\n",
       "    <tr>\n",
       "      <th>25%</th>\n",
       "      <td>1042.000000</td>\n",
       "      <td>965.000000</td>\n",
       "      <td>3.500000</td>\n",
       "      <td>9.000000</td>\n",
       "      <td>54.000000</td>\n",
       "    </tr>\n",
       "    <tr>\n",
       "      <th>50%</th>\n",
       "      <td>2445.000000</td>\n",
       "      <td>2256.000000</td>\n",
       "      <td>4.000000</td>\n",
       "      <td>32.000000</td>\n",
       "      <td>78.000000</td>\n",
       "    </tr>\n",
       "    <tr>\n",
       "      <th>75%</th>\n",
       "      <td>5626.000000</td>\n",
       "      <td>5237.000000</td>\n",
       "      <td>4.500000</td>\n",
       "      <td>114.000000</td>\n",
       "      <td>94.000000</td>\n",
       "    </tr>\n",
       "    <tr>\n",
       "      <th>max</th>\n",
       "      <td>18211.000000</td>\n",
       "      <td>16444.000000</td>\n",
       "      <td>5.000000</td>\n",
       "      <td>16478.000000</td>\n",
       "      <td>132.000000</td>\n",
       "    </tr>\n",
       "  </tbody>\n",
       "</table>\n",
       "</div>"
      ],
      "text/plain": [
       "          Unnamed: 0        Ranking         Rating  Number of Reviews  \\\n",
       "count  125527.000000  115876.000000  115897.000000      108183.000000   \n",
       "mean     3974.686131    3657.463979       3.987441         125.184983   \n",
       "std      4057.687698    3706.255301       0.678814         310.833311   \n",
       "min         0.000000       1.000000      -1.000000           2.000000   \n",
       "25%      1042.000000     965.000000       3.500000           9.000000   \n",
       "50%      2445.000000    2256.000000       4.000000          32.000000   \n",
       "75%      5626.000000    5237.000000       4.500000         114.000000   \n",
       "max     18211.000000   16444.000000       5.000000       16478.000000   \n",
       "\n",
       "              Length  \n",
       "count  115911.000000  \n",
       "mean       69.761576  \n",
       "std        33.607164  \n",
       "min         8.000000  \n",
       "25%        54.000000  \n",
       "50%        78.000000  \n",
       "75%        94.000000  \n",
       "max       132.000000  "
      ]
     },
     "execution_count": 7,
     "metadata": {},
     "output_type": "execute_result"
    }
   ],
   "source": [
    "# Creating New Column named Length, to Store Length of the Text Column\n",
    "df['Length'] = df['Reviews'].str.len()\n",
    "df.describe()"
   ]
  },
  {
   "cell_type": "code",
   "execution_count": 8,
   "id": "73a85fe3",
   "metadata": {},
   "outputs": [
    {
     "data": {
      "text/html": [
       "<div>\n",
       "<style scoped>\n",
       "    .dataframe tbody tr th:only-of-type {\n",
       "        vertical-align: middle;\n",
       "    }\n",
       "\n",
       "    .dataframe tbody tr th {\n",
       "        vertical-align: top;\n",
       "    }\n",
       "\n",
       "    .dataframe thead th {\n",
       "        text-align: right;\n",
       "    }\n",
       "</style>\n",
       "<table border=\"1\" class=\"dataframe\">\n",
       "  <thead>\n",
       "    <tr style=\"text-align: right;\">\n",
       "      <th></th>\n",
       "      <th>Name</th>\n",
       "      <th>City</th>\n",
       "      <th>Cuisine Style</th>\n",
       "      <th>Price Range</th>\n",
       "      <th>Reviews</th>\n",
       "      <th>URL_TA</th>\n",
       "      <th>ID_TA</th>\n",
       "    </tr>\n",
       "  </thead>\n",
       "  <tbody>\n",
       "    <tr>\n",
       "      <th>count</th>\n",
       "      <td>125527</td>\n",
       "      <td>125527</td>\n",
       "      <td>94176</td>\n",
       "      <td>77672</td>\n",
       "      <td>115911</td>\n",
       "      <td>125527</td>\n",
       "      <td>125527</td>\n",
       "    </tr>\n",
       "    <tr>\n",
       "      <th>unique</th>\n",
       "      <td>111927</td>\n",
       "      <td>31</td>\n",
       "      <td>20971</td>\n",
       "      <td>3</td>\n",
       "      <td>96696</td>\n",
       "      <td>125326</td>\n",
       "      <td>125326</td>\n",
       "    </tr>\n",
       "    <tr>\n",
       "      <th>top</th>\n",
       "      <td>McDonald's</td>\n",
       "      <td>London</td>\n",
       "      <td>['Italian']</td>\n",
       "      <td>$$ - $$$</td>\n",
       "      <td>[[], []]</td>\n",
       "      <td>/Restaurant_Review-g187514-d11698990-Reviews-V...</td>\n",
       "      <td>d11698990</td>\n",
       "    </tr>\n",
       "    <tr>\n",
       "      <th>freq</th>\n",
       "      <td>326</td>\n",
       "      <td>18212</td>\n",
       "      <td>3473</td>\n",
       "      <td>54360</td>\n",
       "      <td>19094</td>\n",
       "      <td>2</td>\n",
       "      <td>2</td>\n",
       "    </tr>\n",
       "  </tbody>\n",
       "</table>\n",
       "</div>"
      ],
      "text/plain": [
       "              Name    City Cuisine Style Price Range   Reviews  \\\n",
       "count       125527  125527         94176       77672    115911   \n",
       "unique      111927      31         20971           3     96696   \n",
       "top     McDonald's  London   ['Italian']    $$ - $$$  [[], []]   \n",
       "freq           326   18212          3473       54360     19094   \n",
       "\n",
       "                                                   URL_TA      ID_TA  \n",
       "count                                              125527     125527  \n",
       "unique                                             125326     125326  \n",
       "top     /Restaurant_Review-g187514-d11698990-Reviews-V...  d11698990  \n",
       "freq                                                    2          2  "
      ]
     },
     "execution_count": 8,
     "metadata": {},
     "output_type": "execute_result"
    }
   ],
   "source": [
    "# Using the Describe Method\n",
    "df.describe(include='O')"
   ]
  },
  {
   "cell_type": "markdown",
   "id": "0cd65905",
   "metadata": {},
   "source": [
    "## Data Extraction"
   ]
  },
  {
   "cell_type": "code",
   "execution_count": 9,
   "id": "21ad16df",
   "metadata": {},
   "outputs": [
    {
     "data": {
      "text/plain": [
       "Unnamed: 0               0\n",
       "Name                     0\n",
       "City                     0\n",
       "Cuisine Style        31351\n",
       "Ranking               9651\n",
       "Rating                9630\n",
       "Price Range          47855\n",
       "Number of Reviews    17344\n",
       "Reviews               9616\n",
       "URL_TA                   0\n",
       "ID_TA                    0\n",
       "Length                9616\n",
       "dtype: int64"
      ]
     },
     "execution_count": 9,
     "metadata": {},
     "output_type": "execute_result"
    }
   ],
   "source": [
    "# Finding Null Values in Dataset\n",
    "df.isna().sum()"
   ]
  },
  {
   "cell_type": "code",
   "execution_count": 10,
   "id": "a79e2066",
   "metadata": {},
   "outputs": [
    {
     "name": "stderr",
     "output_type": "stream",
     "text": [
      "C:\\Users\\srima\\AppData\\Local\\Temp\\ipykernel_21988\\2069527318.py:2: FutureWarning: A value is trying to be set on a copy of a DataFrame or Series through chained assignment using an inplace method.\n",
      "The behavior will change in pandas 3.0. This inplace method will never work because the intermediate object on which we are setting values always behaves as a copy.\n",
      "\n",
      "For example, when doing 'df[col].method(value, inplace=True)', try using 'df.method({col: value}, inplace=True)' or df[col] = df[col].method(value) instead, to perform the operation inplace on the original object.\n",
      "\n",
      "\n",
      "  df['Cuisine Style'].fillna('unknown', inplace=True)\n",
      "C:\\Users\\srima\\AppData\\Local\\Temp\\ipykernel_21988\\2069527318.py:3: FutureWarning: A value is trying to be set on a copy of a DataFrame or Series through chained assignment using an inplace method.\n",
      "The behavior will change in pandas 3.0. This inplace method will never work because the intermediate object on which we are setting values always behaves as a copy.\n",
      "\n",
      "For example, when doing 'df[col].method(value, inplace=True)', try using 'df.method({col: value}, inplace=True)' or df[col] = df[col].method(value) instead, to perform the operation inplace on the original object.\n",
      "\n",
      "\n",
      "  df['Ranking'].fillna('unknown', inplace=True)\n",
      "C:\\Users\\srima\\AppData\\Local\\Temp\\ipykernel_21988\\2069527318.py:3: FutureWarning: Setting an item of incompatible dtype is deprecated and will raise an error in a future version of pandas. Value 'unknown' has dtype incompatible with float64, please explicitly cast to a compatible dtype first.\n",
      "  df['Ranking'].fillna('unknown', inplace=True)\n",
      "C:\\Users\\srima\\AppData\\Local\\Temp\\ipykernel_21988\\2069527318.py:4: FutureWarning: A value is trying to be set on a copy of a DataFrame or Series through chained assignment using an inplace method.\n",
      "The behavior will change in pandas 3.0. This inplace method will never work because the intermediate object on which we are setting values always behaves as a copy.\n",
      "\n",
      "For example, when doing 'df[col].method(value, inplace=True)', try using 'df.method({col: value}, inplace=True)' or df[col] = df[col].method(value) instead, to perform the operation inplace on the original object.\n",
      "\n",
      "\n",
      "  df['Rating'].fillna('unknown', inplace=True)\n",
      "C:\\Users\\srima\\AppData\\Local\\Temp\\ipykernel_21988\\2069527318.py:4: FutureWarning: Setting an item of incompatible dtype is deprecated and will raise an error in a future version of pandas. Value 'unknown' has dtype incompatible with float64, please explicitly cast to a compatible dtype first.\n",
      "  df['Rating'].fillna('unknown', inplace=True)\n",
      "C:\\Users\\srima\\AppData\\Local\\Temp\\ipykernel_21988\\2069527318.py:5: FutureWarning: A value is trying to be set on a copy of a DataFrame or Series through chained assignment using an inplace method.\n",
      "The behavior will change in pandas 3.0. This inplace method will never work because the intermediate object on which we are setting values always behaves as a copy.\n",
      "\n",
      "For example, when doing 'df[col].method(value, inplace=True)', try using 'df.method({col: value}, inplace=True)' or df[col] = df[col].method(value) instead, to perform the operation inplace on the original object.\n",
      "\n",
      "\n",
      "  df['Price Range'].fillna('unknown', inplace=True)\n",
      "C:\\Users\\srima\\AppData\\Local\\Temp\\ipykernel_21988\\2069527318.py:7: FutureWarning: A value is trying to be set on a copy of a DataFrame or Series through chained assignment using an inplace method.\n",
      "The behavior will change in pandas 3.0. This inplace method will never work because the intermediate object on which we are setting values always behaves as a copy.\n",
      "\n",
      "For example, when doing 'df[col].method(value, inplace=True)', try using 'df.method({col: value}, inplace=True)' or df[col] = df[col].method(value) instead, to perform the operation inplace on the original object.\n",
      "\n",
      "\n",
      "  df['Number of Reviews'].fillna('unknown', inplace=True)\n",
      "C:\\Users\\srima\\AppData\\Local\\Temp\\ipykernel_21988\\2069527318.py:7: FutureWarning: Setting an item of incompatible dtype is deprecated and will raise an error in a future version of pandas. Value 'unknown' has dtype incompatible with float64, please explicitly cast to a compatible dtype first.\n",
      "  df['Number of Reviews'].fillna('unknown', inplace=True)\n",
      "C:\\Users\\srima\\AppData\\Local\\Temp\\ipykernel_21988\\2069527318.py:8: FutureWarning: A value is trying to be set on a copy of a DataFrame or Series through chained assignment using an inplace method.\n",
      "The behavior will change in pandas 3.0. This inplace method will never work because the intermediate object on which we are setting values always behaves as a copy.\n",
      "\n",
      "For example, when doing 'df[col].method(value, inplace=True)', try using 'df.method({col: value}, inplace=True)' or df[col] = df[col].method(value) instead, to perform the operation inplace on the original object.\n",
      "\n",
      "\n",
      "  df['Length'].fillna('unknown', inplace=True)\n",
      "C:\\Users\\srima\\AppData\\Local\\Temp\\ipykernel_21988\\2069527318.py:8: FutureWarning: Setting an item of incompatible dtype is deprecated and will raise an error in a future version of pandas. Value 'unknown' has dtype incompatible with float64, please explicitly cast to a compatible dtype first.\n",
      "  df['Length'].fillna('unknown', inplace=True)\n"
     ]
    },
    {
     "data": {
      "text/plain": [
       "Unnamed: 0           0\n",
       "Name                 0\n",
       "City                 0\n",
       "Cuisine Style        0\n",
       "Ranking              0\n",
       "Rating               0\n",
       "Price Range          0\n",
       "Number of Reviews    0\n",
       "Reviews              0\n",
       "URL_TA               0\n",
       "ID_TA                0\n",
       "Length               0\n",
       "dtype: int64"
      ]
     },
     "execution_count": 10,
     "metadata": {},
     "output_type": "execute_result"
    }
   ],
   "source": [
    "# Filling NA values in Speaker and Position Column with Unknown\n",
    "df['Cuisine Style'].fillna('unknown', inplace=True)\n",
    "df['Ranking'].fillna('unknown', inplace=True)\n",
    "df['Rating'].fillna('unknown', inplace=True)\n",
    "df['Price Range'].fillna('unknown', inplace=True)\n",
    "df['Reviews'].fillna('unknown', inplace=True)\n",
    "df['Number of Reviews'].fillna('unknown', inplace=True)\n",
    "df['Length'].fillna('unknown', inplace=True)\n",
    "df.isna().sum()"
   ]
  },
  {
   "cell_type": "code",
   "execution_count": 11,
   "id": "7dc3b45a",
   "metadata": {
    "scrolled": true
   },
   "outputs": [
    {
     "data": {
      "text/html": [
       "<div>\n",
       "<style scoped>\n",
       "    .dataframe tbody tr th:only-of-type {\n",
       "        vertical-align: middle;\n",
       "    }\n",
       "\n",
       "    .dataframe tbody tr th {\n",
       "        vertical-align: top;\n",
       "    }\n",
       "\n",
       "    .dataframe thead th {\n",
       "        text-align: right;\n",
       "    }\n",
       "</style>\n",
       "<table border=\"1\" class=\"dataframe\">\n",
       "  <thead>\n",
       "    <tr style=\"text-align: right;\">\n",
       "      <th></th>\n",
       "      <th>Unnamed: 0</th>\n",
       "      <th>Name</th>\n",
       "      <th>City</th>\n",
       "      <th>Cuisine Style</th>\n",
       "      <th>Ranking</th>\n",
       "      <th>Rating</th>\n",
       "      <th>Price Range</th>\n",
       "      <th>Number of Reviews</th>\n",
       "      <th>Reviews</th>\n",
       "      <th>URL_TA</th>\n",
       "      <th>ID_TA</th>\n",
       "      <th>Length</th>\n",
       "    </tr>\n",
       "  </thead>\n",
       "  <tbody>\n",
       "    <tr>\n",
       "      <th>0</th>\n",
       "      <td>0</td>\n",
       "      <td>MARTINE OF MARTINE'S TABLE</td>\n",
       "      <td>AMSTERDAM</td>\n",
       "      <td>['FRENCH', 'DUTCH', 'EUROPEAN']</td>\n",
       "      <td>1.0</td>\n",
       "      <td>5.0</td>\n",
       "      <td>$$ - $$$</td>\n",
       "      <td>136.0</td>\n",
       "      <td>[['JUST LIKE HOME', 'A WARM WELCOME TO WINTRY ...</td>\n",
       "      <td>/Restaurant_Review-g188590-d11752080-Reviews-M...</td>\n",
       "      <td>d11752080</td>\n",
       "      <td>88.0</td>\n",
       "    </tr>\n",
       "    <tr>\n",
       "      <th>1</th>\n",
       "      <td>1</td>\n",
       "      <td>DE SILVEREN SPIEGEL</td>\n",
       "      <td>AMSTERDAM</td>\n",
       "      <td>['DUTCH', 'EUROPEAN', 'VEGETARIAN FRIENDLY', '...</td>\n",
       "      <td>2.0</td>\n",
       "      <td>4.5</td>\n",
       "      <td>$$$$</td>\n",
       "      <td>812.0</td>\n",
       "      <td>[['GREAT FOOD AND STAFF', 'JUST PERFECT'], ['0...</td>\n",
       "      <td>/Restaurant_Review-g188590-d693419-Reviews-De_...</td>\n",
       "      <td>d693419</td>\n",
       "      <td>72.0</td>\n",
       "    </tr>\n",
       "    <tr>\n",
       "      <th>2</th>\n",
       "      <td>2</td>\n",
       "      <td>LA RIVE</td>\n",
       "      <td>AMSTERDAM</td>\n",
       "      <td>['MEDITERRANEAN', 'FRENCH', 'INTERNATIONAL', '...</td>\n",
       "      <td>3.0</td>\n",
       "      <td>4.5</td>\n",
       "      <td>$$$$</td>\n",
       "      <td>567.0</td>\n",
       "      <td>[['SATISFACTION', 'DELICIOUS OLD SCHOOL RESTAU...</td>\n",
       "      <td>/Restaurant_Review-g188590-d696959-Reviews-La_...</td>\n",
       "      <td>d696959</td>\n",
       "      <td>83.0</td>\n",
       "    </tr>\n",
       "    <tr>\n",
       "      <th>3</th>\n",
       "      <td>3</td>\n",
       "      <td>VINKELES</td>\n",
       "      <td>AMSTERDAM</td>\n",
       "      <td>['FRENCH', 'EUROPEAN', 'INTERNATIONAL', 'CONTE...</td>\n",
       "      <td>4.0</td>\n",
       "      <td>5.0</td>\n",
       "      <td>$$$$</td>\n",
       "      <td>564.0</td>\n",
       "      <td>[['TRUE FIVE STAR DINNER', 'A SUPERB EVENING O...</td>\n",
       "      <td>/Restaurant_Review-g188590-d1239229-Reviews-Vi...</td>\n",
       "      <td>d1239229</td>\n",
       "      <td>106.0</td>\n",
       "    </tr>\n",
       "    <tr>\n",
       "      <th>4</th>\n",
       "      <td>4</td>\n",
       "      <td>LIBRIJE'S ZUSJE AMSTERDAM</td>\n",
       "      <td>AMSTERDAM</td>\n",
       "      <td>['DUTCH', 'EUROPEAN', 'INTERNATIONAL', 'VEGETA...</td>\n",
       "      <td>5.0</td>\n",
       "      <td>4.5</td>\n",
       "      <td>$$$$</td>\n",
       "      <td>316.0</td>\n",
       "      <td>[['BEST MEAL.... EVER', 'SUPER FOOD EXPERIENCE...</td>\n",
       "      <td>/Restaurant_Review-g188590-d6864170-Reviews-Li...</td>\n",
       "      <td>d6864170</td>\n",
       "      <td>79.0</td>\n",
       "    </tr>\n",
       "  </tbody>\n",
       "</table>\n",
       "</div>"
      ],
      "text/plain": [
       "   Unnamed: 0                        Name       City  \\\n",
       "0           0  MARTINE OF MARTINE'S TABLE  AMSTERDAM   \n",
       "1           1         DE SILVEREN SPIEGEL  AMSTERDAM   \n",
       "2           2                     LA RIVE  AMSTERDAM   \n",
       "3           3                    VINKELES  AMSTERDAM   \n",
       "4           4   LIBRIJE'S ZUSJE AMSTERDAM  AMSTERDAM   \n",
       "\n",
       "                                       Cuisine Style Ranking Rating  \\\n",
       "0                    ['FRENCH', 'DUTCH', 'EUROPEAN']     1.0    5.0   \n",
       "1  ['DUTCH', 'EUROPEAN', 'VEGETARIAN FRIENDLY', '...     2.0    4.5   \n",
       "2  ['MEDITERRANEAN', 'FRENCH', 'INTERNATIONAL', '...     3.0    4.5   \n",
       "3  ['FRENCH', 'EUROPEAN', 'INTERNATIONAL', 'CONTE...     4.0    5.0   \n",
       "4  ['DUTCH', 'EUROPEAN', 'INTERNATIONAL', 'VEGETA...     5.0    4.5   \n",
       "\n",
       "  Price Range Number of Reviews  \\\n",
       "0    $$ - $$$             136.0   \n",
       "1        $$$$             812.0   \n",
       "2        $$$$             567.0   \n",
       "3        $$$$             564.0   \n",
       "4        $$$$             316.0   \n",
       "\n",
       "                                             Reviews  \\\n",
       "0  [['JUST LIKE HOME', 'A WARM WELCOME TO WINTRY ...   \n",
       "1  [['GREAT FOOD AND STAFF', 'JUST PERFECT'], ['0...   \n",
       "2  [['SATISFACTION', 'DELICIOUS OLD SCHOOL RESTAU...   \n",
       "3  [['TRUE FIVE STAR DINNER', 'A SUPERB EVENING O...   \n",
       "4  [['BEST MEAL.... EVER', 'SUPER FOOD EXPERIENCE...   \n",
       "\n",
       "                                              URL_TA      ID_TA Length  \n",
       "0  /Restaurant_Review-g188590-d11752080-Reviews-M...  d11752080   88.0  \n",
       "1  /Restaurant_Review-g188590-d693419-Reviews-De_...    d693419   72.0  \n",
       "2  /Restaurant_Review-g188590-d696959-Reviews-La_...    d696959   83.0  \n",
       "3  /Restaurant_Review-g188590-d1239229-Reviews-Vi...   d1239229  106.0  \n",
       "4  /Restaurant_Review-g188590-d6864170-Reviews-Li...   d6864170   79.0  "
      ]
     },
     "execution_count": 11,
     "metadata": {},
     "output_type": "execute_result"
    }
   ],
   "source": [
    "# Converting necessary text columns into Uppercase\n",
    "df['Name'] = df['Name'].str.upper()\n",
    "df['City'] = df['City'].str.upper()\n",
    "df['Cuisine Style'] = df['Cuisine Style'].str.upper()\n",
    "df['Reviews'] = df['Reviews'].str.upper()\n",
    "df.head()"
   ]
  },
  {
   "cell_type": "markdown",
   "id": "a479de75",
   "metadata": {},
   "source": [
    "## REGEX OPERATIONS TO CLEAN THE TEXT"
   ]
  },
  {
   "cell_type": "code",
   "execution_count": 12,
   "id": "b8e74a86",
   "metadata": {},
   "outputs": [
    {
     "data": {
      "text/html": [
       "<div>\n",
       "<style scoped>\n",
       "    .dataframe tbody tr th:only-of-type {\n",
       "        vertical-align: middle;\n",
       "    }\n",
       "\n",
       "    .dataframe tbody tr th {\n",
       "        vertical-align: top;\n",
       "    }\n",
       "\n",
       "    .dataframe thead th {\n",
       "        text-align: right;\n",
       "    }\n",
       "</style>\n",
       "<table border=\"1\" class=\"dataframe\">\n",
       "  <thead>\n",
       "    <tr style=\"text-align: right;\">\n",
       "      <th></th>\n",
       "      <th>Unnamed: 0</th>\n",
       "      <th>Name</th>\n",
       "      <th>City</th>\n",
       "      <th>Cuisine Style</th>\n",
       "      <th>Ranking</th>\n",
       "      <th>Rating</th>\n",
       "      <th>Price Range</th>\n",
       "      <th>Number of Reviews</th>\n",
       "      <th>Reviews</th>\n",
       "      <th>URL_TA</th>\n",
       "      <th>ID_TA</th>\n",
       "      <th>Length</th>\n",
       "    </tr>\n",
       "  </thead>\n",
       "  <tbody>\n",
       "    <tr>\n",
       "      <th>0</th>\n",
       "      <td>0</td>\n",
       "      <td>MARTINE OF MARTINE'S TABLE</td>\n",
       "      <td>AMSTERDAM</td>\n",
       "      <td>FRENCH DUTCH EUROPEAN</td>\n",
       "      <td>1.0</td>\n",
       "      <td>5.0</td>\n",
       "      <td>$$ - $$$</td>\n",
       "      <td>136.0</td>\n",
       "      <td>JUST LIKE HOME A WARM WELCOME TO WINTRY AMSTER...</td>\n",
       "      <td>/Restaurant_Review-g188590-d11752080-Reviews-M...</td>\n",
       "      <td>d11752080</td>\n",
       "      <td>88.0</td>\n",
       "    </tr>\n",
       "    <tr>\n",
       "      <th>1</th>\n",
       "      <td>1</td>\n",
       "      <td>DE SILVEREN SPIEGEL</td>\n",
       "      <td>AMSTERDAM</td>\n",
       "      <td>DUTCH EUROPEAN VEGETARIAN FRIENDLY GLUTEN FREE...</td>\n",
       "      <td>2.0</td>\n",
       "      <td>4.5</td>\n",
       "      <td>$$$$</td>\n",
       "      <td>812.0</td>\n",
       "      <td>GREAT FOOD AND STAFF JUST PERFECT 01/06/2018 0...</td>\n",
       "      <td>/Restaurant_Review-g188590-d693419-Reviews-De_...</td>\n",
       "      <td>d693419</td>\n",
       "      <td>72.0</td>\n",
       "    </tr>\n",
       "    <tr>\n",
       "      <th>2</th>\n",
       "      <td>2</td>\n",
       "      <td>LA RIVE</td>\n",
       "      <td>AMSTERDAM</td>\n",
       "      <td>MEDITERRANEAN FRENCH INTERNATIONAL EUROPEAN VE...</td>\n",
       "      <td>3.0</td>\n",
       "      <td>4.5</td>\n",
       "      <td>$$$$</td>\n",
       "      <td>567.0</td>\n",
       "      <td>SATISFACTION DELICIOUS OLD SCHOOL RESTAURANT 0...</td>\n",
       "      <td>/Restaurant_Review-g188590-d696959-Reviews-La_...</td>\n",
       "      <td>d696959</td>\n",
       "      <td>83.0</td>\n",
       "    </tr>\n",
       "    <tr>\n",
       "      <th>3</th>\n",
       "      <td>3</td>\n",
       "      <td>VINKELES</td>\n",
       "      <td>AMSTERDAM</td>\n",
       "      <td>FRENCH EUROPEAN INTERNATIONAL CONTEMPORARY VEG...</td>\n",
       "      <td>4.0</td>\n",
       "      <td>5.0</td>\n",
       "      <td>$$$$</td>\n",
       "      <td>564.0</td>\n",
       "      <td>TRUE FIVE STAR DINNER A SUPERB EVENING OF FINE...</td>\n",
       "      <td>/Restaurant_Review-g188590-d1239229-Reviews-Vi...</td>\n",
       "      <td>d1239229</td>\n",
       "      <td>106.0</td>\n",
       "    </tr>\n",
       "    <tr>\n",
       "      <th>4</th>\n",
       "      <td>4</td>\n",
       "      <td>LIBRIJE'S ZUSJE AMSTERDAM</td>\n",
       "      <td>AMSTERDAM</td>\n",
       "      <td>DUTCH EUROPEAN INTERNATIONAL VEGETARIAN FRIEND...</td>\n",
       "      <td>5.0</td>\n",
       "      <td>4.5</td>\n",
       "      <td>$$$$</td>\n",
       "      <td>316.0</td>\n",
       "      <td>BEST MEAL.... EVER SUPER FOOD EXPERIENCE 01/06...</td>\n",
       "      <td>/Restaurant_Review-g188590-d6864170-Reviews-Li...</td>\n",
       "      <td>d6864170</td>\n",
       "      <td>79.0</td>\n",
       "    </tr>\n",
       "    <tr>\n",
       "      <th>...</th>\n",
       "      <td>...</td>\n",
       "      <td>...</td>\n",
       "      <td>...</td>\n",
       "      <td>...</td>\n",
       "      <td>...</td>\n",
       "      <td>...</td>\n",
       "      <td>...</td>\n",
       "      <td>...</td>\n",
       "      <td>...</td>\n",
       "      <td>...</td>\n",
       "      <td>...</td>\n",
       "      <td>...</td>\n",
       "    </tr>\n",
       "    <tr>\n",
       "      <th>125522</th>\n",
       "      <td>1662</td>\n",
       "      <td>KONRAD KAFFEE- &amp; COCKTAILBAR</td>\n",
       "      <td>ZURICH</td>\n",
       "      <td>UNKNOWN</td>\n",
       "      <td>unknown</td>\n",
       "      <td>unknown</td>\n",
       "      <td>unknown</td>\n",
       "      <td>unknown</td>\n",
       "      <td>UNKNOWN</td>\n",
       "      <td>/Restaurant_Review-g188113-d13273526-Reviews-K...</td>\n",
       "      <td>d13273526</td>\n",
       "      <td>unknown</td>\n",
       "    </tr>\n",
       "    <tr>\n",
       "      <th>125523</th>\n",
       "      <td>1663</td>\n",
       "      <td>BLUEBERRY AMERICAN BAKERY</td>\n",
       "      <td>ZURICH</td>\n",
       "      <td>CAFE</td>\n",
       "      <td>unknown</td>\n",
       "      <td>unknown</td>\n",
       "      <td>unknown</td>\n",
       "      <td>unknown</td>\n",
       "      <td>UNKNOWN</td>\n",
       "      <td>/Restaurant_Review-g188113-d13292844-Reviews-B...</td>\n",
       "      <td>d13292844</td>\n",
       "      <td>unknown</td>\n",
       "    </tr>\n",
       "    <tr>\n",
       "      <th>125524</th>\n",
       "      <td>1664</td>\n",
       "      <td>RESTAURANT BAHNHOF</td>\n",
       "      <td>ZURICH</td>\n",
       "      <td>UNKNOWN</td>\n",
       "      <td>unknown</td>\n",
       "      <td>unknown</td>\n",
       "      <td>unknown</td>\n",
       "      <td>unknown</td>\n",
       "      <td>UNKNOWN</td>\n",
       "      <td>/Restaurant_Review-g188113-d13296092-Reviews-R...</td>\n",
       "      <td>d13296092</td>\n",
       "      <td>unknown</td>\n",
       "    </tr>\n",
       "    <tr>\n",
       "      <th>125525</th>\n",
       "      <td>1665</td>\n",
       "      <td>YOYO PIZZA</td>\n",
       "      <td>ZURICH</td>\n",
       "      <td>FAST FOOD</td>\n",
       "      <td>unknown</td>\n",
       "      <td>unknown</td>\n",
       "      <td>unknown</td>\n",
       "      <td>unknown</td>\n",
       "      <td>UNKNOWN</td>\n",
       "      <td>/Restaurant_Review-g188113-d13323362-Reviews-Y...</td>\n",
       "      <td>d13323362</td>\n",
       "      <td>unknown</td>\n",
       "    </tr>\n",
       "    <tr>\n",
       "      <th>125526</th>\n",
       "      <td>1666</td>\n",
       "      <td>DIECI</td>\n",
       "      <td>ZURICH</td>\n",
       "      <td>ITALIAN PIZZA MEDITERRANEAN DINER</td>\n",
       "      <td>unknown</td>\n",
       "      <td>unknown</td>\n",
       "      <td>$$ - $$$</td>\n",
       "      <td>unknown</td>\n",
       "      <td>UNKNOWN</td>\n",
       "      <td>/Restaurant_Review-g188113-d13349842-Reviews-D...</td>\n",
       "      <td>d13349842</td>\n",
       "      <td>unknown</td>\n",
       "    </tr>\n",
       "  </tbody>\n",
       "</table>\n",
       "<p>125527 rows × 12 columns</p>\n",
       "</div>"
      ],
      "text/plain": [
       "        Unnamed: 0                          Name       City  \\\n",
       "0                0    MARTINE OF MARTINE'S TABLE  AMSTERDAM   \n",
       "1                1           DE SILVEREN SPIEGEL  AMSTERDAM   \n",
       "2                2                       LA RIVE  AMSTERDAM   \n",
       "3                3                      VINKELES  AMSTERDAM   \n",
       "4                4     LIBRIJE'S ZUSJE AMSTERDAM  AMSTERDAM   \n",
       "...            ...                           ...        ...   \n",
       "125522        1662  KONRAD KAFFEE- & COCKTAILBAR     ZURICH   \n",
       "125523        1663     BLUEBERRY AMERICAN BAKERY     ZURICH   \n",
       "125524        1664            RESTAURANT BAHNHOF     ZURICH   \n",
       "125525        1665                    YOYO PIZZA     ZURICH   \n",
       "125526        1666                         DIECI     ZURICH   \n",
       "\n",
       "                                            Cuisine Style  Ranking   Rating  \\\n",
       "0                                   FRENCH DUTCH EUROPEAN      1.0      5.0   \n",
       "1       DUTCH EUROPEAN VEGETARIAN FRIENDLY GLUTEN FREE...      2.0      4.5   \n",
       "2       MEDITERRANEAN FRENCH INTERNATIONAL EUROPEAN VE...      3.0      4.5   \n",
       "3       FRENCH EUROPEAN INTERNATIONAL CONTEMPORARY VEG...      4.0      5.0   \n",
       "4       DUTCH EUROPEAN INTERNATIONAL VEGETARIAN FRIEND...      5.0      4.5   \n",
       "...                                                   ...      ...      ...   \n",
       "125522                                            UNKNOWN  unknown  unknown   \n",
       "125523                                               CAFE  unknown  unknown   \n",
       "125524                                            UNKNOWN  unknown  unknown   \n",
       "125525                                          FAST FOOD  unknown  unknown   \n",
       "125526                  ITALIAN PIZZA MEDITERRANEAN DINER  unknown  unknown   \n",
       "\n",
       "       Price Range Number of Reviews  \\\n",
       "0         $$ - $$$             136.0   \n",
       "1             $$$$             812.0   \n",
       "2             $$$$             567.0   \n",
       "3             $$$$             564.0   \n",
       "4             $$$$             316.0   \n",
       "...            ...               ...   \n",
       "125522     unknown           unknown   \n",
       "125523     unknown           unknown   \n",
       "125524     unknown           unknown   \n",
       "125525     unknown           unknown   \n",
       "125526    $$ - $$$           unknown   \n",
       "\n",
       "                                                  Reviews  \\\n",
       "0       JUST LIKE HOME A WARM WELCOME TO WINTRY AMSTER...   \n",
       "1       GREAT FOOD AND STAFF JUST PERFECT 01/06/2018 0...   \n",
       "2       SATISFACTION DELICIOUS OLD SCHOOL RESTAURANT 0...   \n",
       "3       TRUE FIVE STAR DINNER A SUPERB EVENING OF FINE...   \n",
       "4       BEST MEAL.... EVER SUPER FOOD EXPERIENCE 01/06...   \n",
       "...                                                   ...   \n",
       "125522                                            UNKNOWN   \n",
       "125523                                            UNKNOWN   \n",
       "125524                                            UNKNOWN   \n",
       "125525                                            UNKNOWN   \n",
       "125526                                            UNKNOWN   \n",
       "\n",
       "                                                   URL_TA      ID_TA   Length  \n",
       "0       /Restaurant_Review-g188590-d11752080-Reviews-M...  d11752080     88.0  \n",
       "1       /Restaurant_Review-g188590-d693419-Reviews-De_...    d693419     72.0  \n",
       "2       /Restaurant_Review-g188590-d696959-Reviews-La_...    d696959     83.0  \n",
       "3       /Restaurant_Review-g188590-d1239229-Reviews-Vi...   d1239229    106.0  \n",
       "4       /Restaurant_Review-g188590-d6864170-Reviews-Li...   d6864170     79.0  \n",
       "...                                                   ...        ...      ...  \n",
       "125522  /Restaurant_Review-g188113-d13273526-Reviews-K...  d13273526  unknown  \n",
       "125523  /Restaurant_Review-g188113-d13292844-Reviews-B...  d13292844  unknown  \n",
       "125524  /Restaurant_Review-g188113-d13296092-Reviews-R...  d13296092  unknown  \n",
       "125525  /Restaurant_Review-g188113-d13323362-Reviews-Y...  d13323362  unknown  \n",
       "125526  /Restaurant_Review-g188113-d13349842-Reviews-D...  d13349842  unknown  \n",
       "\n",
       "[125527 rows x 12 columns]"
      ]
     },
     "execution_count": 12,
     "metadata": {},
     "output_type": "execute_result"
    }
   ],
   "source": [
    "# Importing regex library\n",
    "import re\n",
    "\n",
    "# REGEX to remove \"/\" \",\" \"'\"\n",
    "pattern = r'[\\[\\],\\']'\n",
    "# Apply the regex substitution to the specified column\n",
    "df['Reviews'] = df['Reviews'].apply(lambda x: re.sub(pattern, '', x))\n",
    "df['Cuisine Style'] = df['Cuisine Style'].apply(lambda x: re.sub(pattern, '', x))\n",
    "df['URL_TA'] = df['URL_TA'].apply(lambda x: re.sub(pattern, '', x))\n",
    "\n",
    "df"
   ]
  },
  {
   "cell_type": "markdown",
   "id": "89b544e7",
   "metadata": {},
   "source": [
    "## DATA VISUALIZATION & PLOTS"
   ]
  },
  {
   "cell_type": "code",
   "execution_count": 13,
   "id": "216a7b27",
   "metadata": {},
   "outputs": [],
   "source": [
    "# Converting rating column to numerical\n",
    "df['Length'] = pd.to_numeric(df['Length'], errors='coerce')"
   ]
  },
  {
   "cell_type": "code",
   "execution_count": 14,
   "id": "a14283d1",
   "metadata": {},
   "outputs": [
    {
     "data": {
      "image/png": "[encoded data removed]",
      "text/plain": [
       "<Figure size 640x480 with 1 Axes>"
      ]
     },
     "metadata": {},
     "output_type": "display_data"
    }
   ],
   "source": [
    "# Importing matplotlib Package\n",
    "import matplotlib.pyplot as plt\n",
    "\n",
    "# Taking 'length' as Target Column\n",
    "df['Length'].plot(label='Length')\n",
    "plt.xlabel('Index')\n",
    "plt.ylabel('Length')\n",
    "# Adding legends\n",
    "plt.legend()\n",
    "\n",
    "# Display the plot\n",
    "plt.show()"
   ]
  },
  {
   "cell_type": "code",
   "execution_count": 15,
   "id": "e11bd16e",
   "metadata": {},
   "outputs": [],
   "source": [
    "# Converting rating column to numerical\n",
    "df['Rating'] = pd.to_numeric(df['Rating'], errors='coerce')"
   ]
  },
  {
   "cell_type": "code",
   "execution_count": 16,
   "id": "2d1051df",
   "metadata": {},
   "outputs": [
    {
     "name": "stderr",
     "output_type": "stream",
     "text": [
      "C:\\Users\\srima\\AppData\\Roaming\\Python\\Python312\\site-packages\\IPython\\core\\pylabtools.py:152: UserWarning: Creating legend with loc=\"best\" can be slow with large amounts of data.\n",
      "  fig.canvas.print_figure(bytes_io, **kw)\n"
     ]
    },
    {
     "data": {
      "image/png": "[encoded data removed]",
      "text/plain": [
       "<Figure size 640x480 with 1 Axes>"
      ]
     },
     "metadata": {},
     "output_type": "display_data"
    }
   ],
   "source": [
    "# Importing matplotlib Package\n",
    "import matplotlib.pyplot as plt\n",
    "\n",
    "# Taking 'Rating' as Target Column\n",
    "plt.scatter(df.index, df['Rating'], label='Rating')\n",
    "\n",
    "# Setting labels for the axes\n",
    "plt.xlabel('Index')\n",
    "plt.ylabel('Rating')\n",
    "\n",
    "# Adding legend\n",
    "plt.legend()\n",
    "\n",
    "# Display the scatter plot\n",
    "plt.show()\n"
   ]
  },
  {
   "cell_type": "code",
   "execution_count": 17,
   "id": "8244f267",
   "metadata": {},
   "outputs": [
    {
     "data": {
      "image/png": "[encoded data removed]",
      "text/plain": [
       "<Figure size 640x480 with 1 Axes>"
      ]
     },
     "metadata": {},
     "output_type": "display_data"
    }
   ],
   "source": [
    "# Ploting a Box Plot\n",
    "df['Length'].plot(kind='box', vert=False)\n",
    "\n",
    "# Adding x and y axis labels\n",
    "plt.xlabel('Length')\n",
    "plt.ylabel('')\n",
    "\n",
    "# Display the plot\n",
    "plt.show()"
   ]
  },
  {
   "cell_type": "code",
   "execution_count": 18,
   "id": "98640bbd",
   "metadata": {},
   "outputs": [
    {
     "data": {
      "image/png": "[encoded data removed]",
      "text/plain": [
       "<Figure size 640x480 with 1 Axes>"
      ]
     },
     "metadata": {},
     "output_type": "display_data"
    }
   ],
   "source": [
    "# Ploting a Box Plot for Rating Column\n",
    "df['Rating'].plot(kind='box', vert=False)\n",
    "\n",
    "# Adding x and y axis labels\n",
    "plt.xlabel('Rating')\n",
    "plt.ylabel('')\n",
    "\n",
    "# Display the plot\n",
    "plt.show()"
   ]
  },
  {
   "cell_type": "code",
   "execution_count": 19,
   "id": "2aa70868",
   "metadata": {},
   "outputs": [
    {
     "data": {
      "image/png": "[encoded data removed]",
      "text/plain": [
       "<Figure size 640x480 with 1 Axes>"
      ]
     },
     "metadata": {},
     "output_type": "display_data"
    }
   ],
   "source": [
    "# Drawing a Histogram\n",
    "df['Length'].plot(kind='hist', bins=30)\n",
    "\n",
    "# Adding x and y axis labels, legend \n",
    "plt.xlabel('Length')\n",
    "plt.ylabel('Frequency')\n",
    "plt.legend()\n",
    "# Display the plot\n",
    "plt.show()"
   ]
  },
  {
   "cell_type": "code",
   "execution_count": 20,
   "id": "a54342ee",
   "metadata": {},
   "outputs": [
    {
     "data": {
      "image/png": "[encoded data removed]",
      "text/plain": [
       "<Figure size 640x480 with 1 Axes>"
      ]
     },
     "metadata": {},
     "output_type": "display_data"
    }
   ],
   "source": [
    "# Drawing a Histogram for Rating column\n",
    "df['Rating'].plot(kind='hist', bins=30)\n",
    "\n",
    "# Adding x and y axis labels, legend \n",
    "plt.xlabel('Rating')\n",
    "plt.ylabel('Frequency')\n",
    "plt.legend()\n",
    "# Display the plot\n",
    "plt.show()"
   ]
  },
  {
   "cell_type": "code",
   "execution_count": 21,
   "id": "08638010",
   "metadata": {},
   "outputs": [
    {
     "data": {
      "text/plain": [
       "array(['AMSTERDAM', 'ATHENS', 'BARCELONA', 'BERLIN', 'BRATISLAVA',\n",
       "       'BRUSSELS', 'BUDAPEST', 'COPENHAGEN', 'DUBLIN', 'EDINBURGH',\n",
       "       'GENEVA', 'HAMBURG', 'HELSINKI', 'KRAKOW', 'LISBON', 'LJUBLJANA',\n",
       "       'LONDON', 'LUXEMBOURG', 'LYON', 'MADRID', 'MILAN', 'MUNICH',\n",
       "       'OPORTO', 'OSLO', 'PARIS', 'PRAGUE', 'ROME', 'STOCKHOLM', 'VIENNA',\n",
       "       'WARSAW', 'ZURICH'], dtype=object)"
      ]
     },
     "execution_count": 21,
     "metadata": {},
     "output_type": "execute_result"
    }
   ],
   "source": [
    "# Returning all the unique values in City column \n",
    "unique_values = df['City'].unique()\n",
    "unique_values"
   ]
  },
  {
   "cell_type": "markdown",
   "id": "dc9db325",
   "metadata": {},
   "source": [
    "### Now , Lets draw a box plot between 5 cities and Ratings of the cities"
   ]
  },
  {
   "cell_type": "code",
   "execution_count": 22,
   "id": "55a10960",
   "metadata": {},
   "outputs": [
    {
     "name": "stderr",
     "output_type": "stream",
     "text": [
      "C:\\Users\\srima\\AppData\\Roaming\\Python\\Python312\\site-packages\\seaborn\\categorical.py:640: FutureWarning: SeriesGroupBy.grouper is deprecated and will be removed in a future version of pandas.\n",
      "  positions = grouped.grouper.result_index.to_numpy(dtype=float)\n"
     ]
    },
    {
     "data": {
      "text/plain": [
       "Text(30.439506172839508, 0.5, 'Rating')"
      ]
     },
     "execution_count": 22,
     "metadata": {},
     "output_type": "execute_result"
    },
    {
     "data": {
      "image/png": "[encoded data removed]",
      "text/plain": [
       "<Figure size 800x500 with 1 Axes>"
      ]
     },
     "metadata": {},
     "output_type": "display_data"
    }
   ],
   "source": [
    "# Importing Seaborn Package\n",
    "import seaborn as sns\n",
    "where = df['City'].isin(['AMSTERDAM', 'ATHENS', 'BARCELONA', 'BERLIN', 'BRATISLAVA'])\n",
    "g = sns.catplot(data=df[where], x=\"City\", y=\"Rating\", kind='box') # ploting box plot\n",
    "g.fig.set_size_inches(8, 5) # sixe of plot\n",
    "# Adding x and y axis labels\n",
    "plt.xlabel('City') \n",
    "plt.ylabel('Rating')"
   ]
  },
  {
   "cell_type": "markdown",
   "id": "1bd7dc26",
   "metadata": {},
   "source": [
    "# Que. Create pipeline, remove stop words, word frequency analysis and word clouds"
   ]
  },
  {
   "cell_type": "markdown",
   "id": "22e62e81",
   "metadata": {},
   "source": [
    "## Pre-Processing Pipeline"
   ]
  },
  {
   "cell_type": "code",
   "execution_count": 23,
   "id": "957cfb9f",
   "metadata": {},
   "outputs": [],
   "source": [
    "# Importing Regex Package\n",
    "import regex as re\n",
    "# Defining a Function to Pull Words\n",
    "def tokenize(text):\n",
    "    return re.findall(r'[\\w-]*[a-z|A-Z][\\w-]*', text)"
   ]
  },
  {
   "cell_type": "code",
   "execution_count": 24,
   "id": "b3a89ac3",
   "metadata": {},
   "outputs": [],
   "source": [
    "# Importing nltk Package\n",
    "import nltk"
   ]
  },
  {
   "cell_type": "code",
   "execution_count": 25,
   "id": "70b0cb64",
   "metadata": {},
   "outputs": [
    {
     "name": "stdout",
     "output_type": "stream",
     "text": [
      "{'itself', 'myself', \"you've\", 'was', 'your', 'you', 'being', 'ourselves', 'i', 'am', 'who', 'ain', 'couldn', 'through', 'above', 'on', \"mustn't\", 'its', 'over', 'about', 't', 'same', \"mightn't\", \"hasn't\", 'can', 'any', 'no', 'after', 'then', 'be', 'for', 'will', \"shouldn't\", 'our', 'by', 'with', 'doesn', 'has', 'so', 'me', 'nor', 'd', 'that', 'had', 'most', \"should've\", 'between', 'up', 'he', 'yours', 'or', 'during', 'wasn', 'and', 'down', 'didn', \"hadn't\", 'isn', 'if', 'this', \"needn't\", 'further', \"doesn't\", 'hasn', 'mustn', 'whom', 'at', 'ours', 'under', 'below', 'were', 'my', \"you're\", 're', \"shan't\", 'before', 'll', 'yourself', 'they', 'why', 'how', 'more', 'himself', \"won't\", 'each', 'yourselves', 'here', 'she', 'some', \"isn't\", 'wouldn', \"wouldn't\", 'the', \"weren't\", 'very', 'we', 'shan', 'o', 'now', 'when', 'only', 'them', 'their', 'because', 'aren', 'an', 'hadn', \"it's\", 'but', 'in', 'as', 'not', \"you'll\", 'into', 'herself', 'theirs', 'having', 'than', 'both', 'such', 'few', 'don', 'doing', 'these', 'shouldn', 'a', 'too', 'should', 'from', 'once', 'hers', 'm', 'it', \"couldn't\", 'haven', 's', 'weren', 'there', 'needn', 'are', \"didn't\", 'those', 'other', 'of', 'does', 'do', 'been', 'where', 've', 'her', 'what', 'him', \"that'll\", 'ma', 'out', 'which', 'just', 'won', 'all', 'off', 'have', \"she's\", 'until', 'themselves', \"haven't\", 'is', 'did', 'against', 'y', \"aren't\", \"you'd\", 'to', 'again', 'own', \"wasn't\", \"don't\", 'his', 'mightn', 'while'}\n"
     ]
    },
    {
     "name": "stderr",
     "output_type": "stream",
     "text": [
      "[nltk_data] Downloading package stopwords to\n",
      "[nltk_data]     C:\\Users\\srima\\AppData\\Roaming\\nltk_data...\n",
      "[nltk_data]   Package stopwords is already up-to-date!\n"
     ]
    }
   ],
   "source": [
    "# Downloading all List of Stop Words\n",
    "nltk.download('stopwords')\n",
    "stopwords = set(nltk.corpus.stopwords.words('english'))\n",
    "print(stopwords)"
   ]
  },
  {
   "cell_type": "code",
   "execution_count": 27,
   "id": "a5b7f9af",
   "metadata": {},
   "outputs": [],
   "source": [
    "# Creating a Pipeline\n",
    "pipeline = [str.lower, tokenize]\n",
    "\n",
    "# Defining a Function to Run the Pipeline\n",
    "def prepare(text, pipeline):\n",
    "    tokens = text\n",
    "    for fun in pipeline:\n",
    "        tokens = fun(tokens)\n",
    "    return tokens"
   ]
  },
  {
   "cell_type": "code",
   "execution_count": 28,
   "id": "542e41b8",
   "metadata": {},
   "outputs": [],
   "source": [
    "# Running the Pipeline\n",
    "df['tokens'] = df['Reviews'].apply(prepare, pipeline=pipeline)"
   ]
  },
  {
   "cell_type": "code",
   "execution_count": 29,
   "id": "4b4cd5fc",
   "metadata": {},
   "outputs": [
    {
     "data": {
      "text/html": [
       "<div>\n",
       "<style scoped>\n",
       "    .dataframe tbody tr th:only-of-type {\n",
       "        vertical-align: middle;\n",
       "    }\n",
       "\n",
       "    .dataframe tbody tr th {\n",
       "        vertical-align: top;\n",
       "    }\n",
       "\n",
       "    .dataframe thead th {\n",
       "        text-align: right;\n",
       "    }\n",
       "</style>\n",
       "<table border=\"1\" class=\"dataframe\">\n",
       "  <thead>\n",
       "    <tr style=\"text-align: right;\">\n",
       "      <th></th>\n",
       "      <th>Unnamed: 0</th>\n",
       "      <th>Name</th>\n",
       "      <th>City</th>\n",
       "      <th>Cuisine Style</th>\n",
       "      <th>Ranking</th>\n",
       "      <th>Rating</th>\n",
       "      <th>Price Range</th>\n",
       "      <th>Number of Reviews</th>\n",
       "      <th>Reviews</th>\n",
       "      <th>URL_TA</th>\n",
       "      <th>ID_TA</th>\n",
       "      <th>Length</th>\n",
       "      <th>tokens</th>\n",
       "      <th>num_tokens</th>\n",
       "    </tr>\n",
       "  </thead>\n",
       "  <tbody>\n",
       "    <tr>\n",
       "      <th>0</th>\n",
       "      <td>0</td>\n",
       "      <td>MARTINE OF MARTINE'S TABLE</td>\n",
       "      <td>AMSTERDAM</td>\n",
       "      <td>FRENCH DUTCH EUROPEAN</td>\n",
       "      <td>1.0</td>\n",
       "      <td>5.0</td>\n",
       "      <td>$$ - $$$</td>\n",
       "      <td>136.0</td>\n",
       "      <td>JUST LIKE HOME A WARM WELCOME TO WINTRY AMSTER...</td>\n",
       "      <td>/Restaurant_Review-g188590-d11752080-Reviews-M...</td>\n",
       "      <td>d11752080</td>\n",
       "      <td>88.0</td>\n",
       "      <td>[just, like, home, a, warm, welcome, to, wintr...</td>\n",
       "      <td>9</td>\n",
       "    </tr>\n",
       "    <tr>\n",
       "      <th>1</th>\n",
       "      <td>1</td>\n",
       "      <td>DE SILVEREN SPIEGEL</td>\n",
       "      <td>AMSTERDAM</td>\n",
       "      <td>DUTCH EUROPEAN VEGETARIAN FRIENDLY GLUTEN FREE...</td>\n",
       "      <td>2.0</td>\n",
       "      <td>4.5</td>\n",
       "      <td>$$$$</td>\n",
       "      <td>812.0</td>\n",
       "      <td>GREAT FOOD AND STAFF JUST PERFECT 01/06/2018 0...</td>\n",
       "      <td>/Restaurant_Review-g188590-d693419-Reviews-De_...</td>\n",
       "      <td>d693419</td>\n",
       "      <td>72.0</td>\n",
       "      <td>[great, food, and, staff, just, perfect]</td>\n",
       "      <td>6</td>\n",
       "    </tr>\n",
       "    <tr>\n",
       "      <th>2</th>\n",
       "      <td>2</td>\n",
       "      <td>LA RIVE</td>\n",
       "      <td>AMSTERDAM</td>\n",
       "      <td>MEDITERRANEAN FRENCH INTERNATIONAL EUROPEAN VE...</td>\n",
       "      <td>3.0</td>\n",
       "      <td>4.5</td>\n",
       "      <td>$$$$</td>\n",
       "      <td>567.0</td>\n",
       "      <td>SATISFACTION DELICIOUS OLD SCHOOL RESTAURANT 0...</td>\n",
       "      <td>/Restaurant_Review-g188590-d696959-Reviews-La_...</td>\n",
       "      <td>d696959</td>\n",
       "      <td>83.0</td>\n",
       "      <td>[satisfaction, delicious, old, school, restaur...</td>\n",
       "      <td>5</td>\n",
       "    </tr>\n",
       "    <tr>\n",
       "      <th>3</th>\n",
       "      <td>3</td>\n",
       "      <td>VINKELES</td>\n",
       "      <td>AMSTERDAM</td>\n",
       "      <td>FRENCH EUROPEAN INTERNATIONAL CONTEMPORARY VEG...</td>\n",
       "      <td>4.0</td>\n",
       "      <td>5.0</td>\n",
       "      <td>$$$$</td>\n",
       "      <td>564.0</td>\n",
       "      <td>TRUE FIVE STAR DINNER A SUPERB EVENING OF FINE...</td>\n",
       "      <td>/Restaurant_Review-g188590-d1239229-Reviews-Vi...</td>\n",
       "      <td>d1239229</td>\n",
       "      <td>106.0</td>\n",
       "      <td>[true, five, star, dinner, a, superb, evening,...</td>\n",
       "      <td>11</td>\n",
       "    </tr>\n",
       "    <tr>\n",
       "      <th>4</th>\n",
       "      <td>4</td>\n",
       "      <td>LIBRIJE'S ZUSJE AMSTERDAM</td>\n",
       "      <td>AMSTERDAM</td>\n",
       "      <td>DUTCH EUROPEAN INTERNATIONAL VEGETARIAN FRIEND...</td>\n",
       "      <td>5.0</td>\n",
       "      <td>4.5</td>\n",
       "      <td>$$$$</td>\n",
       "      <td>316.0</td>\n",
       "      <td>BEST MEAL.... EVER SUPER FOOD EXPERIENCE 01/06...</td>\n",
       "      <td>/Restaurant_Review-g188590-d6864170-Reviews-Li...</td>\n",
       "      <td>d6864170</td>\n",
       "      <td>79.0</td>\n",
       "      <td>[best, meal, ever, super, food, experience]</td>\n",
       "      <td>6</td>\n",
       "    </tr>\n",
       "  </tbody>\n",
       "</table>\n",
       "</div>"
      ],
      "text/plain": [
       "   Unnamed: 0                        Name       City  \\\n",
       "0           0  MARTINE OF MARTINE'S TABLE  AMSTERDAM   \n",
       "1           1         DE SILVEREN SPIEGEL  AMSTERDAM   \n",
       "2           2                     LA RIVE  AMSTERDAM   \n",
       "3           3                    VINKELES  AMSTERDAM   \n",
       "4           4   LIBRIJE'S ZUSJE AMSTERDAM  AMSTERDAM   \n",
       "\n",
       "                                       Cuisine Style Ranking  Rating  \\\n",
       "0                              FRENCH DUTCH EUROPEAN     1.0     5.0   \n",
       "1  DUTCH EUROPEAN VEGETARIAN FRIENDLY GLUTEN FREE...     2.0     4.5   \n",
       "2  MEDITERRANEAN FRENCH INTERNATIONAL EUROPEAN VE...     3.0     4.5   \n",
       "3  FRENCH EUROPEAN INTERNATIONAL CONTEMPORARY VEG...     4.0     5.0   \n",
       "4  DUTCH EUROPEAN INTERNATIONAL VEGETARIAN FRIEND...     5.0     4.5   \n",
       "\n",
       "  Price Range Number of Reviews  \\\n",
       "0    $$ - $$$             136.0   \n",
       "1        $$$$             812.0   \n",
       "2        $$$$             567.0   \n",
       "3        $$$$             564.0   \n",
       "4        $$$$             316.0   \n",
       "\n",
       "                                             Reviews  \\\n",
       "0  JUST LIKE HOME A WARM WELCOME TO WINTRY AMSTER...   \n",
       "1  GREAT FOOD AND STAFF JUST PERFECT 01/06/2018 0...   \n",
       "2  SATISFACTION DELICIOUS OLD SCHOOL RESTAURANT 0...   \n",
       "3  TRUE FIVE STAR DINNER A SUPERB EVENING OF FINE...   \n",
       "4  BEST MEAL.... EVER SUPER FOOD EXPERIENCE 01/06...   \n",
       "\n",
       "                                              URL_TA      ID_TA  Length  \\\n",
       "0  /Restaurant_Review-g188590-d11752080-Reviews-M...  d11752080    88.0   \n",
       "1  /Restaurant_Review-g188590-d693419-Reviews-De_...    d693419    72.0   \n",
       "2  /Restaurant_Review-g188590-d696959-Reviews-La_...    d696959    83.0   \n",
       "3  /Restaurant_Review-g188590-d1239229-Reviews-Vi...   d1239229   106.0   \n",
       "4  /Restaurant_Review-g188590-d6864170-Reviews-Li...   d6864170    79.0   \n",
       "\n",
       "                                              tokens  num_tokens  \n",
       "0  [just, like, home, a, warm, welcome, to, wintr...           9  \n",
       "1           [great, food, and, staff, just, perfect]           6  \n",
       "2  [satisfaction, delicious, old, school, restaur...           5  \n",
       "3  [true, five, star, dinner, a, superb, evening,...          11  \n",
       "4        [best, meal, ever, super, food, experience]           6  "
      ]
     },
     "execution_count": 29,
     "metadata": {},
     "output_type": "execute_result"
    }
   ],
   "source": [
    "# Creating a New Column for the Number of Tokens\n",
    "df['num_tokens'] = df['tokens'].map(len)\n",
    "df.head()"
   ]
  },
  {
   "cell_type": "markdown",
   "id": "9bc4e5e8",
   "metadata": {},
   "source": [
    "## Word Frequency Analysis"
   ]
  },
  {
   "cell_type": "code",
   "execution_count": 30,
   "id": "ae3d549b",
   "metadata": {},
   "outputs": [
    {
     "name": "stdout",
     "output_type": "stream",
     "text": [
      "[('food', 30452), ('good', 27239), ('great', 24743), ('and', 22436), ('a', 19113)]\n"
     ]
    }
   ],
   "source": [
    "# Importing a function Counter\n",
    "from collections import Counter\n",
    "\n",
    "counter = Counter()\n",
    "df['tokens'].map(counter.update)\n",
    "print(counter.most_common(5))"
   ]
  },
  {
   "cell_type": "code",
   "execution_count": 31,
   "id": "58226f95",
   "metadata": {},
   "outputs": [],
   "source": [
    "# Creating a New Data Frame for Frequency Analysis \n",
    "freq_df = pd.DataFrame.from_dict(counter, orient='index', columns=['freq'])\n",
    "freq_df = freq_df.query('freq >= 1')\n",
    "freq_df.index.name = 'token'"
   ]
  },
  {
   "cell_type": "code",
   "execution_count": 32,
   "id": "006fa936",
   "metadata": {},
   "outputs": [
    {
     "data": {
      "text/html": [
       "<div>\n",
       "<style scoped>\n",
       "    .dataframe tbody tr th:only-of-type {\n",
       "        vertical-align: middle;\n",
       "    }\n",
       "\n",
       "    .dataframe tbody tr th {\n",
       "        vertical-align: top;\n",
       "    }\n",
       "\n",
       "    .dataframe thead th {\n",
       "        text-align: right;\n",
       "    }\n",
       "</style>\n",
       "<table border=\"1\" class=\"dataframe\">\n",
       "  <thead>\n",
       "    <tr style=\"text-align: right;\">\n",
       "      <th></th>\n",
       "      <th>freq</th>\n",
       "    </tr>\n",
       "    <tr>\n",
       "      <th>token</th>\n",
       "      <th></th>\n",
       "    </tr>\n",
       "  </thead>\n",
       "  <tbody>\n",
       "    <tr>\n",
       "      <th>food</th>\n",
       "      <td>30452</td>\n",
       "    </tr>\n",
       "    <tr>\n",
       "      <th>good</th>\n",
       "      <td>27239</td>\n",
       "    </tr>\n",
       "    <tr>\n",
       "      <th>great</th>\n",
       "      <td>24743</td>\n",
       "    </tr>\n",
       "    <tr>\n",
       "      <th>and</th>\n",
       "      <td>22436</td>\n",
       "    </tr>\n",
       "    <tr>\n",
       "      <th>a</th>\n",
       "      <td>19113</td>\n",
       "    </tr>\n",
       "    <tr>\n",
       "      <th>in</th>\n",
       "      <td>14386</td>\n",
       "    </tr>\n",
       "    <tr>\n",
       "      <th>the</th>\n",
       "      <td>14010</td>\n",
       "    </tr>\n",
       "    <tr>\n",
       "      <th>nice</th>\n",
       "      <td>13199</td>\n",
       "    </tr>\n",
       "    <tr>\n",
       "      <th>place</th>\n",
       "      <td>11983</td>\n",
       "    </tr>\n",
       "    <tr>\n",
       "      <th>for</th>\n",
       "      <td>11205</td>\n",
       "    </tr>\n",
       "  </tbody>\n",
       "</table>\n",
       "</div>"
      ],
      "text/plain": [
       "        freq\n",
       "token       \n",
       "food   30452\n",
       "good   27239\n",
       "great  24743\n",
       "and    22436\n",
       "a      19113\n",
       "in     14386\n",
       "the    14010\n",
       "nice   13199\n",
       "place  11983\n",
       "for    11205"
      ]
     },
     "execution_count": 32,
     "metadata": {},
     "output_type": "execute_result"
    }
   ],
   "source": [
    "# Sorting the freq_df based on Frequency\n",
    "freq_df = freq_df.sort_values('freq', ascending=False)\n",
    "freq_df.head(10)"
   ]
  },
  {
   "cell_type": "code",
   "execution_count": 33,
   "id": "c8fcf268",
   "metadata": {},
   "outputs": [
    {
     "data": {
      "text/html": [
       "<div>\n",
       "<style scoped>\n",
       "    .dataframe tbody tr th:only-of-type {\n",
       "        vertical-align: middle;\n",
       "    }\n",
       "\n",
       "    .dataframe tbody tr th {\n",
       "        vertical-align: top;\n",
       "    }\n",
       "\n",
       "    .dataframe thead th {\n",
       "        text-align: right;\n",
       "    }\n",
       "</style>\n",
       "<table border=\"1\" class=\"dataframe\">\n",
       "  <thead>\n",
       "    <tr style=\"text-align: right;\">\n",
       "      <th></th>\n",
       "      <th>freq</th>\n",
       "    </tr>\n",
       "  </thead>\n",
       "  <tbody>\n",
       "    <tr>\n",
       "      <th>count</th>\n",
       "      <td>25460.000000</td>\n",
       "    </tr>\n",
       "    <tr>\n",
       "      <th>mean</th>\n",
       "      <td>28.641870</td>\n",
       "    </tr>\n",
       "    <tr>\n",
       "      <th>std</th>\n",
       "      <td>448.704169</td>\n",
       "    </tr>\n",
       "    <tr>\n",
       "      <th>min</th>\n",
       "      <td>1.000000</td>\n",
       "    </tr>\n",
       "    <tr>\n",
       "      <th>25%</th>\n",
       "      <td>1.000000</td>\n",
       "    </tr>\n",
       "    <tr>\n",
       "      <th>50%</th>\n",
       "      <td>1.000000</td>\n",
       "    </tr>\n",
       "    <tr>\n",
       "      <th>75%</th>\n",
       "      <td>3.000000</td>\n",
       "    </tr>\n",
       "    <tr>\n",
       "      <th>max</th>\n",
       "      <td>30452.000000</td>\n",
       "    </tr>\n",
       "  </tbody>\n",
       "</table>\n",
       "</div>"
      ],
      "text/plain": [
       "               freq\n",
       "count  25460.000000\n",
       "mean      28.641870\n",
       "std      448.704169\n",
       "min        1.000000\n",
       "25%        1.000000\n",
       "50%        1.000000\n",
       "75%        3.000000\n",
       "max    30452.000000"
      ]
     },
     "execution_count": 33,
     "metadata": {},
     "output_type": "execute_result"
    }
   ],
   "source": [
    "# Printing the Statistical Data of Frequency\n",
    "freq_df.describe()"
   ]
  },
  {
   "cell_type": "code",
   "execution_count": 34,
   "id": "381089a1",
   "metadata": {},
   "outputs": [
    {
     "data": {
      "text/plain": [
       "[Text(0.5, 0, 'Frequency'), Text(0, 0.5, 'Token'), Text(0.5, 1.0, 'Top Words')]"
      ]
     },
     "execution_count": 34,
     "metadata": {},
     "output_type": "execute_result"
    },
    {
     "data": {
      "image/png": "[encoded data removed]",
      "text/plain": [
       "<Figure size 1000x600 with 1 Axes>"
      ]
     },
     "metadata": {},
     "output_type": "display_data"
    }
   ],
   "source": [
    "# Plotting a bar graph for most frequent words \n",
    "ax = freq_df.head(15).plot(kind='barh', width=0.95, figsize=(10,6))\n",
    "ax.invert_yaxis()\n",
    "ax.set(xlabel='Frequency', ylabel='Token', title='Top Words')"
   ]
  },
  {
   "cell_type": "code",
   "execution_count": 35,
   "id": "a566d7eb",
   "metadata": {},
   "outputs": [
    {
     "data": {
      "text/html": [
       "<div>\n",
       "<style scoped>\n",
       "    .dataframe tbody tr th:only-of-type {\n",
       "        vertical-align: middle;\n",
       "    }\n",
       "\n",
       "    .dataframe tbody tr th {\n",
       "        vertical-align: top;\n",
       "    }\n",
       "\n",
       "    .dataframe thead th {\n",
       "        text-align: right;\n",
       "    }\n",
       "</style>\n",
       "<table border=\"1\" class=\"dataframe\">\n",
       "  <thead>\n",
       "    <tr style=\"text-align: right;\">\n",
       "      <th></th>\n",
       "      <th>Unnamed: 0</th>\n",
       "      <th>Name</th>\n",
       "      <th>City</th>\n",
       "      <th>Cuisine Style</th>\n",
       "      <th>Ranking</th>\n",
       "      <th>Rating</th>\n",
       "      <th>Price Range</th>\n",
       "      <th>Number of Reviews</th>\n",
       "      <th>Reviews</th>\n",
       "      <th>URL_TA</th>\n",
       "      <th>ID_TA</th>\n",
       "      <th>Length</th>\n",
       "      <th>tokens</th>\n",
       "      <th>num_tokens</th>\n",
       "    </tr>\n",
       "  </thead>\n",
       "  <tbody>\n",
       "    <tr>\n",
       "      <th>0</th>\n",
       "      <td>0</td>\n",
       "      <td>MARTINE OF MARTINE'S TABLE</td>\n",
       "      <td>AMSTERDAM</td>\n",
       "      <td>FRENCH DUTCH EUROPEAN</td>\n",
       "      <td>1.0</td>\n",
       "      <td>5.0</td>\n",
       "      <td>$$ - $$$</td>\n",
       "      <td>136.0</td>\n",
       "      <td>JUST LIKE HOME A WARM WELCOME TO WINTRY AMSTER...</td>\n",
       "      <td>/Restaurant_Review-g188590-d11752080-Reviews-M...</td>\n",
       "      <td>d11752080</td>\n",
       "      <td>88.0</td>\n",
       "      <td>[just, like, home, a, warm, welcome, to, wintr...</td>\n",
       "      <td>9</td>\n",
       "    </tr>\n",
       "    <tr>\n",
       "      <th>1</th>\n",
       "      <td>1</td>\n",
       "      <td>DE SILVEREN SPIEGEL</td>\n",
       "      <td>AMSTERDAM</td>\n",
       "      <td>DUTCH EUROPEAN VEGETARIAN FRIENDLY GLUTEN FREE...</td>\n",
       "      <td>2.0</td>\n",
       "      <td>4.5</td>\n",
       "      <td>$$$$</td>\n",
       "      <td>812.0</td>\n",
       "      <td>GREAT FOOD AND STAFF JUST PERFECT 01/06/2018 0...</td>\n",
       "      <td>/Restaurant_Review-g188590-d693419-Reviews-De_...</td>\n",
       "      <td>d693419</td>\n",
       "      <td>72.0</td>\n",
       "      <td>[great, food, and, staff, just, perfect]</td>\n",
       "      <td>6</td>\n",
       "    </tr>\n",
       "    <tr>\n",
       "      <th>2</th>\n",
       "      <td>2</td>\n",
       "      <td>LA RIVE</td>\n",
       "      <td>AMSTERDAM</td>\n",
       "      <td>MEDITERRANEAN FRENCH INTERNATIONAL EUROPEAN VE...</td>\n",
       "      <td>3.0</td>\n",
       "      <td>4.5</td>\n",
       "      <td>$$$$</td>\n",
       "      <td>567.0</td>\n",
       "      <td>SATISFACTION DELICIOUS OLD SCHOOL RESTAURANT 0...</td>\n",
       "      <td>/Restaurant_Review-g188590-d696959-Reviews-La_...</td>\n",
       "      <td>d696959</td>\n",
       "      <td>83.0</td>\n",
       "      <td>[satisfaction, delicious, old, school, restaur...</td>\n",
       "      <td>5</td>\n",
       "    </tr>\n",
       "    <tr>\n",
       "      <th>3</th>\n",
       "      <td>3</td>\n",
       "      <td>VINKELES</td>\n",
       "      <td>AMSTERDAM</td>\n",
       "      <td>FRENCH EUROPEAN INTERNATIONAL CONTEMPORARY VEG...</td>\n",
       "      <td>4.0</td>\n",
       "      <td>5.0</td>\n",
       "      <td>$$$$</td>\n",
       "      <td>564.0</td>\n",
       "      <td>TRUE FIVE STAR DINNER A SUPERB EVENING OF FINE...</td>\n",
       "      <td>/Restaurant_Review-g188590-d1239229-Reviews-Vi...</td>\n",
       "      <td>d1239229</td>\n",
       "      <td>106.0</td>\n",
       "      <td>[true, five, star, dinner, a, superb, evening,...</td>\n",
       "      <td>11</td>\n",
       "    </tr>\n",
       "    <tr>\n",
       "      <th>4</th>\n",
       "      <td>4</td>\n",
       "      <td>LIBRIJE'S ZUSJE AMSTERDAM</td>\n",
       "      <td>AMSTERDAM</td>\n",
       "      <td>DUTCH EUROPEAN INTERNATIONAL VEGETARIAN FRIEND...</td>\n",
       "      <td>5.0</td>\n",
       "      <td>4.5</td>\n",
       "      <td>$$$$</td>\n",
       "      <td>316.0</td>\n",
       "      <td>BEST MEAL.... EVER SUPER FOOD EXPERIENCE 01/06...</td>\n",
       "      <td>/Restaurant_Review-g188590-d6864170-Reviews-Li...</td>\n",
       "      <td>d6864170</td>\n",
       "      <td>79.0</td>\n",
       "      <td>[best, meal, ever, super, food, experience]</td>\n",
       "      <td>6</td>\n",
       "    </tr>\n",
       "  </tbody>\n",
       "</table>\n",
       "</div>"
      ],
      "text/plain": [
       "   Unnamed: 0                        Name       City  \\\n",
       "0           0  MARTINE OF MARTINE'S TABLE  AMSTERDAM   \n",
       "1           1         DE SILVEREN SPIEGEL  AMSTERDAM   \n",
       "2           2                     LA RIVE  AMSTERDAM   \n",
       "3           3                    VINKELES  AMSTERDAM   \n",
       "4           4   LIBRIJE'S ZUSJE AMSTERDAM  AMSTERDAM   \n",
       "\n",
       "                                       Cuisine Style Ranking  Rating  \\\n",
       "0                              FRENCH DUTCH EUROPEAN     1.0     5.0   \n",
       "1  DUTCH EUROPEAN VEGETARIAN FRIENDLY GLUTEN FREE...     2.0     4.5   \n",
       "2  MEDITERRANEAN FRENCH INTERNATIONAL EUROPEAN VE...     3.0     4.5   \n",
       "3  FRENCH EUROPEAN INTERNATIONAL CONTEMPORARY VEG...     4.0     5.0   \n",
       "4  DUTCH EUROPEAN INTERNATIONAL VEGETARIAN FRIEND...     5.0     4.5   \n",
       "\n",
       "  Price Range Number of Reviews  \\\n",
       "0    $$ - $$$             136.0   \n",
       "1        $$$$             812.0   \n",
       "2        $$$$             567.0   \n",
       "3        $$$$             564.0   \n",
       "4        $$$$             316.0   \n",
       "\n",
       "                                             Reviews  \\\n",
       "0  JUST LIKE HOME A WARM WELCOME TO WINTRY AMSTER...   \n",
       "1  GREAT FOOD AND STAFF JUST PERFECT 01/06/2018 0...   \n",
       "2  SATISFACTION DELICIOUS OLD SCHOOL RESTAURANT 0...   \n",
       "3  TRUE FIVE STAR DINNER A SUPERB EVENING OF FINE...   \n",
       "4  BEST MEAL.... EVER SUPER FOOD EXPERIENCE 01/06...   \n",
       "\n",
       "                                              URL_TA      ID_TA  Length  \\\n",
       "0  /Restaurant_Review-g188590-d11752080-Reviews-M...  d11752080    88.0   \n",
       "1  /Restaurant_Review-g188590-d693419-Reviews-De_...    d693419    72.0   \n",
       "2  /Restaurant_Review-g188590-d696959-Reviews-La_...    d696959    83.0   \n",
       "3  /Restaurant_Review-g188590-d1239229-Reviews-Vi...   d1239229   106.0   \n",
       "4  /Restaurant_Review-g188590-d6864170-Reviews-Li...   d6864170    79.0   \n",
       "\n",
       "                                              tokens  num_tokens  \n",
       "0  [just, like, home, a, warm, welcome, to, wintr...           9  \n",
       "1           [great, food, and, staff, just, perfect]           6  \n",
       "2  [satisfaction, delicious, old, school, restaur...           5  \n",
       "3  [true, five, star, dinner, a, superb, evening,...          11  \n",
       "4        [best, meal, ever, super, food, experience]           6  "
      ]
     },
     "execution_count": 35,
     "metadata": {},
     "output_type": "execute_result"
    }
   ],
   "source": [
    "df.head()"
   ]
  },
  {
   "cell_type": "markdown",
   "id": "bc5db645",
   "metadata": {},
   "source": [
    "## Word cloud visualization"
   ]
  },
  {
   "cell_type": "code",
   "execution_count": 36,
   "id": "f00312d5",
   "metadata": {},
   "outputs": [
    {
     "data": {
      "text/plain": [
       "(-0.5, 399.5, 199.5, -0.5)"
      ]
     },
     "execution_count": 36,
     "metadata": {},
     "output_type": "execute_result"
    },
    {
     "data": {
      "image/png": "[encoded data removed]",
      "text/plain": [
       "<Figure size 1400x700 with 1 Axes>"
      ]
     },
     "metadata": {},
     "output_type": "display_data"
    }
   ],
   "source": [
    "# Importing Worldcloud Package\n",
    "from wordcloud import WordCloud\n",
    "from matplotlib import pyplot as plt\n",
    "\n",
    "text = df.query(\"Rating==4.5 and City=='HELSINKI'\")['Reviews'].values[0] # For USA alone\n",
    "\n",
    "plt.figure(figsize=(14, 7)) \n",
    "wc = WordCloud(max_words=100, stopwords=stopwords)  # 100 words to display\n",
    "wc.generate(text)\n",
    "plt.imshow(wc, interpolation='bilinear')\n",
    "plt.axis(\"off\")"
   ]
  }
 ],
 "metadata": {
  "kernelspec": {
   "display_name": "Python 3 (ipykernel)",
   "language": "python",
   "name": "python3"
  },
  "language_info": {
   "codemirror_mode": {
    "name": "ipython",
    "version": 3
   },
   "file_extension": ".py",
   "mimetype": "text/x-python",
   "name": "python",
   "nbconvert_exporter": "python",
   "pygments_lexer": "ipython3",
   "version": "3.9.7"
  },
  "varInspector": {
   "cols": {
    "lenName": 16,
    "lenType": 16,
    "lenVar": 40
   },
   "kernels_config": {
    "python": {
     "delete_cmd_postfix": "",
     "delete_cmd_prefix": "del ",
     "library": "var_list.py",
     "varRefreshCmd": "print(var_dic_list())"
    },
    "r": {
     "delete_cmd_postfix": ") ",
     "delete_cmd_prefix": "rm(",
     "library": "var_list.r",
     "varRefreshCmd": "cat(var_dic_list()) "
    }
   },
   "types_to_exclude": [
    "module",
    "function",
    "builtin_function_or_method",
    "instance",
    "_Feature"
   ],
   "window_display": false
  }
 },
 "nbformat": 4,
 "nbformat_minor": 5
}
