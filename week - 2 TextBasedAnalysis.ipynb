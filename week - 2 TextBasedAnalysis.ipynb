{
 "cells": [
  {
   "cell_type": "code",
   "execution_count": 21,
   "id": "2320b995",
   "metadata": {},
   "outputs": [],
   "source": [
    "#importing libraries\n",
    "import pandas as pd\n",
    "import matplotlib.pyplot as plt\n",
    "import seaborn as sns\n",
    "import regex as re"
   ]
  },
  {
   "cell_type": "code",
   "execution_count": 2,
   "id": "046a195c",
   "metadata": {},
   "outputs": [
    {
     "data": {
      "text/html": [
       "<div>\n",
       "<style scoped>\n",
       "    .dataframe tbody tr th:only-of-type {\n",
       "        vertical-align: middle;\n",
       "    }\n",
       "\n",
       "    .dataframe tbody tr th {\n",
       "        vertical-align: top;\n",
       "    }\n",
       "\n",
       "    .dataframe thead th {\n",
       "        text-align: right;\n",
       "    }\n",
       "</style>\n",
       "<table border=\"1\" class=\"dataframe\">\n",
       "  <thead>\n",
       "    <tr style=\"text-align: right;\">\n",
       "      <th></th>\n",
       "      <th>session</th>\n",
       "      <th>year</th>\n",
       "      <th>country</th>\n",
       "      <th>country_name</th>\n",
       "      <th>speaker</th>\n",
       "      <th>position</th>\n",
       "      <th>text</th>\n",
       "    </tr>\n",
       "  </thead>\n",
       "  <tbody>\n",
       "    <tr>\n",
       "      <th>0</th>\n",
       "      <td>25</td>\n",
       "      <td>1970</td>\n",
       "      <td>ALB</td>\n",
       "      <td>Albania</td>\n",
       "      <td>Mr. NAS</td>\n",
       "      <td>NaN</td>\n",
       "      <td>33: May I first convey to our President the co...</td>\n",
       "    </tr>\n",
       "    <tr>\n",
       "      <th>1</th>\n",
       "      <td>25</td>\n",
       "      <td>1970</td>\n",
       "      <td>ARG</td>\n",
       "      <td>Argentina</td>\n",
       "      <td>Mr. DE PABLO PARDO</td>\n",
       "      <td>NaN</td>\n",
       "      <td>177.\\t : It is a fortunate coincidence that pr...</td>\n",
       "    </tr>\n",
       "    <tr>\n",
       "      <th>2</th>\n",
       "      <td>25</td>\n",
       "      <td>1970</td>\n",
       "      <td>AUS</td>\n",
       "      <td>Australia</td>\n",
       "      <td>Mr. McMAHON</td>\n",
       "      <td>NaN</td>\n",
       "      <td>100.\\t  It is a pleasure for me to extend to y...</td>\n",
       "    </tr>\n",
       "    <tr>\n",
       "      <th>3</th>\n",
       "      <td>25</td>\n",
       "      <td>1970</td>\n",
       "      <td>AUT</td>\n",
       "      <td>Austria</td>\n",
       "      <td>Mr. KIRCHSCHLAEGER</td>\n",
       "      <td>NaN</td>\n",
       "      <td>155.\\t  May I begin by expressing to Ambassado...</td>\n",
       "    </tr>\n",
       "    <tr>\n",
       "      <th>4</th>\n",
       "      <td>25</td>\n",
       "      <td>1970</td>\n",
       "      <td>BEL</td>\n",
       "      <td>Belgium</td>\n",
       "      <td>Mr. HARMEL</td>\n",
       "      <td>NaN</td>\n",
       "      <td>176. No doubt each of us, before coming up to ...</td>\n",
       "    </tr>\n",
       "  </tbody>\n",
       "</table>\n",
       "</div>"
      ],
      "text/plain": [
       "   session  year country country_name             speaker position  \\\n",
       "0       25  1970     ALB      Albania             Mr. NAS      NaN   \n",
       "1       25  1970     ARG    Argentina  Mr. DE PABLO PARDO      NaN   \n",
       "2       25  1970     AUS    Australia         Mr. McMAHON      NaN   \n",
       "3       25  1970     AUT      Austria  Mr. KIRCHSCHLAEGER      NaN   \n",
       "4       25  1970     BEL      Belgium          Mr. HARMEL      NaN   \n",
       "\n",
       "                                                text  \n",
       "0  33: May I first convey to our President the co...  \n",
       "1  177.\\t : It is a fortunate coincidence that pr...  \n",
       "2  100.\\t  It is a pleasure for me to extend to y...  \n",
       "3  155.\\t  May I begin by expressing to Ambassado...  \n",
       "4  176. No doubt each of us, before coming up to ...  "
      ]
     },
     "execution_count": 2,
     "metadata": {},
     "output_type": "execute_result"
    }
   ],
   "source": [
    "#Reading a csv file\n",
    "file = \"C:/Users/LENOVO/OneDrive/Desktop/TextBasedAnalysis/un-general-debates-blueprint.csv\"\n",
    "df = pd.read_csv(file)\n",
    "df.head()"
   ]
  },
  {
   "cell_type": "code",
   "execution_count": 3,
   "id": "e007bfbd",
   "metadata": {},
   "outputs": [
    {
     "data": {
      "text/plain": [
       "Index(['session', 'year', 'country', 'country_name', 'speaker', 'position',\n",
       "       'text'],\n",
       "      dtype='object')"
      ]
     },
     "execution_count": 3,
     "metadata": {},
     "output_type": "execute_result"
    }
   ],
   "source": [
    "#Returning all the features\n",
    "df.columns"
   ]
  },
  {
   "cell_type": "code",
   "execution_count": 4,
   "id": "3df65c0f",
   "metadata": {},
   "outputs": [
    {
     "data": {
      "text/plain": [
       "session          int64\n",
       "year             int64\n",
       "country         object\n",
       "country_name    object\n",
       "speaker         object\n",
       "position        object\n",
       "text            object\n",
       "dtype: object"
      ]
     },
     "execution_count": 4,
     "metadata": {},
     "output_type": "execute_result"
    }
   ],
   "source": [
    "#Returning data types of Features\n",
    "df.dtypes"
   ]
  },
  {
   "cell_type": "code",
   "execution_count": 5,
   "id": "c26d26f9",
   "metadata": {},
   "outputs": [
    {
     "name": "stdout",
     "output_type": "stream",
     "text": [
      "<class 'pandas.core.frame.DataFrame'>\n",
      "RangeIndex: 7507 entries, 0 to 7506\n",
      "Data columns (total 7 columns):\n",
      " #   Column        Non-Null Count  Dtype \n",
      "---  ------        --------------  ----- \n",
      " 0   session       7507 non-null   int64 \n",
      " 1   year          7507 non-null   int64 \n",
      " 2   country       7507 non-null   object\n",
      " 3   country_name  7507 non-null   object\n",
      " 4   speaker       7480 non-null   object\n",
      " 5   position      4502 non-null   object\n",
      " 6   text          7507 non-null   object\n",
      "dtypes: int64(2), object(5)\n",
      "memory usage: 410.7+ KB\n"
     ]
    }
   ],
   "source": [
    "#Returns information about each feature\n",
    "df.info()"
   ]
  },
  {
   "cell_type": "code",
   "execution_count": 6,
   "id": "0c3f50dc",
   "metadata": {},
   "outputs": [
    {
     "data": {
      "text/html": [
       "<div>\n",
       "<style scoped>\n",
       "    .dataframe tbody tr th:only-of-type {\n",
       "        vertical-align: middle;\n",
       "    }\n",
       "\n",
       "    .dataframe tbody tr th {\n",
       "        vertical-align: top;\n",
       "    }\n",
       "\n",
       "    .dataframe thead th {\n",
       "        text-align: right;\n",
       "    }\n",
       "</style>\n",
       "<table border=\"1\" class=\"dataframe\">\n",
       "  <thead>\n",
       "    <tr style=\"text-align: right;\">\n",
       "      <th></th>\n",
       "      <th>session</th>\n",
       "      <th>year</th>\n",
       "    </tr>\n",
       "  </thead>\n",
       "  <tbody>\n",
       "    <tr>\n",
       "      <th>count</th>\n",
       "      <td>7507.000000</td>\n",
       "      <td>7507.000000</td>\n",
       "    </tr>\n",
       "    <tr>\n",
       "      <th>mean</th>\n",
       "      <td>49.610763</td>\n",
       "      <td>1994.610763</td>\n",
       "    </tr>\n",
       "    <tr>\n",
       "      <th>std</th>\n",
       "      <td>12.892155</td>\n",
       "      <td>12.892155</td>\n",
       "    </tr>\n",
       "    <tr>\n",
       "      <th>min</th>\n",
       "      <td>25.000000</td>\n",
       "      <td>1970.000000</td>\n",
       "    </tr>\n",
       "    <tr>\n",
       "      <th>25%</th>\n",
       "      <td>39.000000</td>\n",
       "      <td>1984.000000</td>\n",
       "    </tr>\n",
       "    <tr>\n",
       "      <th>50%</th>\n",
       "      <td>51.000000</td>\n",
       "      <td>1996.000000</td>\n",
       "    </tr>\n",
       "    <tr>\n",
       "      <th>75%</th>\n",
       "      <td>61.000000</td>\n",
       "      <td>2006.000000</td>\n",
       "    </tr>\n",
       "    <tr>\n",
       "      <th>max</th>\n",
       "      <td>70.000000</td>\n",
       "      <td>2015.000000</td>\n",
       "    </tr>\n",
       "  </tbody>\n",
       "</table>\n",
       "</div>"
      ],
      "text/plain": [
       "           session         year\n",
       "count  7507.000000  7507.000000\n",
       "mean     49.610763  1994.610763\n",
       "std      12.892155    12.892155\n",
       "min      25.000000  1970.000000\n",
       "25%      39.000000  1984.000000\n",
       "50%      51.000000  1996.000000\n",
       "75%      61.000000  2006.000000\n",
       "max      70.000000  2015.000000"
      ]
     },
     "execution_count": 6,
     "metadata": {},
     "output_type": "execute_result"
    }
   ],
   "source": [
    "#Returning statistical info about numerical Features\n",
    "df.describe()"
   ]
  },
  {
   "cell_type": "code",
   "execution_count": 7,
   "id": "06de119a",
   "metadata": {},
   "outputs": [
    {
     "data": {
      "text/html": [
       "<div>\n",
       "<style scoped>\n",
       "    .dataframe tbody tr th:only-of-type {\n",
       "        vertical-align: middle;\n",
       "    }\n",
       "\n",
       "    .dataframe tbody tr th {\n",
       "        vertical-align: top;\n",
       "    }\n",
       "\n",
       "    .dataframe thead th {\n",
       "        text-align: right;\n",
       "    }\n",
       "</style>\n",
       "<table border=\"1\" class=\"dataframe\">\n",
       "  <thead>\n",
       "    <tr style=\"text-align: right;\">\n",
       "      <th></th>\n",
       "      <th>session</th>\n",
       "      <th>year</th>\n",
       "      <th>length</th>\n",
       "    </tr>\n",
       "  </thead>\n",
       "  <tbody>\n",
       "    <tr>\n",
       "      <th>count</th>\n",
       "      <td>7507.000000</td>\n",
       "      <td>7507.000000</td>\n",
       "      <td>7507.000000</td>\n",
       "    </tr>\n",
       "    <tr>\n",
       "      <th>mean</th>\n",
       "      <td>49.610763</td>\n",
       "      <td>1994.610763</td>\n",
       "      <td>17967.281604</td>\n",
       "    </tr>\n",
       "    <tr>\n",
       "      <th>std</th>\n",
       "      <td>12.892155</td>\n",
       "      <td>12.892155</td>\n",
       "      <td>7860.038463</td>\n",
       "    </tr>\n",
       "    <tr>\n",
       "      <th>min</th>\n",
       "      <td>25.000000</td>\n",
       "      <td>1970.000000</td>\n",
       "      <td>2362.000000</td>\n",
       "    </tr>\n",
       "    <tr>\n",
       "      <th>25%</th>\n",
       "      <td>39.000000</td>\n",
       "      <td>1984.000000</td>\n",
       "      <td>12077.000000</td>\n",
       "    </tr>\n",
       "    <tr>\n",
       "      <th>50%</th>\n",
       "      <td>51.000000</td>\n",
       "      <td>1996.000000</td>\n",
       "      <td>16424.000000</td>\n",
       "    </tr>\n",
       "    <tr>\n",
       "      <th>75%</th>\n",
       "      <td>61.000000</td>\n",
       "      <td>2006.000000</td>\n",
       "      <td>22479.500000</td>\n",
       "    </tr>\n",
       "    <tr>\n",
       "      <th>max</th>\n",
       "      <td>70.000000</td>\n",
       "      <td>2015.000000</td>\n",
       "      <td>72041.000000</td>\n",
       "    </tr>\n",
       "  </tbody>\n",
       "</table>\n",
       "</div>"
      ],
      "text/plain": [
       "           session         year        length\n",
       "count  7507.000000  7507.000000   7507.000000\n",
       "mean     49.610763  1994.610763  17967.281604\n",
       "std      12.892155    12.892155   7860.038463\n",
       "min      25.000000  1970.000000   2362.000000\n",
       "25%      39.000000  1984.000000  12077.000000\n",
       "50%      51.000000  1996.000000  16424.000000\n",
       "75%      61.000000  2006.000000  22479.500000\n",
       "max      70.000000  2015.000000  72041.000000"
      ]
     },
     "execution_count": 7,
     "metadata": {},
     "output_type": "execute_result"
    }
   ],
   "source": [
    "#creating a new column named length\n",
    "df['length']=df['text'].str.len()\n",
    "df.describe()"
   ]
  },
  {
   "cell_type": "code",
   "execution_count": 8,
   "id": "c0f57009",
   "metadata": {},
   "outputs": [
    {
     "data": {
      "text/html": [
       "<div>\n",
       "<style scoped>\n",
       "    .dataframe tbody tr th:only-of-type {\n",
       "        vertical-align: middle;\n",
       "    }\n",
       "\n",
       "    .dataframe tbody tr th {\n",
       "        vertical-align: top;\n",
       "    }\n",
       "\n",
       "    .dataframe thead th {\n",
       "        text-align: right;\n",
       "    }\n",
       "</style>\n",
       "<table border=\"1\" class=\"dataframe\">\n",
       "  <thead>\n",
       "    <tr style=\"text-align: right;\">\n",
       "      <th></th>\n",
       "      <th>country</th>\n",
       "      <th>country_name</th>\n",
       "      <th>speaker</th>\n",
       "      <th>position</th>\n",
       "      <th>text</th>\n",
       "    </tr>\n",
       "  </thead>\n",
       "  <tbody>\n",
       "    <tr>\n",
       "      <th>count</th>\n",
       "      <td>7507</td>\n",
       "      <td>7507</td>\n",
       "      <td>7480</td>\n",
       "      <td>4502</td>\n",
       "      <td>7507</td>\n",
       "    </tr>\n",
       "    <tr>\n",
       "      <th>unique</th>\n",
       "      <td>199</td>\n",
       "      <td>199</td>\n",
       "      <td>5428</td>\n",
       "      <td>113</td>\n",
       "      <td>7507</td>\n",
       "    </tr>\n",
       "    <tr>\n",
       "      <th>top</th>\n",
       "      <td>ALB</td>\n",
       "      <td>Albania</td>\n",
       "      <td>Seyoum Mesfin</td>\n",
       "      <td>Minister for Foreign Affairs</td>\n",
       "      <td>33: May I first convey to our President the co...</td>\n",
       "    </tr>\n",
       "    <tr>\n",
       "      <th>freq</th>\n",
       "      <td>46</td>\n",
       "      <td>46</td>\n",
       "      <td>12</td>\n",
       "      <td>1813</td>\n",
       "      <td>1</td>\n",
       "    </tr>\n",
       "  </tbody>\n",
       "</table>\n",
       "</div>"
      ],
      "text/plain": [
       "       country country_name        speaker                      position  \\\n",
       "count     7507         7507           7480                          4502   \n",
       "unique     199          199           5428                           113   \n",
       "top        ALB      Albania  Seyoum Mesfin  Minister for Foreign Affairs   \n",
       "freq        46           46             12                          1813   \n",
       "\n",
       "                                                     text  \n",
       "count                                                7507  \n",
       "unique                                               7507  \n",
       "top     33: May I first convey to our President the co...  \n",
       "freq                                                    1  "
      ]
     },
     "execution_count": 8,
     "metadata": {},
     "output_type": "execute_result"
    }
   ],
   "source": [
    "#Returning the following information by 'describe' function\n",
    "df.describe(include='O')"
   ]
  },
  {
   "cell_type": "code",
   "execution_count": 9,
   "id": "00d41866",
   "metadata": {},
   "outputs": [
    {
     "data": {
      "text/plain": [
       "session         0\n",
       "year            0\n",
       "country         0\n",
       "country_name    0\n",
       "speaker         0\n",
       "position        0\n",
       "text            0\n",
       "length          0\n",
       "dtype: int64"
      ]
     },
     "execution_count": 9,
     "metadata": {},
     "output_type": "execute_result"
    }
   ],
   "source": [
    "#Replacing missing data with unknown\n",
    "df['speaker'].fillna('unknown',inplace=True)\n",
    "df['position'].fillna('unknown',inplace=True)\n",
    "df.isna().sum()"
   ]
  },
  {
   "cell_type": "code",
   "execution_count": 10,
   "id": "b6da5b23",
   "metadata": {},
   "outputs": [],
   "source": [
    "#converting feature text to uppercase\n",
    "df['speaker'] = df['speaker'].str.upper()\n",
    "df['position'] = df['position'].str.upper()\n",
    "df['text'] = df['text'].str.upper()"
   ]
  },
  {
   "cell_type": "code",
   "execution_count": 11,
   "id": "9854502e",
   "metadata": {},
   "outputs": [
    {
     "data": {
      "text/html": [
       "<div>\n",
       "<style scoped>\n",
       "    .dataframe tbody tr th:only-of-type {\n",
       "        vertical-align: middle;\n",
       "    }\n",
       "\n",
       "    .dataframe tbody tr th {\n",
       "        vertical-align: top;\n",
       "    }\n",
       "\n",
       "    .dataframe thead th {\n",
       "        text-align: right;\n",
       "    }\n",
       "</style>\n",
       "<table border=\"1\" class=\"dataframe\">\n",
       "  <thead>\n",
       "    <tr style=\"text-align: right;\">\n",
       "      <th></th>\n",
       "      <th>session</th>\n",
       "      <th>year</th>\n",
       "      <th>country</th>\n",
       "      <th>country_name</th>\n",
       "      <th>speaker</th>\n",
       "      <th>position</th>\n",
       "      <th>text</th>\n",
       "      <th>length</th>\n",
       "    </tr>\n",
       "  </thead>\n",
       "  <tbody>\n",
       "    <tr>\n",
       "      <th>2720</th>\n",
       "      <td>44</td>\n",
       "      <td>1989</td>\n",
       "      <td>USA</td>\n",
       "      <td>United States</td>\n",
       "      <td>BUSH</td>\n",
       "      <td>PRESIDENT</td>\n",
       "      <td>﻿I AM HONOURED TO ADDRESS THE GENERAL ASSEMBLY...</td>\n",
       "      <td>19779</td>\n",
       "    </tr>\n",
       "    <tr>\n",
       "      <th>2876</th>\n",
       "      <td>45</td>\n",
       "      <td>1990</td>\n",
       "      <td>USA</td>\n",
       "      <td>United States</td>\n",
       "      <td>GEORGE BUSH</td>\n",
       "      <td>UNKNOWN</td>\n",
       "      <td>﻿\\nIT IS REALLY A GREAT PRIVILEGE TO GREET YOU...</td>\n",
       "      <td>15843</td>\n",
       "    </tr>\n",
       "    <tr>\n",
       "      <th>3038</th>\n",
       "      <td>46</td>\n",
       "      <td>1991</td>\n",
       "      <td>USA</td>\n",
       "      <td>United States</td>\n",
       "      <td>GEORGE BUSH</td>\n",
       "      <td>PRESIDENT</td>\n",
       "      <td>﻿I AM HONOURED TO SPEAK WITH YOU AS YOU OPEN T...</td>\n",
       "      <td>15555</td>\n",
       "    </tr>\n",
       "    <tr>\n",
       "      <th>3207</th>\n",
       "      <td>47</td>\n",
       "      <td>1992</td>\n",
       "      <td>USA</td>\n",
       "      <td>United States</td>\n",
       "      <td>MR. GEORGE BUSH</td>\n",
       "      <td>PRESIDENT</td>\n",
       "      <td>FORTY-SEVEN YEARS AGO I WAS A YOUNG MAN OF 21,...</td>\n",
       "      <td>21105</td>\n",
       "    </tr>\n",
       "    <tr>\n",
       "      <th>4814</th>\n",
       "      <td>56</td>\n",
       "      <td>2001</td>\n",
       "      <td>USA</td>\n",
       "      <td>United States</td>\n",
       "      <td>GEORGE W. BUSH</td>\n",
       "      <td>PRESIDENT</td>\n",
       "      <td>﻿WE MEET IN A HALL DEVOTED TO\\nPEACE; IN A CIT...</td>\n",
       "      <td>14724</td>\n",
       "    </tr>\n",
       "    <tr>\n",
       "      <th>5002</th>\n",
       "      <td>57</td>\n",
       "      <td>2002</td>\n",
       "      <td>USA</td>\n",
       "      <td>United States</td>\n",
       "      <td>MR. GEORGE W. BUSH</td>\n",
       "      <td>PRESIDENT</td>\n",
       "      <td>﻿WE MEET ONE YEAR AND ONE DAY\\nAFTER A TERRORI...</td>\n",
       "      <td>16684</td>\n",
       "    </tr>\n",
       "    <tr>\n",
       "      <th>5191</th>\n",
       "      <td>58</td>\n",
       "      <td>2003</td>\n",
       "      <td>USA</td>\n",
       "      <td>United States</td>\n",
       "      <td>GEORGE W. BUSH</td>\n",
       "      <td>PRESIDENT</td>\n",
       "      <td>﻿TWENTY-FOUR MONTHS AGO, AND\\nYESTERDAY IN THE...</td>\n",
       "      <td>16962</td>\n",
       "    </tr>\n",
       "    <tr>\n",
       "      <th>5382</th>\n",
       "      <td>59</td>\n",
       "      <td>2004</td>\n",
       "      <td>USA</td>\n",
       "      <td>United States</td>\n",
       "      <td>MR. GEORGE W BUSH</td>\n",
       "      <td>PRESIDENT</td>\n",
       "      <td>THANK YOU FOR THE HONOUR OF\\nADDRESSING THE GE...</td>\n",
       "      <td>18628</td>\n",
       "    </tr>\n",
       "    <tr>\n",
       "      <th>5760</th>\n",
       "      <td>61</td>\n",
       "      <td>2006</td>\n",
       "      <td>USA</td>\n",
       "      <td>United States</td>\n",
       "      <td>MR. GEORGE W. BUSH</td>\n",
       "      <td>PRESIDENT</td>\n",
       "      <td>I AM GRATEFUL FOR THE PRIVILEGE OF \\nSPEAKING ...</td>\n",
       "      <td>16675</td>\n",
       "    </tr>\n",
       "    <tr>\n",
       "      <th>5951</th>\n",
       "      <td>62</td>\n",
       "      <td>2007</td>\n",
       "      <td>USA</td>\n",
       "      <td>United States</td>\n",
       "      <td>GEORGE W. BUSH</td>\n",
       "      <td>PRESIDENT</td>\n",
       "      <td>THANK YOU FOR THE OPPORTUNITY \\nTO ADDRESS THE...</td>\n",
       "      <td>15483</td>\n",
       "    </tr>\n",
       "    <tr>\n",
       "      <th>6143</th>\n",
       "      <td>63</td>\n",
       "      <td>2008</td>\n",
       "      <td>USA</td>\n",
       "      <td>United States</td>\n",
       "      <td>GEORGE W. BUSH</td>\n",
       "      <td>PRESIDENT</td>\n",
       "      <td>I AM PLEASED TO BE HERE TO \\nADDRESS THE GENER...</td>\n",
       "      <td>18384</td>\n",
       "    </tr>\n",
       "  </tbody>\n",
       "</table>\n",
       "</div>"
      ],
      "text/plain": [
       "      session  year country   country_name             speaker   position  \\\n",
       "2720       44  1989     USA  United States                BUSH  PRESIDENT   \n",
       "2876       45  1990     USA  United States         GEORGE BUSH    UNKNOWN   \n",
       "3038       46  1991     USA  United States         GEORGE BUSH  PRESIDENT   \n",
       "3207       47  1992     USA  United States     MR. GEORGE BUSH  PRESIDENT   \n",
       "4814       56  2001     USA  United States      GEORGE W. BUSH  PRESIDENT   \n",
       "5002       57  2002     USA  United States  MR. GEORGE W. BUSH  PRESIDENT   \n",
       "5191       58  2003     USA  United States      GEORGE W. BUSH  PRESIDENT   \n",
       "5382       59  2004     USA  United States   MR. GEORGE W BUSH  PRESIDENT   \n",
       "5760       61  2006     USA  United States  MR. GEORGE W. BUSH  PRESIDENT   \n",
       "5951       62  2007     USA  United States      GEORGE W. BUSH  PRESIDENT   \n",
       "6143       63  2008     USA  United States      GEORGE W. BUSH  PRESIDENT   \n",
       "\n",
       "                                                   text  length  \n",
       "2720  ﻿I AM HONOURED TO ADDRESS THE GENERAL ASSEMBLY...   19779  \n",
       "2876  ﻿\\nIT IS REALLY A GREAT PRIVILEGE TO GREET YOU...   15843  \n",
       "3038  ﻿I AM HONOURED TO SPEAK WITH YOU AS YOU OPEN T...   15555  \n",
       "3207  FORTY-SEVEN YEARS AGO I WAS A YOUNG MAN OF 21,...   21105  \n",
       "4814  ﻿WE MEET IN A HALL DEVOTED TO\\nPEACE; IN A CIT...   14724  \n",
       "5002  ﻿WE MEET ONE YEAR AND ONE DAY\\nAFTER A TERRORI...   16684  \n",
       "5191  ﻿TWENTY-FOUR MONTHS AGO, AND\\nYESTERDAY IN THE...   16962  \n",
       "5382  THANK YOU FOR THE HONOUR OF\\nADDRESSING THE GE...   18628  \n",
       "5760  I AM GRATEFUL FOR THE PRIVILEGE OF \\nSPEAKING ...   16675  \n",
       "5951  THANK YOU FOR THE OPPORTUNITY \\nTO ADDRESS THE...   15483  \n",
       "6143  I AM PLEASED TO BE HERE TO \\nADDRESS THE GENER...   18384  "
      ]
     },
     "execution_count": 11,
     "metadata": {},
     "output_type": "execute_result"
    }
   ],
   "source": [
    "#returning all instances where speaker is 'BUSH'\n",
    "df[df['speaker'].str.contains(\"BUSH\")]"
   ]
  },
  {
   "cell_type": "code",
   "execution_count": 19,
   "id": "e35dfcd6",
   "metadata": {},
   "outputs": [
    {
     "data": {
      "text/plain": [
       "<AxesSubplot:>"
      ]
     },
     "execution_count": 19,
     "metadata": {},
     "output_type": "execute_result"
    },
    {
     "data": {
      "image/png": "[encoded data removed]",
      "text/plain": [
       "<Figure size 432x288 with 1 Axes>"
      ]
     },
     "metadata": {
      "needs_background": "light"
     },
     "output_type": "display_data"
    }
   ],
   "source": [
    "#Box plot of 'length' feature\n",
    "df['length'].plot(kind='box', vert=False)"
   ]
  },
  {
   "cell_type": "code",
   "execution_count": 18,
   "id": "ee90bc8b",
   "metadata": {},
   "outputs": [
    {
     "data": {
      "text/plain": [
       "<AxesSubplot:>"
      ]
     },
     "execution_count": 18,
     "metadata": {},
     "output_type": "execute_result"
    },
    {
     "data": {
      "image/png": "[encoded data removed]",
      "text/plain": [
       "<Figure size 432x288 with 1 Axes>"
      ]
     },
     "metadata": {
      "needs_background": "light"
     },
     "output_type": "display_data"
    }
   ],
   "source": [
    "#df['length'].plot()"
   ]
  },
  {
   "cell_type": "code",
   "execution_count": 13,
   "id": "4bee756e",
   "metadata": {},
   "outputs": [
    {
     "data": {
      "text/plain": [
       "<AxesSubplot:ylabel='Frequency'>"
      ]
     },
     "execution_count": 13,
     "metadata": {},
     "output_type": "execute_result"
    },
    {
     "data": {
      "image/png": "[encoded data removed]",
      "text/plain": [
       "<Figure size 432x288 with 1 Axes>"
      ]
     },
     "metadata": {
      "needs_background": "light"
     },
     "output_type": "display_data"
    }
   ],
   "source": [
    "#Histoogram of 'Length' fetaure\n",
    "df['length'].plot(kind='hist',bins=30)"
   ]
  },
  {
   "cell_type": "code",
   "execution_count": 20,
   "id": "948a3532",
   "metadata": {},
   "outputs": [
    {
     "data": {
      "image/png": "[encoded data removed]",
      "text/plain": [
       "<Figure size 720x576 with 1 Axes>"
      ]
     },
     "metadata": {
      "needs_background": "light"
     },
     "output_type": "display_data"
    }
   ],
   "source": [
    "#oxplot for the 'length' variable based on the specified countries\n",
    "where = df['country'].isin(['USA', 'FRA', 'GBR', 'CHN', 'RUS'])\n",
    "g = sns.catplot(data=df[where], x=\"country\", y=\"length\", kind='box')\n",
    "g.fig.set_size_inches(10, 8) "
   ]
  },
  {
   "cell_type": "code",
   "execution_count": 22,
   "id": "0d20c7de",
   "metadata": {},
   "outputs": [],
   "source": [
    "#Tokenize a given text based on a regular expression pattern\n",
    "def tokenize(text):\n",
    "    return re.findall(r'[\\w-]*[a-z|A-Z][\\w-]*', text)"
   ]
  },
  {
   "cell_type": "code",
   "execution_count": 23,
   "id": "44969709",
   "metadata": {},
   "outputs": [
    {
     "name": "stdout",
     "output_type": "stream",
     "text": [
      "['Let', 's', 'defeat', 'SARS-CoV-2', 'together', 'in', 'www', 'cdc', 'gov']\n"
     ]
    }
   ],
   "source": [
    "#testing the 'Tokenise' with a testtext\n",
    "testtext = \"Let's create a git branch using the commands from github.com\"\n",
    "testtokens = tokenize(testtext)\n",
    "print(testtokens)"
   ]
  },
  {
   "cell_type": "code",
   "execution_count": null,
   "id": "4cd0ebe8",
   "metadata": {},
   "outputs": [],
   "source": []
  }
 ],
 "metadata": {
  "kernelspec": {
   "display_name": "Python 3 (ipykernel)",
   "language": "python",
   "name": "python3"
  },
  "language_info": {
   "codemirror_mode": {
    "name": "ipython",
    "version": 3
   },
   "file_extension": ".py",
   "mimetype": "text/x-python",
   "name": "python",
   "nbconvert_exporter": "python",
   "pygments_lexer": "ipython3",
   "version": "3.9.7"
  },
  "varInspector": {
   "cols": {
    "lenName": 16,
    "lenType": 16,
    "lenVar": 40
   },
   "kernels_config": {
    "python": {
     "delete_cmd_postfix": "",
     "delete_cmd_prefix": "del ",
     "library": "var_list.py",
     "varRefreshCmd": "print(var_dic_list())"
    },
    "r": {
     "delete_cmd_postfix": ") ",
     "delete_cmd_prefix": "rm(",
     "library": "var_list.r",
     "varRefreshCmd": "cat(var_dic_list()) "
    }
   },
   "types_to_exclude": [
    "module",
    "function",
    "builtin_function_or_method",
    "instance",
    "_Feature"
   ],
   "window_display": false
  }
 },
 "nbformat": 4,
 "nbformat_minor": 5
}
