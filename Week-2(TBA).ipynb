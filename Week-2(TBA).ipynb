{
 "cells": [
  {
   "cell_type": "markdown",
   "id": "89df83f0",
   "metadata": {},
   "source": [
    "# BASIC STRING OPERATIONS AND METHODS"
   ]
  },
  {
   "cell_type": "markdown",
   "id": "ef80afb9",
   "metadata": {},
   "source": [
    "### Accessing a single element"
   ]
  },
  {
   "cell_type": "code",
   "execution_count": 1,
   "id": "0a259f10",
   "metadata": {},
   "outputs": [
    {
     "name": "stdout",
     "output_type": "stream",
     "text": [
      "w\n"
     ]
    }
   ],
   "source": [
    "# Accessing the Individual Characters in a String \n",
    "str_1 = \"Hello, world!\"\n",
    "print(str_1[7])"
   ]
  },
  {
   "cell_type": "markdown",
   "id": "7d9ed0f5",
   "metadata": {},
   "source": [
    "### Accesing a substring"
   ]
  },
  {
   "cell_type": "code",
   "execution_count": 2,
   "id": "401f6855",
   "metadata": {},
   "outputs": [
    {
     "name": "stdout",
     "output_type": "stream",
     "text": [
      "llo\n"
     ]
    }
   ],
   "source": [
    "# Printing a substring from a string using indexes\n",
    "a = \"Hello, world!\"\n",
    "print(a[2:5])"
   ]
  },
  {
   "cell_type": "markdown",
   "id": "f27ff850",
   "metadata": {},
   "source": [
    "## STRING MODIFICATION METHODS"
   ]
  },
  {
   "cell_type": "markdown",
   "id": "10de7de0",
   "metadata": {},
   "source": [
    "### Returning Length of a string"
   ]
  },
  {
   "cell_type": "code",
   "execution_count": 3,
   "id": "aa4579c9",
   "metadata": {},
   "outputs": [
    {
     "name": "stdout",
     "output_type": "stream",
     "text": [
      "13\n"
     ]
    }
   ],
   "source": [
    "# Prints length of the string\n",
    "print(len(a))"
   ]
  },
  {
   "cell_type": "markdown",
   "id": "02c37661",
   "metadata": {},
   "source": [
    "### Changing the upper & lower cases of a string"
   ]
  },
  {
   "cell_type": "code",
   "execution_count": 4,
   "id": "7a90d67c",
   "metadata": {},
   "outputs": [
    {
     "name": "stdout",
     "output_type": "stream",
     "text": [
      "HELLO, WORLD!\n",
      "hello, world!\n"
     ]
    }
   ],
   "source": [
    "# Converts the String to Uppercase\n",
    "print(a.upper())\n",
    "# Converts the String to Lowercase\n",
    "print(a.lower())"
   ]
  },
  {
   "cell_type": "markdown",
   "id": "92eeadcd",
   "metadata": {},
   "source": [
    "### Replacing a element in a string"
   ]
  },
  {
   "cell_type": "code",
   "execution_count": 5,
   "id": "9d875b84",
   "metadata": {},
   "outputs": [
    {
     "name": "stdout",
     "output_type": "stream",
     "text": [
      "Jello, world!\n"
     ]
    }
   ],
   "source": [
    "# Replaces 'J' Whereever the alphabet 'H' Appears\n",
    "print(a.replace(\"H\",\"J\"))"
   ]
  },
  {
   "cell_type": "markdown",
   "id": "44347be4",
   "metadata": {},
   "source": [
    "### Concatenation of a string"
   ]
  },
  {
   "cell_type": "code",
   "execution_count": 6,
   "id": "01916458",
   "metadata": {},
   "outputs": [
    {
     "name": "stdout",
     "output_type": "stream",
     "text": [
      "Hello, World!\n"
     ]
    }
   ],
   "source": [
    "# Concatenation of a String  \n",
    "b = \"Hello\"\n",
    "c = \"World\"\n",
    "print(b+\",\"+\" \"+c+\"!\")"
   ]
  },
  {
   "cell_type": "markdown",
   "id": "b360a440",
   "metadata": {},
   "source": [
    "### Splitting of a string"
   ]
  },
  {
   "cell_type": "code",
   "execution_count": 7,
   "id": "ec2d01cd",
   "metadata": {},
   "outputs": [
    {
     "name": "stdout",
     "output_type": "stream",
     "text": [
      "['one', 'two', 'three', 'four']\n"
     ]
    }
   ],
   "source": [
    "# Splitting & printing the string with ' ' attribute\n",
    "my_string = 'one two three four'\n",
    "print(my_string.split())"
   ]
  },
  {
   "cell_type": "markdown",
   "id": "b21f6457",
   "metadata": {},
   "source": [
    "### String splitting based on special charcaters"
   ]
  },
  {
   "cell_type": "code",
   "execution_count": 8,
   "id": "142612bc",
   "metadata": {},
   "outputs": [
    {
     "name": "stdout",
     "output_type": "stream",
     "text": [
      "['1', '2', '3', '4', '5']\n",
      "['1', '2', '3', '4', '5']\n"
     ]
    }
   ],
   "source": [
    "# Splitting & printing the string with '/' attribute\n",
    "my_string1 = '1/2/3/4/5'\n",
    "print(my_string1.split('/'))\n",
    "# Splitting & printing the string with '.' attribute\n",
    "my_string2 = '1.2.3.4.5'\n",
    "print(my_string2.split('.'))"
   ]
  },
  {
   "cell_type": "markdown",
   "id": "8d2e7540",
   "metadata": {},
   "source": [
    "### String can also be split based on individual char"
   ]
  },
  {
   "cell_type": "code",
   "execution_count": 9,
   "id": "73f90c09",
   "metadata": {},
   "outputs": [
    {
     "name": "stdout",
     "output_type": "stream",
     "text": [
      "['p', 'ach raspb', 'rry strawb', 'rry vanilla ']\n",
      "['pe', 'ch r', 'spberry str', 'wberry v', 'nill', ' ']\n",
      "['peach raspb', 'y strawb', 'y vanilla ']\n"
     ]
    }
   ],
   "source": [
    "my_string3 = 'peach raspberry strawberry vanilla '\n",
    "# Splitting & printing the string with 'e' \n",
    "print(my_string3.split('e'))\n",
    "# Splitting & printing the string with 'a' \n",
    "print(my_string3.split('a'))\n",
    "# Splitting & printing the string with 'err' \n",
    "print(my_string3.split('err'))"
   ]
  },
  {
   "cell_type": "markdown",
   "id": "09a69300",
   "metadata": {},
   "source": [
    "### String splitting using delimeter"
   ]
  },
  {
   "cell_type": "code",
   "execution_count": 10,
   "id": "b4ff871e",
   "metadata": {},
   "outputs": [
    {
     "name": "stdout",
     "output_type": "stream",
     "text": [
      "['17', '92', '81', '12', '46', '5']\n"
     ]
    }
   ],
   "source": [
    "my_nums = '17;92;81;12;46;5'\n",
    "# Splitting & printing the string with ';' attribute.\n",
    "print(my_nums.split(';'))"
   ]
  },
  {
   "cell_type": "markdown",
   "id": "ecf37ebd",
   "metadata": {},
   "source": [
    "### STRIP, LSTRIP, RSTRIP can be used to remove respective empty spaces in a string"
   ]
  },
  {
   "cell_type": "code",
   "execution_count": 11,
   "id": "91615974",
   "metadata": {},
   "outputs": [
    {
     "name": "stdout",
     "output_type": "stream",
     "text": [
      "I am batman\n",
      "I am batman      \n",
      "     I am batman\n"
     ]
    }
   ],
   "source": [
    "d = '     I am batman      '\n",
    "# Removing all leading & trailing whitespace characters\n",
    "print(d.strip())\n",
    "# Removing all leading whitespace characters \n",
    "print(d.lstrip())\n",
    "# Removing all trailing whitespace characters \n",
    "print(d.rstrip())"
   ]
  },
  {
   "cell_type": "markdown",
   "id": "4b467c05",
   "metadata": {},
   "source": [
    "### Also we can remove special characters respectively from a string"
   ]
  },
  {
   "cell_type": "code",
   "execution_count": 12,
   "id": "1ace6053",
   "metadata": {},
   "outputs": [
    {
     "name": "stdout",
     "output_type": "stream",
     "text": [
      "I am batman\n",
      "I am batman@@@@@@\n",
      "@@@@@@I am batman\n"
     ]
    }
   ],
   "source": [
    "d = '@@@@@@I am batman@@@@@@'\n",
    "# Removing all leading and trailing '@' character \n",
    "print(d.strip('@'))\n",
    "# Removing all leading '@' character \n",
    "print(d.lstrip('@'))\n",
    "# Removing trailing '@' character \n",
    "print(d.rstrip('@'))"
   ]
  },
  {
   "cell_type": "markdown",
   "id": "da97c33f",
   "metadata": {},
   "source": [
    "## STRING TESTING METHODS"
   ]
  },
  {
   "cell_type": "markdown",
   "id": "4a0beea3",
   "metadata": {},
   "source": [
    "### All the string testing methods and their demonstation is given below . Each method have different use cases"
   ]
  },
  {
   "cell_type": "code",
   "execution_count": 13,
   "id": "28eadb05",
   "metadata": {},
   "outputs": [
    {
     "name": "stdout",
     "output_type": "stream",
     "text": [
      "True\n"
     ]
    }
   ],
   "source": [
    "str = 'IamBatman1092'\n",
    "# Checking  if a string contains both alphabets & numbers \n",
    "print(str.isalnum())"
   ]
  },
  {
   "cell_type": "code",
   "execution_count": null,
   "id": "c6ff6e7e",
   "metadata": {},
   "outputs": [],
   "source": []
  },
  {
   "cell_type": "code",
   "execution_count": 14,
   "id": "cc33587a",
   "metadata": {},
   "outputs": [
    {
     "name": "stdout",
     "output_type": "stream",
     "text": [
      "False\n"
     ]
    }
   ],
   "source": [
    "# Checking  if a string contains numbers \n",
    "print(str.isdigit())"
   ]
  },
  {
   "cell_type": "code",
   "execution_count": 15,
   "id": "e8f0b729",
   "metadata": {},
   "outputs": [
    {
     "name": "stdout",
     "output_type": "stream",
     "text": [
      "False\n"
     ]
    }
   ],
   "source": [
    "# Checking if a string contains alphabets  \n",
    "print(str.isalpha())"
   ]
  },
  {
   "cell_type": "code",
   "execution_count": 16,
   "id": "444b345f",
   "metadata": {},
   "outputs": [
    {
     "name": "stdout",
     "output_type": "stream",
     "text": [
      "False\n"
     ]
    }
   ],
   "source": [
    "# Checking  if all the characters of a string is uppercase\n",
    "print(str.isupper())"
   ]
  },
  {
   "cell_type": "code",
   "execution_count": 17,
   "id": "37c743f5",
   "metadata": {},
   "outputs": [
    {
     "name": "stdout",
     "output_type": "stream",
     "text": [
      "False\n"
     ]
    }
   ],
   "source": [
    "# Checking  if all the characters of a string is lowercase\n",
    "print(str.islower())"
   ]
  },
  {
   "cell_type": "markdown",
   "id": "194e7a30",
   "metadata": {},
   "source": [
    "## STRING FINDING METHODS"
   ]
  },
  {
   "cell_type": "code",
   "execution_count": 18,
   "id": "fb17d2b0",
   "metadata": {},
   "outputs": [
    {
     "name": "stdout",
     "output_type": "stream",
     "text": [
      "False\n"
     ]
    }
   ],
   "source": [
    "# Checking  if the ending character of a string is '9'\n",
    "print(str.endswith('9'))"
   ]
  },
  {
   "cell_type": "code",
   "execution_count": 19,
   "id": "bd3d04f9",
   "metadata": {},
   "outputs": [
    {
     "name": "stdout",
     "output_type": "stream",
     "text": [
      "True\n"
     ]
    }
   ],
   "source": [
    "# Checking  if the starting character of a string is 'I'\n",
    "print(str.startswith('I'))"
   ]
  },
  {
   "cell_type": "code",
   "execution_count": 20,
   "id": "a60681a8",
   "metadata": {},
   "outputs": [
    {
     "name": "stdout",
     "output_type": "stream",
     "text": [
      "1\n"
     ]
    }
   ],
   "source": [
    "# Returning the index of first occuraance of 'am'\n",
    "print(str.find('am'))"
   ]
  },
  {
   "cell_type": "code",
   "execution_count": 23,
   "id": "dc40ae9b",
   "metadata": {},
   "outputs": [
    {
     "name": "stdout",
     "output_type": "stream",
     "text": [
      "IisBatman1092\n"
     ]
    }
   ],
   "source": [
    "# Replacing 'am' with 'is'\n",
    "print(str.replace('am','is'))"
   ]
  }
 ],
 "metadata": {
  "kernelspec": {
   "display_name": "Python 3 (ipykernel)",
   "language": "python",
   "name": "python3"
  },
  "language_info": {
   "codemirror_mode": {
    "name": "ipython",
    "version": 3
   },
   "file_extension": ".py",
   "mimetype": "text/x-python",
   "name": "python",
   "nbconvert_exporter": "python",
   "pygments_lexer": "ipython3",
   "version": "3.9.7"
  },
  "varInspector": {
   "cols": {
    "lenName": 16,
    "lenType": 16,
    "lenVar": 40
   },
   "kernels_config": {
    "python": {
     "delete_cmd_postfix": "",
     "delete_cmd_prefix": "del ",
     "library": "var_list.py",
     "varRefreshCmd": "print(var_dic_list())"
    },
    "r": {
     "delete_cmd_postfix": ") ",
     "delete_cmd_prefix": "rm(",
     "library": "var_list.r",
     "varRefreshCmd": "cat(var_dic_list()) "
    }
   },
   "types_to_exclude": [
    "module",
    "function",
    "builtin_function_or_method",
    "instance",
    "_Feature"
   ],
   "window_display": false
  }
 },
 "nbformat": 4,
 "nbformat_minor": 5
}
